{
 "cells": [
  {
   "cell_type": "code",
   "source": [
    "import numpy as np\n",
    "import pandas as pd\n",
    "import matplotlib.pyplot as plt\n",
    "import plotly.express as px"
   ],
   "metadata": {
    "collapsed": false,
    "ExecuteTime": {
     "end_time": "2024-07-13T23:34:55.429106Z",
     "start_time": "2024-07-13T23:34:54.332064Z"
    }
   },
   "outputs": [],
   "execution_count": 1
  },
  {
   "cell_type": "code",
   "source": [
    "df = pd.read_csv(\"combined.csv\")\n",
    "df"
   ],
   "metadata": {
    "collapsed": false,
    "ExecuteTime": {
     "end_time": "2024-07-13T23:34:55.447487Z",
     "start_time": "2024-07-13T23:34:55.430123Z"
    }
   },
   "outputs": [
    {
     "data": {
      "text/plain": [
       "      Unnamed: 0             Category             Answer\n",
       "0              0                Thing         GALE WINDS\n",
       "1              1               Phrase       A CHEAP SHOT\n",
       "2              2               Phrase        A GREAT BUY\n",
       "3              3               Phrase     A KODAK MOMENT\n",
       "4              4                Event  A LONG HOT SHOWER\n",
       "...          ...                  ...                ...\n",
       "3247        3251         Living Thing         GREAT DANE\n",
       "3248        3252                Event     SURPRISE PARTY\n",
       "3249        3253                Event        GARAGE SALE\n",
       "3250        3254       In The Kitchen       TOASTER OVEN\n",
       "3251        3255  Fictional Character         BETTY BOOP\n",
       "\n",
       "[3252 rows x 3 columns]"
      ],
      "text/html": [
       "<div>\n",
       "<style scoped>\n",
       "    .dataframe tbody tr th:only-of-type {\n",
       "        vertical-align: middle;\n",
       "    }\n",
       "\n",
       "    .dataframe tbody tr th {\n",
       "        vertical-align: top;\n",
       "    }\n",
       "\n",
       "    .dataframe thead th {\n",
       "        text-align: right;\n",
       "    }\n",
       "</style>\n",
       "<table border=\"1\" class=\"dataframe\">\n",
       "  <thead>\n",
       "    <tr style=\"text-align: right;\">\n",
       "      <th></th>\n",
       "      <th>Unnamed: 0</th>\n",
       "      <th>Category</th>\n",
       "      <th>Answer</th>\n",
       "    </tr>\n",
       "  </thead>\n",
       "  <tbody>\n",
       "    <tr>\n",
       "      <th>0</th>\n",
       "      <td>0</td>\n",
       "      <td>Thing</td>\n",
       "      <td>GALE WINDS</td>\n",
       "    </tr>\n",
       "    <tr>\n",
       "      <th>1</th>\n",
       "      <td>1</td>\n",
       "      <td>Phrase</td>\n",
       "      <td>A CHEAP SHOT</td>\n",
       "    </tr>\n",
       "    <tr>\n",
       "      <th>2</th>\n",
       "      <td>2</td>\n",
       "      <td>Phrase</td>\n",
       "      <td>A GREAT BUY</td>\n",
       "    </tr>\n",
       "    <tr>\n",
       "      <th>3</th>\n",
       "      <td>3</td>\n",
       "      <td>Phrase</td>\n",
       "      <td>A KODAK MOMENT</td>\n",
       "    </tr>\n",
       "    <tr>\n",
       "      <th>4</th>\n",
       "      <td>4</td>\n",
       "      <td>Event</td>\n",
       "      <td>A LONG HOT SHOWER</td>\n",
       "    </tr>\n",
       "    <tr>\n",
       "      <th>...</th>\n",
       "      <td>...</td>\n",
       "      <td>...</td>\n",
       "      <td>...</td>\n",
       "    </tr>\n",
       "    <tr>\n",
       "      <th>3247</th>\n",
       "      <td>3251</td>\n",
       "      <td>Living Thing</td>\n",
       "      <td>GREAT DANE</td>\n",
       "    </tr>\n",
       "    <tr>\n",
       "      <th>3248</th>\n",
       "      <td>3252</td>\n",
       "      <td>Event</td>\n",
       "      <td>SURPRISE PARTY</td>\n",
       "    </tr>\n",
       "    <tr>\n",
       "      <th>3249</th>\n",
       "      <td>3253</td>\n",
       "      <td>Event</td>\n",
       "      <td>GARAGE SALE</td>\n",
       "    </tr>\n",
       "    <tr>\n",
       "      <th>3250</th>\n",
       "      <td>3254</td>\n",
       "      <td>In The Kitchen</td>\n",
       "      <td>TOASTER OVEN</td>\n",
       "    </tr>\n",
       "    <tr>\n",
       "      <th>3251</th>\n",
       "      <td>3255</td>\n",
       "      <td>Fictional Character</td>\n",
       "      <td>BETTY BOOP</td>\n",
       "    </tr>\n",
       "  </tbody>\n",
       "</table>\n",
       "<p>3252 rows × 3 columns</p>\n",
       "</div>"
      ]
     },
     "execution_count": 2,
     "metadata": {},
     "output_type": "execute_result"
    }
   ],
   "execution_count": 2
  },
  {
   "cell_type": "code",
   "source": [
    "# counts the letters of a word as a dictionary\n",
    "def count_letters(word):\n",
    "    count = {}\n",
    "    for letter in word:\n",
    "        count[letter] = count.get(letter, 0) + 1\n",
    "    return count"
   ],
   "metadata": {
    "collapsed": false,
    "ExecuteTime": {
     "end_time": "2024-07-13T23:34:55.452475Z",
     "start_time": "2024-07-13T23:34:55.448482Z"
    }
   },
   "outputs": [],
   "execution_count": 3
  },
  {
   "cell_type": "code",
   "source": [
    "df['Letter_Count'] = df['Answer'].apply(count_letters)\n",
    "df"
   ],
   "metadata": {
    "collapsed": false,
    "ExecuteTime": {
     "end_time": "2024-07-13T23:34:55.473183Z",
     "start_time": "2024-07-13T23:34:55.453493Z"
    }
   },
   "outputs": [
    {
     "data": {
      "text/plain": [
       "      Unnamed: 0             Category             Answer  \\\n",
       "0              0                Thing         GALE WINDS   \n",
       "1              1               Phrase       A CHEAP SHOT   \n",
       "2              2               Phrase        A GREAT BUY   \n",
       "3              3               Phrase     A KODAK MOMENT   \n",
       "4              4                Event  A LONG HOT SHOWER   \n",
       "...          ...                  ...                ...   \n",
       "3247        3251         Living Thing         GREAT DANE   \n",
       "3248        3252                Event     SURPRISE PARTY   \n",
       "3249        3253                Event        GARAGE SALE   \n",
       "3250        3254       In The Kitchen       TOASTER OVEN   \n",
       "3251        3255  Fictional Character         BETTY BOOP   \n",
       "\n",
       "                                           Letter_Count  \n",
       "0     {'G': 1, 'A': 1, 'L': 1, 'E': 1, ' ': 1, 'W': ...  \n",
       "1     {'A': 2, ' ': 2, 'C': 1, 'H': 2, 'E': 1, 'P': ...  \n",
       "2     {'A': 2, ' ': 2, 'G': 1, 'R': 1, 'E': 1, 'T': ...  \n",
       "3     {'A': 2, ' ': 2, 'K': 2, 'O': 2, 'D': 1, 'M': ...  \n",
       "4     {'A': 1, ' ': 3, 'L': 1, 'O': 3, 'N': 1, 'G': ...  \n",
       "...                                                 ...  \n",
       "3247  {'G': 1, 'R': 1, 'E': 2, 'A': 2, 'T': 1, ' ': ...  \n",
       "3248  {'S': 2, 'U': 1, 'R': 3, 'P': 2, 'I': 1, 'E': ...  \n",
       "3249  {'G': 2, 'A': 3, 'R': 1, 'E': 2, ' ': 1, 'S': ...  \n",
       "3250  {'T': 2, 'O': 2, 'A': 1, 'S': 1, 'E': 2, 'R': ...  \n",
       "3251  {'B': 2, 'E': 1, 'T': 2, 'Y': 1, ' ': 1, 'O': ...  \n",
       "\n",
       "[3252 rows x 4 columns]"
      ],
      "text/html": [
       "<div>\n",
       "<style scoped>\n",
       "    .dataframe tbody tr th:only-of-type {\n",
       "        vertical-align: middle;\n",
       "    }\n",
       "\n",
       "    .dataframe tbody tr th {\n",
       "        vertical-align: top;\n",
       "    }\n",
       "\n",
       "    .dataframe thead th {\n",
       "        text-align: right;\n",
       "    }\n",
       "</style>\n",
       "<table border=\"1\" class=\"dataframe\">\n",
       "  <thead>\n",
       "    <tr style=\"text-align: right;\">\n",
       "      <th></th>\n",
       "      <th>Unnamed: 0</th>\n",
       "      <th>Category</th>\n",
       "      <th>Answer</th>\n",
       "      <th>Letter_Count</th>\n",
       "    </tr>\n",
       "  </thead>\n",
       "  <tbody>\n",
       "    <tr>\n",
       "      <th>0</th>\n",
       "      <td>0</td>\n",
       "      <td>Thing</td>\n",
       "      <td>GALE WINDS</td>\n",
       "      <td>{'G': 1, 'A': 1, 'L': 1, 'E': 1, ' ': 1, 'W': ...</td>\n",
       "    </tr>\n",
       "    <tr>\n",
       "      <th>1</th>\n",
       "      <td>1</td>\n",
       "      <td>Phrase</td>\n",
       "      <td>A CHEAP SHOT</td>\n",
       "      <td>{'A': 2, ' ': 2, 'C': 1, 'H': 2, 'E': 1, 'P': ...</td>\n",
       "    </tr>\n",
       "    <tr>\n",
       "      <th>2</th>\n",
       "      <td>2</td>\n",
       "      <td>Phrase</td>\n",
       "      <td>A GREAT BUY</td>\n",
       "      <td>{'A': 2, ' ': 2, 'G': 1, 'R': 1, 'E': 1, 'T': ...</td>\n",
       "    </tr>\n",
       "    <tr>\n",
       "      <th>3</th>\n",
       "      <td>3</td>\n",
       "      <td>Phrase</td>\n",
       "      <td>A KODAK MOMENT</td>\n",
       "      <td>{'A': 2, ' ': 2, 'K': 2, 'O': 2, 'D': 1, 'M': ...</td>\n",
       "    </tr>\n",
       "    <tr>\n",
       "      <th>4</th>\n",
       "      <td>4</td>\n",
       "      <td>Event</td>\n",
       "      <td>A LONG HOT SHOWER</td>\n",
       "      <td>{'A': 1, ' ': 3, 'L': 1, 'O': 3, 'N': 1, 'G': ...</td>\n",
       "    </tr>\n",
       "    <tr>\n",
       "      <th>...</th>\n",
       "      <td>...</td>\n",
       "      <td>...</td>\n",
       "      <td>...</td>\n",
       "      <td>...</td>\n",
       "    </tr>\n",
       "    <tr>\n",
       "      <th>3247</th>\n",
       "      <td>3251</td>\n",
       "      <td>Living Thing</td>\n",
       "      <td>GREAT DANE</td>\n",
       "      <td>{'G': 1, 'R': 1, 'E': 2, 'A': 2, 'T': 1, ' ': ...</td>\n",
       "    </tr>\n",
       "    <tr>\n",
       "      <th>3248</th>\n",
       "      <td>3252</td>\n",
       "      <td>Event</td>\n",
       "      <td>SURPRISE PARTY</td>\n",
       "      <td>{'S': 2, 'U': 1, 'R': 3, 'P': 2, 'I': 1, 'E': ...</td>\n",
       "    </tr>\n",
       "    <tr>\n",
       "      <th>3249</th>\n",
       "      <td>3253</td>\n",
       "      <td>Event</td>\n",
       "      <td>GARAGE SALE</td>\n",
       "      <td>{'G': 2, 'A': 3, 'R': 1, 'E': 2, ' ': 1, 'S': ...</td>\n",
       "    </tr>\n",
       "    <tr>\n",
       "      <th>3250</th>\n",
       "      <td>3254</td>\n",
       "      <td>In The Kitchen</td>\n",
       "      <td>TOASTER OVEN</td>\n",
       "      <td>{'T': 2, 'O': 2, 'A': 1, 'S': 1, 'E': 2, 'R': ...</td>\n",
       "    </tr>\n",
       "    <tr>\n",
       "      <th>3251</th>\n",
       "      <td>3255</td>\n",
       "      <td>Fictional Character</td>\n",
       "      <td>BETTY BOOP</td>\n",
       "      <td>{'B': 2, 'E': 1, 'T': 2, 'Y': 1, ' ': 1, 'O': ...</td>\n",
       "    </tr>\n",
       "  </tbody>\n",
       "</table>\n",
       "<p>3252 rows × 4 columns</p>\n",
       "</div>"
      ]
     },
     "execution_count": 4,
     "metadata": {},
     "output_type": "execute_result"
    }
   ],
   "execution_count": 4
  },
  {
   "cell_type": "code",
   "source": [
    "total_letter_count = {}\n",
    "for letter_count in df[\"Letter_Count\"]:\n",
    "    for letter, count in letter_count.items():\n",
    "        total_letter_count[letter] = total_letter_count.get(letter, 0) + count\n",
    "\n",
    "total_letter_df = pd.DataFrame(total_letter_count.items(), columns=['Letter', 'Total_Count'])\n",
    "total_letter_df.head()"
   ],
   "metadata": {
    "collapsed": false,
    "ExecuteTime": {
     "end_time": "2024-07-13T23:34:55.489164Z",
     "start_time": "2024-07-13T23:34:55.475177Z"
    }
   },
   "outputs": [
    {
     "data": {
      "text/plain": [
       "  Letter  Total_Count\n",
       "0      G         1183\n",
       "1      A         3435\n",
       "2      L         1786\n",
       "3      E         3742\n",
       "4                3339"
      ],
      "text/html": [
       "<div>\n",
       "<style scoped>\n",
       "    .dataframe tbody tr th:only-of-type {\n",
       "        vertical-align: middle;\n",
       "    }\n",
       "\n",
       "    .dataframe tbody tr th {\n",
       "        vertical-align: top;\n",
       "    }\n",
       "\n",
       "    .dataframe thead th {\n",
       "        text-align: right;\n",
       "    }\n",
       "</style>\n",
       "<table border=\"1\" class=\"dataframe\">\n",
       "  <thead>\n",
       "    <tr style=\"text-align: right;\">\n",
       "      <th></th>\n",
       "      <th>Letter</th>\n",
       "      <th>Total_Count</th>\n",
       "    </tr>\n",
       "  </thead>\n",
       "  <tbody>\n",
       "    <tr>\n",
       "      <th>0</th>\n",
       "      <td>G</td>\n",
       "      <td>1183</td>\n",
       "    </tr>\n",
       "    <tr>\n",
       "      <th>1</th>\n",
       "      <td>A</td>\n",
       "      <td>3435</td>\n",
       "    </tr>\n",
       "    <tr>\n",
       "      <th>2</th>\n",
       "      <td>L</td>\n",
       "      <td>1786</td>\n",
       "    </tr>\n",
       "    <tr>\n",
       "      <th>3</th>\n",
       "      <td>E</td>\n",
       "      <td>3742</td>\n",
       "    </tr>\n",
       "    <tr>\n",
       "      <th>4</th>\n",
       "      <td></td>\n",
       "      <td>3339</td>\n",
       "    </tr>\n",
       "  </tbody>\n",
       "</table>\n",
       "</div>"
      ]
     },
     "execution_count": 5,
     "metadata": {},
     "output_type": "execute_result"
    }
   ],
   "execution_count": 5
  },
  {
   "cell_type": "code",
   "source": [
    "total_letter_df = total_letter_df.sort_values(\"Total_Count\", ascending=False)"
   ],
   "metadata": {
    "collapsed": false,
    "ExecuteTime": {
     "end_time": "2024-07-13T23:34:55.495365Z",
     "start_time": "2024-07-13T23:34:55.490137Z"
    }
   },
   "outputs": [],
   "execution_count": 6
  },
  {
   "cell_type": "code",
   "source": [
    "\n",
    "\n",
    "# Assuming you have the 'total_letter_df' DataFrame from your previous code\n",
    "\n",
    "# Extract the letters and their corresponding counts\n",
    "letters = total_letter_df['Letter'][:28]\n",
    "counts = total_letter_df['Total_Count'][:28]\n",
    "\n",
    "# Define a function to set colors based on whether the letter is a vowel or consonant\n",
    "def set_color(letter):\n",
    "    vowels = 'aeiouAEIOU'\n",
    "    if letter in \"RSTLNE\":\n",
    "        return 'green'\n",
    "    if letter in vowels:\n",
    "        return 'blue'  # Set color for vowels to blue\n",
    "    else:\n",
    "        return 'red'   # Set color for consonants to red\n",
    "\n",
    "# Create a list of colors based on the letters\n",
    "colors = [set_color(letter) for letter in letters]\n",
    "\n",
    "# Create a bar plot (histogram) with different colors for vowels and consonants\n",
    "plt.bar(letters, counts, color=colors)\n",
    "\n",
    "# Label the axes and set a title\n",
    "plt.xlabel('Letters')\n",
    "plt.ylabel('Total Count')\n",
    "plt.title('Letter Occurrences Histogram (Vowels in Blue, Consonants in Red, RSTLNE in Green)')\n",
    "\n",
    "# Show the plot\n",
    "plt.show()"
   ],
   "metadata": {
    "collapsed": false,
    "ExecuteTime": {
     "end_time": "2024-07-13T23:34:55.787559Z",
     "start_time": "2024-07-13T23:34:55.496326Z"
    }
   },
   "outputs": [
    {
     "data": {
      "text/plain": [
       "<Figure size 640x480 with 1 Axes>"
      ],
      "image/png": "[encoded data removed]"
     },
     "metadata": {},
     "output_type": "display_data"
    }
   ],
   "execution_count": 7
  },
  {
   "cell_type": "code",
   "source": [
    "plt.bar(letters, counts/3252, color=colors)\n",
    "\n",
    "# Label the axes and set a title\n",
    "plt.xlabel('Letters')\n",
    "plt.ylabel('Total Count')\n",
    "plt.title('Average Letter Occurrences Histogram (Vowels in Blue, Consonants in Red, RSTLNE in Green)')\n",
    "\n",
    "# Show the plot\n",
    "plt.show()"
   ],
   "metadata": {
    "collapsed": false,
    "ExecuteTime": {
     "end_time": "2024-07-13T23:34:55.976784Z",
     "start_time": "2024-07-13T23:34:55.788556Z"
    }
   },
   "outputs": [
    {
     "data": {
      "text/plain": [
       "<Figure size 640x480 with 1 Axes>"
      ],
      "image/png": "[encoded data removed]"
     },
     "metadata": {},
     "output_type": "display_data"
    }
   ],
   "execution_count": 8
  },
  {
   "cell_type": "markdown",
   "source": [
    "# That was the total occurances of letters. Now lets see the presence of a letter in a given word"
   ],
   "metadata": {
    "collapsed": false
   }
  },
  {
   "cell_type": "code",
   "source": [
    "def count_presence(word):\n",
    "    letters_present = set()\n",
    "    for letter in word:\n",
    "        letters_present.add(letter)\n",
    "    return letters_present"
   ],
   "metadata": {
    "collapsed": false,
    "ExecuteTime": {
     "end_time": "2024-07-13T23:34:55.981232Z",
     "start_time": "2024-07-13T23:34:55.977782Z"
    }
   },
   "outputs": [],
   "execution_count": 9
  },
  {
   "cell_type": "code",
   "source": [
    "df['Letters_Present'] = df['Answer'].apply(count_presence)\n",
    "df.head()"
   ],
   "metadata": {
    "collapsed": false,
    "ExecuteTime": {
     "end_time": "2024-07-13T23:34:55.999181Z",
     "start_time": "2024-07-13T23:34:55.982228Z"
    }
   },
   "outputs": [
    {
     "data": {
      "text/plain": [
       "   Unnamed: 0 Category             Answer  \\\n",
       "0           0    Thing         GALE WINDS   \n",
       "1           1   Phrase       A CHEAP SHOT   \n",
       "2           2   Phrase        A GREAT BUY   \n",
       "3           3   Phrase     A KODAK MOMENT   \n",
       "4           4    Event  A LONG HOT SHOWER   \n",
       "\n",
       "                                        Letter_Count  \\\n",
       "0  {'G': 1, 'A': 1, 'L': 1, 'E': 1, ' ': 1, 'W': ...   \n",
       "1  {'A': 2, ' ': 2, 'C': 1, 'H': 2, 'E': 1, 'P': ...   \n",
       "2  {'A': 2, ' ': 2, 'G': 1, 'R': 1, 'E': 1, 'T': ...   \n",
       "3  {'A': 2, ' ': 2, 'K': 2, 'O': 2, 'D': 1, 'M': ...   \n",
       "4  {'A': 1, ' ': 3, 'L': 1, 'O': 3, 'N': 1, 'G': ...   \n",
       "\n",
       "                        Letters_Present  \n",
       "0        {I, A, W, L, G, N, S,  , E, D}  \n",
       "1           {A, C, T, P, H, S,  , E, O}  \n",
       "2           {A, G, R, Y, U, T, B,  , E}  \n",
       "3           {A, N, T, K,  , E, D, M, O}  \n",
       "4  {A, W, L, G, R, N, T, H, S,  , E, O}  "
      ],
      "text/html": [
       "<div>\n",
       "<style scoped>\n",
       "    .dataframe tbody tr th:only-of-type {\n",
       "        vertical-align: middle;\n",
       "    }\n",
       "\n",
       "    .dataframe tbody tr th {\n",
       "        vertical-align: top;\n",
       "    }\n",
       "\n",
       "    .dataframe thead th {\n",
       "        text-align: right;\n",
       "    }\n",
       "</style>\n",
       "<table border=\"1\" class=\"dataframe\">\n",
       "  <thead>\n",
       "    <tr style=\"text-align: right;\">\n",
       "      <th></th>\n",
       "      <th>Unnamed: 0</th>\n",
       "      <th>Category</th>\n",
       "      <th>Answer</th>\n",
       "      <th>Letter_Count</th>\n",
       "      <th>Letters_Present</th>\n",
       "    </tr>\n",
       "  </thead>\n",
       "  <tbody>\n",
       "    <tr>\n",
       "      <th>0</th>\n",
       "      <td>0</td>\n",
       "      <td>Thing</td>\n",
       "      <td>GALE WINDS</td>\n",
       "      <td>{'G': 1, 'A': 1, 'L': 1, 'E': 1, ' ': 1, 'W': ...</td>\n",
       "      <td>{I, A, W, L, G, N, S,  , E, D}</td>\n",
       "    </tr>\n",
       "    <tr>\n",
       "      <th>1</th>\n",
       "      <td>1</td>\n",
       "      <td>Phrase</td>\n",
       "      <td>A CHEAP SHOT</td>\n",
       "      <td>{'A': 2, ' ': 2, 'C': 1, 'H': 2, 'E': 1, 'P': ...</td>\n",
       "      <td>{A, C, T, P, H, S,  , E, O}</td>\n",
       "    </tr>\n",
       "    <tr>\n",
       "      <th>2</th>\n",
       "      <td>2</td>\n",
       "      <td>Phrase</td>\n",
       "      <td>A GREAT BUY</td>\n",
       "      <td>{'A': 2, ' ': 2, 'G': 1, 'R': 1, 'E': 1, 'T': ...</td>\n",
       "      <td>{A, G, R, Y, U, T, B,  , E}</td>\n",
       "    </tr>\n",
       "    <tr>\n",
       "      <th>3</th>\n",
       "      <td>3</td>\n",
       "      <td>Phrase</td>\n",
       "      <td>A KODAK MOMENT</td>\n",
       "      <td>{'A': 2, ' ': 2, 'K': 2, 'O': 2, 'D': 1, 'M': ...</td>\n",
       "      <td>{A, N, T, K,  , E, D, M, O}</td>\n",
       "    </tr>\n",
       "    <tr>\n",
       "      <th>4</th>\n",
       "      <td>4</td>\n",
       "      <td>Event</td>\n",
       "      <td>A LONG HOT SHOWER</td>\n",
       "      <td>{'A': 1, ' ': 3, 'L': 1, 'O': 3, 'N': 1, 'G': ...</td>\n",
       "      <td>{A, W, L, G, R, N, T, H, S,  , E, O}</td>\n",
       "    </tr>\n",
       "  </tbody>\n",
       "</table>\n",
       "</div>"
      ]
     },
     "execution_count": 10,
     "metadata": {},
     "output_type": "execute_result"
    }
   ],
   "execution_count": 10
  },
  {
   "cell_type": "code",
   "source": [
    "total_letter_presence = {}\n",
    "for letters_present in df[\"Letters_Present\"]:\n",
    "    for letter in letters_present:\n",
    "        total_letter_presence[letter] = total_letter_presence.get(letter, 0) + 1\n",
    "\n",
    "total_presence_df = pd.DataFrame(total_letter_presence.items(), columns=['Letter', 'Total_Presence'])\n",
    "total_presence_df.head()"
   ],
   "metadata": {
    "collapsed": false,
    "ExecuteTime": {
     "end_time": "2024-07-13T23:34:56.014061Z",
     "start_time": "2024-07-13T23:34:56.000179Z"
    }
   },
   "outputs": [
    {
     "data": {
      "text/plain": [
       "  Letter  Total_Presence\n",
       "0      I            1897\n",
       "1      A            2242\n",
       "2      W             491\n",
       "3      L            1363\n",
       "4      G             988"
      ],
      "text/html": [
       "<div>\n",
       "<style scoped>\n",
       "    .dataframe tbody tr th:only-of-type {\n",
       "        vertical-align: middle;\n",
       "    }\n",
       "\n",
       "    .dataframe tbody tr th {\n",
       "        vertical-align: top;\n",
       "    }\n",
       "\n",
       "    .dataframe thead th {\n",
       "        text-align: right;\n",
       "    }\n",
       "</style>\n",
       "<table border=\"1\" class=\"dataframe\">\n",
       "  <thead>\n",
       "    <tr style=\"text-align: right;\">\n",
       "      <th></th>\n",
       "      <th>Letter</th>\n",
       "      <th>Total_Presence</th>\n",
       "    </tr>\n",
       "  </thead>\n",
       "  <tbody>\n",
       "    <tr>\n",
       "      <th>0</th>\n",
       "      <td>I</td>\n",
       "      <td>1897</td>\n",
       "    </tr>\n",
       "    <tr>\n",
       "      <th>1</th>\n",
       "      <td>A</td>\n",
       "      <td>2242</td>\n",
       "    </tr>\n",
       "    <tr>\n",
       "      <th>2</th>\n",
       "      <td>W</td>\n",
       "      <td>491</td>\n",
       "    </tr>\n",
       "    <tr>\n",
       "      <th>3</th>\n",
       "      <td>L</td>\n",
       "      <td>1363</td>\n",
       "    </tr>\n",
       "    <tr>\n",
       "      <th>4</th>\n",
       "      <td>G</td>\n",
       "      <td>988</td>\n",
       "    </tr>\n",
       "  </tbody>\n",
       "</table>\n",
       "</div>"
      ]
     },
     "execution_count": 11,
     "metadata": {},
     "output_type": "execute_result"
    }
   ],
   "execution_count": 11
  },
  {
   "cell_type": "code",
   "source": [
    "new_total_presence_df = total_presence_df.sort_values(\"Total_Presence\", ascending=False)\n",
    "new_total_presence_df"
   ],
   "metadata": {
    "collapsed": false,
    "ExecuteTime": {
     "end_time": "2024-07-13T23:34:56.029005Z",
     "start_time": "2024-07-13T23:34:56.015017Z"
    }
   },
   "outputs": [
    {
     "data": {
      "text/plain": [
       "   Letter  Total_Presence\n",
       "7                    2740\n",
       "8       E            2299\n",
       "1       A            2242\n",
       "14      O            1906\n",
       "0       I            1897\n",
       "15      R            1880\n",
       "6       S            1737\n",
       "5       N            1726\n",
       "11      T            1678\n",
       "3       L            1363\n",
       "10      C            1331\n",
       "9       D            1139\n",
       "13      H            1116\n",
       "17      U            1067\n",
       "4       G             988\n",
       "12      P             974\n",
       "20      M             860\n",
       "18      B             844\n",
       "16      Y             712\n",
       "19      K             632\n",
       "21      F             583\n",
       "2       W             491\n",
       "22      V             366\n",
       "23      J             145\n",
       "32      X              96\n",
       "31      Z              95\n",
       "35      -              80\n",
       "30      Q              59\n",
       "24      '              47\n",
       "25      &              35\n",
       "27      a              35\n",
       "28      m              35\n",
       "29      ;              35\n",
       "26      p              35\n",
       "33      !               9\n",
       "41      .               8\n",
       "36      ?               3\n",
       "37      i               2\n",
       "38      g               2\n",
       "40      n               2\n",
       "42      2               1\n",
       "43      s               1\n",
       "34      \"               1\n",
       "39      e               1\n",
       "44      `               1"
      ],
      "text/html": [
       "<div>\n",
       "<style scoped>\n",
       "    .dataframe tbody tr th:only-of-type {\n",
       "        vertical-align: middle;\n",
       "    }\n",
       "\n",
       "    .dataframe tbody tr th {\n",
       "        vertical-align: top;\n",
       "    }\n",
       "\n",
       "    .dataframe thead th {\n",
       "        text-align: right;\n",
       "    }\n",
       "</style>\n",
       "<table border=\"1\" class=\"dataframe\">\n",
       "  <thead>\n",
       "    <tr style=\"text-align: right;\">\n",
       "      <th></th>\n",
       "      <th>Letter</th>\n",
       "      <th>Total_Presence</th>\n",
       "    </tr>\n",
       "  </thead>\n",
       "  <tbody>\n",
       "    <tr>\n",
       "      <th>7</th>\n",
       "      <td></td>\n",
       "      <td>2740</td>\n",
       "    </tr>\n",
       "    <tr>\n",
       "      <th>8</th>\n",
       "      <td>E</td>\n",
       "      <td>2299</td>\n",
       "    </tr>\n",
       "    <tr>\n",
       "      <th>1</th>\n",
       "      <td>A</td>\n",
       "      <td>2242</td>\n",
       "    </tr>\n",
       "    <tr>\n",
       "      <th>14</th>\n",
       "      <td>O</td>\n",
       "      <td>1906</td>\n",
       "    </tr>\n",
       "    <tr>\n",
       "      <th>0</th>\n",
       "      <td>I</td>\n",
       "      <td>1897</td>\n",
       "    </tr>\n",
       "    <tr>\n",
       "      <th>15</th>\n",
       "      <td>R</td>\n",
       "      <td>1880</td>\n",
       "    </tr>\n",
       "    <tr>\n",
       "      <th>6</th>\n",
       "      <td>S</td>\n",
       "      <td>1737</td>\n",
       "    </tr>\n",
       "    <tr>\n",
       "      <th>5</th>\n",
       "      <td>N</td>\n",
       "      <td>1726</td>\n",
       "    </tr>\n",
       "    <tr>\n",
       "      <th>11</th>\n",
       "      <td>T</td>\n",
       "      <td>1678</td>\n",
       "    </tr>\n",
       "    <tr>\n",
       "      <th>3</th>\n",
       "      <td>L</td>\n",
       "      <td>1363</td>\n",
       "    </tr>\n",
       "    <tr>\n",
       "      <th>10</th>\n",
       "      <td>C</td>\n",
       "      <td>1331</td>\n",
       "    </tr>\n",
       "    <tr>\n",
       "      <th>9</th>\n",
       "      <td>D</td>\n",
       "      <td>1139</td>\n",
       "    </tr>\n",
       "    <tr>\n",
       "      <th>13</th>\n",
       "      <td>H</td>\n",
       "      <td>1116</td>\n",
       "    </tr>\n",
       "    <tr>\n",
       "      <th>17</th>\n",
       "      <td>U</td>\n",
       "      <td>1067</td>\n",
       "    </tr>\n",
       "    <tr>\n",
       "      <th>4</th>\n",
       "      <td>G</td>\n",
       "      <td>988</td>\n",
       "    </tr>\n",
       "    <tr>\n",
       "      <th>12</th>\n",
       "      <td>P</td>\n",
       "      <td>974</td>\n",
       "    </tr>\n",
       "    <tr>\n",
       "      <th>20</th>\n",
       "      <td>M</td>\n",
       "      <td>860</td>\n",
       "    </tr>\n",
       "    <tr>\n",
       "      <th>18</th>\n",
       "      <td>B</td>\n",
       "      <td>844</td>\n",
       "    </tr>\n",
       "    <tr>\n",
       "      <th>16</th>\n",
       "      <td>Y</td>\n",
       "      <td>712</td>\n",
       "    </tr>\n",
       "    <tr>\n",
       "      <th>19</th>\n",
       "      <td>K</td>\n",
       "      <td>632</td>\n",
       "    </tr>\n",
       "    <tr>\n",
       "      <th>21</th>\n",
       "      <td>F</td>\n",
       "      <td>583</td>\n",
       "    </tr>\n",
       "    <tr>\n",
       "      <th>2</th>\n",
       "      <td>W</td>\n",
       "      <td>491</td>\n",
       "    </tr>\n",
       "    <tr>\n",
       "      <th>22</th>\n",
       "      <td>V</td>\n",
       "      <td>366</td>\n",
       "    </tr>\n",
       "    <tr>\n",
       "      <th>23</th>\n",
       "      <td>J</td>\n",
       "      <td>145</td>\n",
       "    </tr>\n",
       "    <tr>\n",
       "      <th>32</th>\n",
       "      <td>X</td>\n",
       "      <td>96</td>\n",
       "    </tr>\n",
       "    <tr>\n",
       "      <th>31</th>\n",
       "      <td>Z</td>\n",
       "      <td>95</td>\n",
       "    </tr>\n",
       "    <tr>\n",
       "      <th>35</th>\n",
       "      <td>-</td>\n",
       "      <td>80</td>\n",
       "    </tr>\n",
       "    <tr>\n",
       "      <th>30</th>\n",
       "      <td>Q</td>\n",
       "      <td>59</td>\n",
       "    </tr>\n",
       "    <tr>\n",
       "      <th>24</th>\n",
       "      <td>'</td>\n",
       "      <td>47</td>\n",
       "    </tr>\n",
       "    <tr>\n",
       "      <th>25</th>\n",
       "      <td>&amp;</td>\n",
       "      <td>35</td>\n",
       "    </tr>\n",
       "    <tr>\n",
       "      <th>27</th>\n",
       "      <td>a</td>\n",
       "      <td>35</td>\n",
       "    </tr>\n",
       "    <tr>\n",
       "      <th>28</th>\n",
       "      <td>m</td>\n",
       "      <td>35</td>\n",
       "    </tr>\n",
       "    <tr>\n",
       "      <th>29</th>\n",
       "      <td>;</td>\n",
       "      <td>35</td>\n",
       "    </tr>\n",
       "    <tr>\n",
       "      <th>26</th>\n",
       "      <td>p</td>\n",
       "      <td>35</td>\n",
       "    </tr>\n",
       "    <tr>\n",
       "      <th>33</th>\n",
       "      <td>!</td>\n",
       "      <td>9</td>\n",
       "    </tr>\n",
       "    <tr>\n",
       "      <th>41</th>\n",
       "      <td>.</td>\n",
       "      <td>8</td>\n",
       "    </tr>\n",
       "    <tr>\n",
       "      <th>36</th>\n",
       "      <td>?</td>\n",
       "      <td>3</td>\n",
       "    </tr>\n",
       "    <tr>\n",
       "      <th>37</th>\n",
       "      <td>i</td>\n",
       "      <td>2</td>\n",
       "    </tr>\n",
       "    <tr>\n",
       "      <th>38</th>\n",
       "      <td>g</td>\n",
       "      <td>2</td>\n",
       "    </tr>\n",
       "    <tr>\n",
       "      <th>40</th>\n",
       "      <td>n</td>\n",
       "      <td>2</td>\n",
       "    </tr>\n",
       "    <tr>\n",
       "      <th>42</th>\n",
       "      <td>2</td>\n",
       "      <td>1</td>\n",
       "    </tr>\n",
       "    <tr>\n",
       "      <th>43</th>\n",
       "      <td>s</td>\n",
       "      <td>1</td>\n",
       "    </tr>\n",
       "    <tr>\n",
       "      <th>34</th>\n",
       "      <td>\"</td>\n",
       "      <td>1</td>\n",
       "    </tr>\n",
       "    <tr>\n",
       "      <th>39</th>\n",
       "      <td>e</td>\n",
       "      <td>1</td>\n",
       "    </tr>\n",
       "    <tr>\n",
       "      <th>44</th>\n",
       "      <td>`</td>\n",
       "      <td>1</td>\n",
       "    </tr>\n",
       "  </tbody>\n",
       "</table>\n",
       "</div>"
      ]
     },
     "execution_count": 12,
     "metadata": {},
     "output_type": "execute_result"
    }
   ],
   "execution_count": 12
  },
  {
   "cell_type": "code",
   "source": [
    "# Extract the letters and their corresponding counts\n",
    "letters = new_total_presence_df['Letter'][:28]\n",
    "counts = new_total_presence_df['Total_Presence'][:28]\n",
    "\n",
    "# Define a function to set colors based on whether the letter is a vowel or consonant\n",
    "def set_color(letter):\n",
    "    vowels = 'aeiouAEIOU'\n",
    "    if letter in \"RSTLNE\":\n",
    "        return 'green'\n",
    "    if letter in vowels:\n",
    "        return 'blue'  # Set color for vowels to blue\n",
    "    else:\n",
    "        return 'red'   # Set color for consonants to red\n",
    "\n",
    "# Create a list of colors based on the letters\n",
    "colors = [set_color(letter) for letter in letters]\n",
    "\n",
    "# Create a bar plot (histogram) with different colors for vowels and consonants\n",
    "plt.bar(letters, counts, color=colors)\n",
    "\n",
    "# Label the axes and set a title\n",
    "plt.xlabel('Letters')\n",
    "plt.ylabel('Total Presence')\n",
    "plt.title('Letter Presence Histogram (Vowels in Blue, Consonants in Red, RSTLNE in Green)')\n",
    "\n",
    "# Show the plot\n",
    "plt.show()"
   ],
   "metadata": {
    "collapsed": false,
    "ExecuteTime": {
     "end_time": "2024-07-13T23:34:56.220332Z",
     "start_time": "2024-07-13T23:34:56.030002Z"
    }
   },
   "outputs": [
    {
     "data": {
      "text/plain": [
       "<Figure size 640x480 with 1 Axes>"
      ],
      "image/png": "[encoded data removed]"
     },
     "metadata": {},
     "output_type": "display_data"
    }
   ],
   "execution_count": 13
  },
  {
   "cell_type": "code",
   "source": [
    "plt.bar(letters, counts/3252, color=colors)\n",
    "\n",
    "# Label the axes and set a title\n",
    "plt.xlabel('Letters')\n",
    "plt.ylabel('Average Presence')\n",
    "plt.title('Average Letter Presence Histogram (Vowels in Blue, Consonants in Red, RSTLNE in Green)')\n",
    "\n",
    "# Show the plot\n",
    "plt.show()"
   ],
   "metadata": {
    "collapsed": false,
    "ExecuteTime": {
     "end_time": "2024-07-13T23:34:56.419352Z",
     "start_time": "2024-07-13T23:34:56.223323Z"
    }
   },
   "outputs": [
    {
     "data": {
      "text/plain": [
       "<Figure size 640x480 with 1 Axes>"
      ],
      "image/png": "[encoded data removed]"
     },
     "metadata": {},
     "output_type": "display_data"
    }
   ],
   "execution_count": 14
  },
  {
   "cell_type": "markdown",
   "source": [
    "Given a set of letters and excluding another set of letters, how do the probabilities change?"
   ],
   "metadata": {
    "collapsed": false
   }
  },
  {
   "cell_type": "code",
   "source": [
    "included_set = {\"R\", \"S\", \"N\"}\n",
    "excluded_set = {\"L\", \"T\", \"E\"}\n",
    "\n",
    "include_exclude_df = df[\n",
    "    (df[\"Letters_Present\"].apply(lambda x: included_set.issubset(x))) &\n",
    "    (~ df[\"Letters_Present\"].apply(lambda x: excluded_set.intersection(x)).astype(bool))\n",
    "]\n",
    "include_exclude_df.head()"
   ],
   "metadata": {
    "collapsed": false,
    "ExecuteTime": {
     "end_time": "2024-07-13T23:34:56.432647Z",
     "start_time": "2024-07-13T23:34:56.420349Z"
    }
   },
   "outputs": [
    {
     "data": {
      "text/plain": [
       "     Unnamed: 0       Category          Answer  \\\n",
       "50           50         People       AQUARIANS   \n",
       "104         104   Living Thing    BARKING DOGS   \n",
       "264         264  Living Things  CHIRPING BIRDS   \n",
       "271         271    Proper Name    CHUCK NORRIS   \n",
       "384         384          Thing        DRY SKIN   \n",
       "\n",
       "                                          Letter_Count  \\\n",
       "50   {'A': 3, 'Q': 1, 'U': 1, 'R': 1, 'I': 1, 'N': ...   \n",
       "104  {'B': 1, 'A': 1, 'R': 1, 'K': 1, 'I': 1, 'N': ...   \n",
       "264  {'C': 1, 'H': 1, 'I': 3, 'R': 2, 'P': 1, 'N': ...   \n",
       "271  {'C': 2, 'H': 1, 'U': 1, 'K': 1, ' ': 1, 'N': ...   \n",
       "384  {'D': 1, 'R': 1, 'Y': 1, ' ': 1, 'S': 1, 'K': ...   \n",
       "\n",
       "                       Letters_Present  \n",
       "50               {I, A, R, U, N, S, Q}  \n",
       "104  {I, A, G, R, N, B, K, S,  , D, O}  \n",
       "264  {I, G, C, R, N, P, H, B, S,  , D}  \n",
       "271     {I, C, R, U, N, H, K, S,  , O}  \n",
       "384           {I, R, N, S, K,  , Y, D}  "
      ],
      "text/html": [
       "<div>\n",
       "<style scoped>\n",
       "    .dataframe tbody tr th:only-of-type {\n",
       "        vertical-align: middle;\n",
       "    }\n",
       "\n",
       "    .dataframe tbody tr th {\n",
       "        vertical-align: top;\n",
       "    }\n",
       "\n",
       "    .dataframe thead th {\n",
       "        text-align: right;\n",
       "    }\n",
       "</style>\n",
       "<table border=\"1\" class=\"dataframe\">\n",
       "  <thead>\n",
       "    <tr style=\"text-align: right;\">\n",
       "      <th></th>\n",
       "      <th>Unnamed: 0</th>\n",
       "      <th>Category</th>\n",
       "      <th>Answer</th>\n",
       "      <th>Letter_Count</th>\n",
       "      <th>Letters_Present</th>\n",
       "    </tr>\n",
       "  </thead>\n",
       "  <tbody>\n",
       "    <tr>\n",
       "      <th>50</th>\n",
       "      <td>50</td>\n",
       "      <td>People</td>\n",
       "      <td>AQUARIANS</td>\n",
       "      <td>{'A': 3, 'Q': 1, 'U': 1, 'R': 1, 'I': 1, 'N': ...</td>\n",
       "      <td>{I, A, R, U, N, S, Q}</td>\n",
       "    </tr>\n",
       "    <tr>\n",
       "      <th>104</th>\n",
       "      <td>104</td>\n",
       "      <td>Living Thing</td>\n",
       "      <td>BARKING DOGS</td>\n",
       "      <td>{'B': 1, 'A': 1, 'R': 1, 'K': 1, 'I': 1, 'N': ...</td>\n",
       "      <td>{I, A, G, R, N, B, K, S,  , D, O}</td>\n",
       "    </tr>\n",
       "    <tr>\n",
       "      <th>264</th>\n",
       "      <td>264</td>\n",
       "      <td>Living Things</td>\n",
       "      <td>CHIRPING BIRDS</td>\n",
       "      <td>{'C': 1, 'H': 1, 'I': 3, 'R': 2, 'P': 1, 'N': ...</td>\n",
       "      <td>{I, G, C, R, N, P, H, B, S,  , D}</td>\n",
       "    </tr>\n",
       "    <tr>\n",
       "      <th>271</th>\n",
       "      <td>271</td>\n",
       "      <td>Proper Name</td>\n",
       "      <td>CHUCK NORRIS</td>\n",
       "      <td>{'C': 2, 'H': 1, 'U': 1, 'K': 1, ' ': 1, 'N': ...</td>\n",
       "      <td>{I, C, R, U, N, H, K, S,  , O}</td>\n",
       "    </tr>\n",
       "    <tr>\n",
       "      <th>384</th>\n",
       "      <td>384</td>\n",
       "      <td>Thing</td>\n",
       "      <td>DRY SKIN</td>\n",
       "      <td>{'D': 1, 'R': 1, 'Y': 1, ' ': 1, 'S': 1, 'K': ...</td>\n",
       "      <td>{I, R, N, S, K,  , Y, D}</td>\n",
       "    </tr>\n",
       "  </tbody>\n",
       "</table>\n",
       "</div>"
      ]
     },
     "execution_count": 15,
     "metadata": {},
     "output_type": "execute_result"
    }
   ],
   "execution_count": 15
  },
  {
   "cell_type": "code",
   "source": [
    "inc_exc_total_letter_count = {}\n",
    "for letter_count in include_exclude_df[\"Letter_Count\"]:\n",
    "    for letter, count in letter_count.items():\n",
    "        inc_exc_total_letter_count[letter] = inc_exc_total_letter_count.get(letter, 0) + count\n",
    "\n",
    "inc_exc_total_letter_df = pd.DataFrame(inc_exc_total_letter_count.items(), columns=['Letter', 'Total_Count'])\n",
    "inc_exc_total_letter_df = inc_exc_total_letter_df.sort_values('Total_Count', ascending=False)\n",
    "inc_exc_total_letter_df"
   ],
   "metadata": {
    "collapsed": false,
    "ExecuteTime": {
     "end_time": "2024-07-13T23:34:56.442285Z",
     "start_time": "2024-07-13T23:34:56.433641Z"
    }
   },
   "outputs": [
    {
     "data": {
      "text/plain": [
       "   Letter  Total_Count\n",
       "5       N           35\n",
       "0       A           34\n",
       "3       R           34\n",
       "6       S           33\n",
       "10                  32\n",
       "12      O           28\n",
       "4       I           23\n",
       "13      C           19\n",
       "9       G           15\n",
       "7       B           13\n",
       "11      D           10\n",
       "2       U           10\n",
       "8       K            9\n",
       "14      H            8\n",
       "15      P            8\n",
       "18      M            7\n",
       "19      W            6\n",
       "17      F            6\n",
       "16      Y            4\n",
       "1       Q            2\n",
       "25      -            2\n",
       "20      &            1\n",
       "21      a            1\n",
       "22      m            1\n",
       "23      p            1\n",
       "24      ;            1\n",
       "26      X            1"
      ],
      "text/html": [
       "<div>\n",
       "<style scoped>\n",
       "    .dataframe tbody tr th:only-of-type {\n",
       "        vertical-align: middle;\n",
       "    }\n",
       "\n",
       "    .dataframe tbody tr th {\n",
       "        vertical-align: top;\n",
       "    }\n",
       "\n",
       "    .dataframe thead th {\n",
       "        text-align: right;\n",
       "    }\n",
       "</style>\n",
       "<table border=\"1\" class=\"dataframe\">\n",
       "  <thead>\n",
       "    <tr style=\"text-align: right;\">\n",
       "      <th></th>\n",
       "      <th>Letter</th>\n",
       "      <th>Total_Count</th>\n",
       "    </tr>\n",
       "  </thead>\n",
       "  <tbody>\n",
       "    <tr>\n",
       "      <th>5</th>\n",
       "      <td>N</td>\n",
       "      <td>35</td>\n",
       "    </tr>\n",
       "    <tr>\n",
       "      <th>0</th>\n",
       "      <td>A</td>\n",
       "      <td>34</td>\n",
       "    </tr>\n",
       "    <tr>\n",
       "      <th>3</th>\n",
       "      <td>R</td>\n",
       "      <td>34</td>\n",
       "    </tr>\n",
       "    <tr>\n",
       "      <th>6</th>\n",
       "      <td>S</td>\n",
       "      <td>33</td>\n",
       "    </tr>\n",
       "    <tr>\n",
       "      <th>10</th>\n",
       "      <td></td>\n",
       "      <td>32</td>\n",
       "    </tr>\n",
       "    <tr>\n",
       "      <th>12</th>\n",
       "      <td>O</td>\n",
       "      <td>28</td>\n",
       "    </tr>\n",
       "    <tr>\n",
       "      <th>4</th>\n",
       "      <td>I</td>\n",
       "      <td>23</td>\n",
       "    </tr>\n",
       "    <tr>\n",
       "      <th>13</th>\n",
       "      <td>C</td>\n",
       "      <td>19</td>\n",
       "    </tr>\n",
       "    <tr>\n",
       "      <th>9</th>\n",
       "      <td>G</td>\n",
       "      <td>15</td>\n",
       "    </tr>\n",
       "    <tr>\n",
       "      <th>7</th>\n",
       "      <td>B</td>\n",
       "      <td>13</td>\n",
       "    </tr>\n",
       "    <tr>\n",
       "      <th>11</th>\n",
       "      <td>D</td>\n",
       "      <td>10</td>\n",
       "    </tr>\n",
       "    <tr>\n",
       "      <th>2</th>\n",
       "      <td>U</td>\n",
       "      <td>10</td>\n",
       "    </tr>\n",
       "    <tr>\n",
       "      <th>8</th>\n",
       "      <td>K</td>\n",
       "      <td>9</td>\n",
       "    </tr>\n",
       "    <tr>\n",
       "      <th>14</th>\n",
       "      <td>H</td>\n",
       "      <td>8</td>\n",
       "    </tr>\n",
       "    <tr>\n",
       "      <th>15</th>\n",
       "      <td>P</td>\n",
       "      <td>8</td>\n",
       "    </tr>\n",
       "    <tr>\n",
       "      <th>18</th>\n",
       "      <td>M</td>\n",
       "      <td>7</td>\n",
       "    </tr>\n",
       "    <tr>\n",
       "      <th>19</th>\n",
       "      <td>W</td>\n",
       "      <td>6</td>\n",
       "    </tr>\n",
       "    <tr>\n",
       "      <th>17</th>\n",
       "      <td>F</td>\n",
       "      <td>6</td>\n",
       "    </tr>\n",
       "    <tr>\n",
       "      <th>16</th>\n",
       "      <td>Y</td>\n",
       "      <td>4</td>\n",
       "    </tr>\n",
       "    <tr>\n",
       "      <th>1</th>\n",
       "      <td>Q</td>\n",
       "      <td>2</td>\n",
       "    </tr>\n",
       "    <tr>\n",
       "      <th>25</th>\n",
       "      <td>-</td>\n",
       "      <td>2</td>\n",
       "    </tr>\n",
       "    <tr>\n",
       "      <th>20</th>\n",
       "      <td>&amp;</td>\n",
       "      <td>1</td>\n",
       "    </tr>\n",
       "    <tr>\n",
       "      <th>21</th>\n",
       "      <td>a</td>\n",
       "      <td>1</td>\n",
       "    </tr>\n",
       "    <tr>\n",
       "      <th>22</th>\n",
       "      <td>m</td>\n",
       "      <td>1</td>\n",
       "    </tr>\n",
       "    <tr>\n",
       "      <th>23</th>\n",
       "      <td>p</td>\n",
       "      <td>1</td>\n",
       "    </tr>\n",
       "    <tr>\n",
       "      <th>24</th>\n",
       "      <td>;</td>\n",
       "      <td>1</td>\n",
       "    </tr>\n",
       "    <tr>\n",
       "      <th>26</th>\n",
       "      <td>X</td>\n",
       "      <td>1</td>\n",
       "    </tr>\n",
       "  </tbody>\n",
       "</table>\n",
       "</div>"
      ]
     },
     "execution_count": 16,
     "metadata": {},
     "output_type": "execute_result"
    }
   ],
   "execution_count": 16
  },
  {
   "cell_type": "code",
   "source": [
    "letters = inc_exc_total_letter_df['Letter'][:28]\n",
    "counts = inc_exc_total_letter_df['Total_Count'][:28]\n",
    "\n",
    "# Create a list of colors based on the letters\n",
    "colors = [set_color(letter) for letter in letters]\n",
    "\n",
    "# Create a bar plot (histogram) with different colors for vowels and consonants\n",
    "plt.bar(letters, counts, color=colors)\n",
    "\n",
    "# Label the axes and set a title\n",
    "plt.xlabel('Letters')\n",
    "plt.ylabel('Total Count')\n",
    "plt.title(f'Letter Occurrences in Words that Include {included_set} but Exclude {excluded_set} '\n",
    "          f'(Vowels in Blue, Consonants in Red, RSTLNE in Green)')\n",
    "\n",
    "# Show the plot\n",
    "plt.show()"
   ],
   "metadata": {
    "collapsed": false,
    "ExecuteTime": {
     "end_time": "2024-07-13T23:34:56.640506Z",
     "start_time": "2024-07-13T23:34:56.443280Z"
    }
   },
   "outputs": [
    {
     "data": {
      "text/plain": [
       "<Figure size 640x480 with 1 Axes>"
      ],
      "image/png": "[encoded data removed]"
     },
     "metadata": {},
     "output_type": "display_data"
    }
   ],
   "execution_count": 17
  },
  {
   "cell_type": "code",
   "source": [],
   "metadata": {
    "collapsed": false,
    "ExecuteTime": {
     "end_time": "2024-07-13T23:34:56.643832Z",
     "start_time": "2024-07-13T23:34:56.641500Z"
    }
   },
   "outputs": [],
   "execution_count": 17
  },
  {
   "metadata": {},
   "cell_type": "markdown",
   "source": [
    "# TF-IDF\n",
    "\n",
    "TF-IDF is a way to find the most important letter in a answer, taking into account both the frequency of the letter in the answer and the commonality of the letter. \n",
    "\n",
    "Although TF-TDF is typically used in words and documents, we can still use can use same formula for letters. That is, \n",
    "$$\n",
    "\\begin{align*}\n",
    "\t\\text{tfidf}(t, d) &= \\text{tf}(t,d) \\cdot \\text{idf}(t)\\\\\n",
    "\t&= \\frac{\\text{\\# of occurences of }t\\text{ in }d}{\\text{total \\# of words in } d} \\cdot \\log\\left( \\frac{\\text{total \\# of documents}}{\\text{\\# of documents in which }t\\text{ appears}} \\right)\n",
    "\\end{align*}\n",
    "$$"
   ]
  },
  {
   "metadata": {
    "ExecuteTime": {
     "end_time": "2024-07-13T23:34:57.225284Z",
     "start_time": "2024-07-13T23:34:56.644827Z"
    }
   },
   "cell_type": "code",
   "source": [
    "letter_counts = df['Letter_Count'].apply(pd.Series).fillna(0)\n",
    "letter_counts = letter_counts.reindex(sorted(letter_counts.columns), axis=1)\n",
    "letter_counts.loc[:, 'A':'E'].head()"
   ],
   "outputs": [
    {
     "data": {
      "text/plain": [
       "     A    B    C    D    E\n",
       "0  1.0  0.0  0.0  1.0  1.0\n",
       "1  2.0  0.0  1.0  0.0  1.0\n",
       "2  2.0  1.0  0.0  0.0  1.0\n",
       "3  2.0  0.0  0.0  1.0  1.0\n",
       "4  1.0  0.0  0.0  0.0  1.0"
      ],
      "text/html": [
       "<div>\n",
       "<style scoped>\n",
       "    .dataframe tbody tr th:only-of-type {\n",
       "        vertical-align: middle;\n",
       "    }\n",
       "\n",
       "    .dataframe tbody tr th {\n",
       "        vertical-align: top;\n",
       "    }\n",
       "\n",
       "    .dataframe thead th {\n",
       "        text-align: right;\n",
       "    }\n",
       "</style>\n",
       "<table border=\"1\" class=\"dataframe\">\n",
       "  <thead>\n",
       "    <tr style=\"text-align: right;\">\n",
       "      <th></th>\n",
       "      <th>A</th>\n",
       "      <th>B</th>\n",
       "      <th>C</th>\n",
       "      <th>D</th>\n",
       "      <th>E</th>\n",
       "    </tr>\n",
       "  </thead>\n",
       "  <tbody>\n",
       "    <tr>\n",
       "      <th>0</th>\n",
       "      <td>1.0</td>\n",
       "      <td>0.0</td>\n",
       "      <td>0.0</td>\n",
       "      <td>1.0</td>\n",
       "      <td>1.0</td>\n",
       "    </tr>\n",
       "    <tr>\n",
       "      <th>1</th>\n",
       "      <td>2.0</td>\n",
       "      <td>0.0</td>\n",
       "      <td>1.0</td>\n",
       "      <td>0.0</td>\n",
       "      <td>1.0</td>\n",
       "    </tr>\n",
       "    <tr>\n",
       "      <th>2</th>\n",
       "      <td>2.0</td>\n",
       "      <td>1.0</td>\n",
       "      <td>0.0</td>\n",
       "      <td>0.0</td>\n",
       "      <td>1.0</td>\n",
       "    </tr>\n",
       "    <tr>\n",
       "      <th>3</th>\n",
       "      <td>2.0</td>\n",
       "      <td>0.0</td>\n",
       "      <td>0.0</td>\n",
       "      <td>1.0</td>\n",
       "      <td>1.0</td>\n",
       "    </tr>\n",
       "    <tr>\n",
       "      <th>4</th>\n",
       "      <td>1.0</td>\n",
       "      <td>0.0</td>\n",
       "      <td>0.0</td>\n",
       "      <td>0.0</td>\n",
       "      <td>1.0</td>\n",
       "    </tr>\n",
       "  </tbody>\n",
       "</table>\n",
       "</div>"
      ]
     },
     "execution_count": 18,
     "metadata": {},
     "output_type": "execute_result"
    }
   ],
   "execution_count": 18
  },
  {
   "metadata": {
    "ExecuteTime": {
     "end_time": "2024-07-13T23:34:57.232303Z",
     "start_time": "2024-07-13T23:34:57.226280Z"
    }
   },
   "cell_type": "code",
   "source": [
    "letter_presence = (letter_counts > 0).sum().rename(\"Presence\")\n",
    "letter_presence.loc['A':'E']"
   ],
   "outputs": [
    {
     "data": {
      "text/plain": [
       "A    2242\n",
       "B     844\n",
       "C    1331\n",
       "D    1139\n",
       "E    2299\n",
       "Name: Presence, dtype: int64"
      ]
     },
     "execution_count": 19,
     "metadata": {},
     "output_type": "execute_result"
    }
   ],
   "execution_count": 19
  },
  {
   "metadata": {
    "ExecuteTime": {
     "end_time": "2024-07-13T23:34:57.243295Z",
     "start_time": "2024-07-13T23:34:57.233299Z"
    }
   },
   "cell_type": "code",
   "source": [
    "total_answers = df.shape[0]\n",
    "idf = np.log(total_answers / letter_presence).rename(\"idf\")\n",
    "pd.concat([letter_presence, idf], axis=1).loc['A':'Z']"
   ],
   "outputs": [
    {
     "data": {
      "text/plain": [
       "   Presence       idf\n",
       "A      2242  0.371902\n",
       "B       844  1.348873\n",
       "C      1331  0.893340\n",
       "D      1139  1.049120\n",
       "E      2299  0.346796\n",
       "F       583  1.718838\n",
       "G       988  1.191343\n",
       "H      1116  1.069519\n",
       "I      1897  0.538997\n",
       "J       145  3.110292\n",
       "K       632  1.638136\n",
       "L      1363  0.869582\n",
       "M       860  1.330093\n",
       "N      1726  0.633464\n",
       "O      1906  0.534263\n",
       "P       974  1.205614\n",
       "Q        59  4.009488\n",
       "R      1880  0.547998\n",
       "S      1737  0.627111\n",
       "T      1678  0.661668\n",
       "U      1067  1.114419\n",
       "V       366  2.184392\n",
       "W       491  1.890581\n",
       "X        96  3.522677\n",
       "Y       712  1.518948\n",
       "Z        95  3.533149"
      ],
      "text/html": [
       "<div>\n",
       "<style scoped>\n",
       "    .dataframe tbody tr th:only-of-type {\n",
       "        vertical-align: middle;\n",
       "    }\n",
       "\n",
       "    .dataframe tbody tr th {\n",
       "        vertical-align: top;\n",
       "    }\n",
       "\n",
       "    .dataframe thead th {\n",
       "        text-align: right;\n",
       "    }\n",
       "</style>\n",
       "<table border=\"1\" class=\"dataframe\">\n",
       "  <thead>\n",
       "    <tr style=\"text-align: right;\">\n",
       "      <th></th>\n",
       "      <th>Presence</th>\n",
       "      <th>idf</th>\n",
       "    </tr>\n",
       "  </thead>\n",
       "  <tbody>\n",
       "    <tr>\n",
       "      <th>A</th>\n",
       "      <td>2242</td>\n",
       "      <td>0.371902</td>\n",
       "    </tr>\n",
       "    <tr>\n",
       "      <th>B</th>\n",
       "      <td>844</td>\n",
       "      <td>1.348873</td>\n",
       "    </tr>\n",
       "    <tr>\n",
       "      <th>C</th>\n",
       "      <td>1331</td>\n",
       "      <td>0.893340</td>\n",
       "    </tr>\n",
       "    <tr>\n",
       "      <th>D</th>\n",
       "      <td>1139</td>\n",
       "      <td>1.049120</td>\n",
       "    </tr>\n",
       "    <tr>\n",
       "      <th>E</th>\n",
       "      <td>2299</td>\n",
       "      <td>0.346796</td>\n",
       "    </tr>\n",
       "    <tr>\n",
       "      <th>F</th>\n",
       "      <td>583</td>\n",
       "      <td>1.718838</td>\n",
       "    </tr>\n",
       "    <tr>\n",
       "      <th>G</th>\n",
       "      <td>988</td>\n",
       "      <td>1.191343</td>\n",
       "    </tr>\n",
       "    <tr>\n",
       "      <th>H</th>\n",
       "      <td>1116</td>\n",
       "      <td>1.069519</td>\n",
       "    </tr>\n",
       "    <tr>\n",
       "      <th>I</th>\n",
       "      <td>1897</td>\n",
       "      <td>0.538997</td>\n",
       "    </tr>\n",
       "    <tr>\n",
       "      <th>J</th>\n",
       "      <td>145</td>\n",
       "      <td>3.110292</td>\n",
       "    </tr>\n",
       "    <tr>\n",
       "      <th>K</th>\n",
       "      <td>632</td>\n",
       "      <td>1.638136</td>\n",
       "    </tr>\n",
       "    <tr>\n",
       "      <th>L</th>\n",
       "      <td>1363</td>\n",
       "      <td>0.869582</td>\n",
       "    </tr>\n",
       "    <tr>\n",
       "      <th>M</th>\n",
       "      <td>860</td>\n",
       "      <td>1.330093</td>\n",
       "    </tr>\n",
       "    <tr>\n",
       "      <th>N</th>\n",
       "      <td>1726</td>\n",
       "      <td>0.633464</td>\n",
       "    </tr>\n",
       "    <tr>\n",
       "      <th>O</th>\n",
       "      <td>1906</td>\n",
       "      <td>0.534263</td>\n",
       "    </tr>\n",
       "    <tr>\n",
       "      <th>P</th>\n",
       "      <td>974</td>\n",
       "      <td>1.205614</td>\n",
       "    </tr>\n",
       "    <tr>\n",
       "      <th>Q</th>\n",
       "      <td>59</td>\n",
       "      <td>4.009488</td>\n",
       "    </tr>\n",
       "    <tr>\n",
       "      <th>R</th>\n",
       "      <td>1880</td>\n",
       "      <td>0.547998</td>\n",
       "    </tr>\n",
       "    <tr>\n",
       "      <th>S</th>\n",
       "      <td>1737</td>\n",
       "      <td>0.627111</td>\n",
       "    </tr>\n",
       "    <tr>\n",
       "      <th>T</th>\n",
       "      <td>1678</td>\n",
       "      <td>0.661668</td>\n",
       "    </tr>\n",
       "    <tr>\n",
       "      <th>U</th>\n",
       "      <td>1067</td>\n",
       "      <td>1.114419</td>\n",
       "    </tr>\n",
       "    <tr>\n",
       "      <th>V</th>\n",
       "      <td>366</td>\n",
       "      <td>2.184392</td>\n",
       "    </tr>\n",
       "    <tr>\n",
       "      <th>W</th>\n",
       "      <td>491</td>\n",
       "      <td>1.890581</td>\n",
       "    </tr>\n",
       "    <tr>\n",
       "      <th>X</th>\n",
       "      <td>96</td>\n",
       "      <td>3.522677</td>\n",
       "    </tr>\n",
       "    <tr>\n",
       "      <th>Y</th>\n",
       "      <td>712</td>\n",
       "      <td>1.518948</td>\n",
       "    </tr>\n",
       "    <tr>\n",
       "      <th>Z</th>\n",
       "      <td>95</td>\n",
       "      <td>3.533149</td>\n",
       "    </tr>\n",
       "  </tbody>\n",
       "</table>\n",
       "</div>"
      ]
     },
     "execution_count": 20,
     "metadata": {},
     "output_type": "execute_result"
    }
   ],
   "execution_count": 20
  },
  {
   "metadata": {
    "ExecuteTime": {
     "end_time": "2024-07-13T23:34:57.264891Z",
     "start_time": "2024-07-13T23:34:57.245286Z"
    }
   },
   "cell_type": "code",
   "source": [
    "tf = letter_counts.div(letter_counts.sum(axis=1), axis=0)\n",
    "tf.head()"
   ],
   "outputs": [
    {
     "data": {
      "text/plain": [
       "               !    \"    &    '    -    .    2    ;    ?  ...    Z    `    a  \\\n",
       "0  0.100000  0.0  0.0  0.0  0.0  0.0  0.0  0.0  0.0  0.0  ...  0.0  0.0  0.0   \n",
       "1  0.166667  0.0  0.0  0.0  0.0  0.0  0.0  0.0  0.0  0.0  ...  0.0  0.0  0.0   \n",
       "2  0.181818  0.0  0.0  0.0  0.0  0.0  0.0  0.0  0.0  0.0  ...  0.0  0.0  0.0   \n",
       "3  0.142857  0.0  0.0  0.0  0.0  0.0  0.0  0.0  0.0  0.0  ...  0.0  0.0  0.0   \n",
       "4  0.176471  0.0  0.0  0.0  0.0  0.0  0.0  0.0  0.0  0.0  ...  0.0  0.0  0.0   \n",
       "\n",
       "     e    g    i    m    n    p    s  \n",
       "0  0.0  0.0  0.0  0.0  0.0  0.0  0.0  \n",
       "1  0.0  0.0  0.0  0.0  0.0  0.0  0.0  \n",
       "2  0.0  0.0  0.0  0.0  0.0  0.0  0.0  \n",
       "3  0.0  0.0  0.0  0.0  0.0  0.0  0.0  \n",
       "4  0.0  0.0  0.0  0.0  0.0  0.0  0.0  \n",
       "\n",
       "[5 rows x 45 columns]"
      ],
      "text/html": [
       "<div>\n",
       "<style scoped>\n",
       "    .dataframe tbody tr th:only-of-type {\n",
       "        vertical-align: middle;\n",
       "    }\n",
       "\n",
       "    .dataframe tbody tr th {\n",
       "        vertical-align: top;\n",
       "    }\n",
       "\n",
       "    .dataframe thead th {\n",
       "        text-align: right;\n",
       "    }\n",
       "</style>\n",
       "<table border=\"1\" class=\"dataframe\">\n",
       "  <thead>\n",
       "    <tr style=\"text-align: right;\">\n",
       "      <th></th>\n",
       "      <th></th>\n",
       "      <th>!</th>\n",
       "      <th>\"</th>\n",
       "      <th>&amp;</th>\n",
       "      <th>'</th>\n",
       "      <th>-</th>\n",
       "      <th>.</th>\n",
       "      <th>2</th>\n",
       "      <th>;</th>\n",
       "      <th>?</th>\n",
       "      <th>...</th>\n",
       "      <th>Z</th>\n",
       "      <th>`</th>\n",
       "      <th>a</th>\n",
       "      <th>e</th>\n",
       "      <th>g</th>\n",
       "      <th>i</th>\n",
       "      <th>m</th>\n",
       "      <th>n</th>\n",
       "      <th>p</th>\n",
       "      <th>s</th>\n",
       "    </tr>\n",
       "  </thead>\n",
       "  <tbody>\n",
       "    <tr>\n",
       "      <th>0</th>\n",
       "      <td>0.100000</td>\n",
       "      <td>0.0</td>\n",
       "      <td>0.0</td>\n",
       "      <td>0.0</td>\n",
       "      <td>0.0</td>\n",
       "      <td>0.0</td>\n",
       "      <td>0.0</td>\n",
       "      <td>0.0</td>\n",
       "      <td>0.0</td>\n",
       "      <td>0.0</td>\n",
       "      <td>...</td>\n",
       "      <td>0.0</td>\n",
       "      <td>0.0</td>\n",
       "      <td>0.0</td>\n",
       "      <td>0.0</td>\n",
       "      <td>0.0</td>\n",
       "      <td>0.0</td>\n",
       "      <td>0.0</td>\n",
       "      <td>0.0</td>\n",
       "      <td>0.0</td>\n",
       "      <td>0.0</td>\n",
       "    </tr>\n",
       "    <tr>\n",
       "      <th>1</th>\n",
       "      <td>0.166667</td>\n",
       "      <td>0.0</td>\n",
       "      <td>0.0</td>\n",
       "      <td>0.0</td>\n",
       "      <td>0.0</td>\n",
       "      <td>0.0</td>\n",
       "      <td>0.0</td>\n",
       "      <td>0.0</td>\n",
       "      <td>0.0</td>\n",
       "      <td>0.0</td>\n",
       "      <td>...</td>\n",
       "      <td>0.0</td>\n",
       "      <td>0.0</td>\n",
       "      <td>0.0</td>\n",
       "      <td>0.0</td>\n",
       "      <td>0.0</td>\n",
       "      <td>0.0</td>\n",
       "      <td>0.0</td>\n",
       "      <td>0.0</td>\n",
       "      <td>0.0</td>\n",
       "      <td>0.0</td>\n",
       "    </tr>\n",
       "    <tr>\n",
       "      <th>2</th>\n",
       "      <td>0.181818</td>\n",
       "      <td>0.0</td>\n",
       "      <td>0.0</td>\n",
       "      <td>0.0</td>\n",
       "      <td>0.0</td>\n",
       "      <td>0.0</td>\n",
       "      <td>0.0</td>\n",
       "      <td>0.0</td>\n",
       "      <td>0.0</td>\n",
       "      <td>0.0</td>\n",
       "      <td>...</td>\n",
       "      <td>0.0</td>\n",
       "      <td>0.0</td>\n",
       "      <td>0.0</td>\n",
       "      <td>0.0</td>\n",
       "      <td>0.0</td>\n",
       "      <td>0.0</td>\n",
       "      <td>0.0</td>\n",
       "      <td>0.0</td>\n",
       "      <td>0.0</td>\n",
       "      <td>0.0</td>\n",
       "    </tr>\n",
       "    <tr>\n",
       "      <th>3</th>\n",
       "      <td>0.142857</td>\n",
       "      <td>0.0</td>\n",
       "      <td>0.0</td>\n",
       "      <td>0.0</td>\n",
       "      <td>0.0</td>\n",
       "      <td>0.0</td>\n",
       "      <td>0.0</td>\n",
       "      <td>0.0</td>\n",
       "      <td>0.0</td>\n",
       "      <td>0.0</td>\n",
       "      <td>...</td>\n",
       "      <td>0.0</td>\n",
       "      <td>0.0</td>\n",
       "      <td>0.0</td>\n",
       "      <td>0.0</td>\n",
       "      <td>0.0</td>\n",
       "      <td>0.0</td>\n",
       "      <td>0.0</td>\n",
       "      <td>0.0</td>\n",
       "      <td>0.0</td>\n",
       "      <td>0.0</td>\n",
       "    </tr>\n",
       "    <tr>\n",
       "      <th>4</th>\n",
       "      <td>0.176471</td>\n",
       "      <td>0.0</td>\n",
       "      <td>0.0</td>\n",
       "      <td>0.0</td>\n",
       "      <td>0.0</td>\n",
       "      <td>0.0</td>\n",
       "      <td>0.0</td>\n",
       "      <td>0.0</td>\n",
       "      <td>0.0</td>\n",
       "      <td>0.0</td>\n",
       "      <td>...</td>\n",
       "      <td>0.0</td>\n",
       "      <td>0.0</td>\n",
       "      <td>0.0</td>\n",
       "      <td>0.0</td>\n",
       "      <td>0.0</td>\n",
       "      <td>0.0</td>\n",
       "      <td>0.0</td>\n",
       "      <td>0.0</td>\n",
       "      <td>0.0</td>\n",
       "      <td>0.0</td>\n",
       "    </tr>\n",
       "  </tbody>\n",
       "</table>\n",
       "<p>5 rows × 45 columns</p>\n",
       "</div>"
      ]
     },
     "execution_count": 21,
     "metadata": {},
     "output_type": "execute_result"
    }
   ],
   "execution_count": 21
  },
  {
   "metadata": {
    "ExecuteTime": {
     "end_time": "2024-07-13T23:34:57.290111Z",
     "start_time": "2024-07-13T23:34:57.265885Z"
    }
   },
   "cell_type": "code",
   "source": [
    "tf_idf = tf * idf\n",
    "tf_idf"
   ],
   "outputs": [
    {
     "data": {
      "text/plain": [
       "                  !    \"    &    '    -    .    2    ;    ?  ...    Z    `  \\\n",
       "0     0.017131  0.0  0.0  0.0  0.0  0.0  0.0  0.0  0.0  0.0  ...  0.0  0.0   \n",
       "1     0.028552  0.0  0.0  0.0  0.0  0.0  0.0  0.0  0.0  0.0  ...  0.0  0.0   \n",
       "2     0.031148  0.0  0.0  0.0  0.0  0.0  0.0  0.0  0.0  0.0  ...  0.0  0.0   \n",
       "3     0.024473  0.0  0.0  0.0  0.0  0.0  0.0  0.0  0.0  0.0  ...  0.0  0.0   \n",
       "4     0.030232  0.0  0.0  0.0  0.0  0.0  0.0  0.0  0.0  0.0  ...  0.0  0.0   \n",
       "...        ...  ...  ...  ...  ...  ...  ...  ...  ...  ...  ...  ...  ...   \n",
       "3247  0.017131  0.0  0.0  0.0  0.0  0.0  0.0  0.0  0.0  0.0  ...  0.0  0.0   \n",
       "3248  0.012237  0.0  0.0  0.0  0.0  0.0  0.0  0.0  0.0  0.0  ...  0.0  0.0   \n",
       "3249  0.015574  0.0  0.0  0.0  0.0  0.0  0.0  0.0  0.0  0.0  ...  0.0  0.0   \n",
       "3250  0.014276  0.0  0.0  0.0  0.0  0.0  0.0  0.0  0.0  0.0  ...  0.0  0.0   \n",
       "3251  0.017131  0.0  0.0  0.0  0.0  0.0  0.0  0.0  0.0  0.0  ...  0.0  0.0   \n",
       "\n",
       "        a    e    g    i    m    n    p    s  \n",
       "0     0.0  0.0  0.0  0.0  0.0  0.0  0.0  0.0  \n",
       "1     0.0  0.0  0.0  0.0  0.0  0.0  0.0  0.0  \n",
       "2     0.0  0.0  0.0  0.0  0.0  0.0  0.0  0.0  \n",
       "3     0.0  0.0  0.0  0.0  0.0  0.0  0.0  0.0  \n",
       "4     0.0  0.0  0.0  0.0  0.0  0.0  0.0  0.0  \n",
       "...   ...  ...  ...  ...  ...  ...  ...  ...  \n",
       "3247  0.0  0.0  0.0  0.0  0.0  0.0  0.0  0.0  \n",
       "3248  0.0  0.0  0.0  0.0  0.0  0.0  0.0  0.0  \n",
       "3249  0.0  0.0  0.0  0.0  0.0  0.0  0.0  0.0  \n",
       "3250  0.0  0.0  0.0  0.0  0.0  0.0  0.0  0.0  \n",
       "3251  0.0  0.0  0.0  0.0  0.0  0.0  0.0  0.0  \n",
       "\n",
       "[3252 rows x 45 columns]"
      ],
      "text/html": [
       "<div>\n",
       "<style scoped>\n",
       "    .dataframe tbody tr th:only-of-type {\n",
       "        vertical-align: middle;\n",
       "    }\n",
       "\n",
       "    .dataframe tbody tr th {\n",
       "        vertical-align: top;\n",
       "    }\n",
       "\n",
       "    .dataframe thead th {\n",
       "        text-align: right;\n",
       "    }\n",
       "</style>\n",
       "<table border=\"1\" class=\"dataframe\">\n",
       "  <thead>\n",
       "    <tr style=\"text-align: right;\">\n",
       "      <th></th>\n",
       "      <th></th>\n",
       "      <th>!</th>\n",
       "      <th>\"</th>\n",
       "      <th>&amp;</th>\n",
       "      <th>'</th>\n",
       "      <th>-</th>\n",
       "      <th>.</th>\n",
       "      <th>2</th>\n",
       "      <th>;</th>\n",
       "      <th>?</th>\n",
       "      <th>...</th>\n",
       "      <th>Z</th>\n",
       "      <th>`</th>\n",
       "      <th>a</th>\n",
       "      <th>e</th>\n",
       "      <th>g</th>\n",
       "      <th>i</th>\n",
       "      <th>m</th>\n",
       "      <th>n</th>\n",
       "      <th>p</th>\n",
       "      <th>s</th>\n",
       "    </tr>\n",
       "  </thead>\n",
       "  <tbody>\n",
       "    <tr>\n",
       "      <th>0</th>\n",
       "      <td>0.017131</td>\n",
       "      <td>0.0</td>\n",
       "      <td>0.0</td>\n",
       "      <td>0.0</td>\n",
       "      <td>0.0</td>\n",
       "      <td>0.0</td>\n",
       "      <td>0.0</td>\n",
       "      <td>0.0</td>\n",
       "      <td>0.0</td>\n",
       "      <td>0.0</td>\n",
       "      <td>...</td>\n",
       "      <td>0.0</td>\n",
       "      <td>0.0</td>\n",
       "      <td>0.0</td>\n",
       "      <td>0.0</td>\n",
       "      <td>0.0</td>\n",
       "      <td>0.0</td>\n",
       "      <td>0.0</td>\n",
       "      <td>0.0</td>\n",
       "      <td>0.0</td>\n",
       "      <td>0.0</td>\n",
       "    </tr>\n",
       "    <tr>\n",
       "      <th>1</th>\n",
       "      <td>0.028552</td>\n",
       "      <td>0.0</td>\n",
       "      <td>0.0</td>\n",
       "      <td>0.0</td>\n",
       "      <td>0.0</td>\n",
       "      <td>0.0</td>\n",
       "      <td>0.0</td>\n",
       "      <td>0.0</td>\n",
       "      <td>0.0</td>\n",
       "      <td>0.0</td>\n",
       "      <td>...</td>\n",
       "      <td>0.0</td>\n",
       "      <td>0.0</td>\n",
       "      <td>0.0</td>\n",
       "      <td>0.0</td>\n",
       "      <td>0.0</td>\n",
       "      <td>0.0</td>\n",
       "      <td>0.0</td>\n",
       "      <td>0.0</td>\n",
       "      <td>0.0</td>\n",
       "      <td>0.0</td>\n",
       "    </tr>\n",
       "    <tr>\n",
       "      <th>2</th>\n",
       "      <td>0.031148</td>\n",
       "      <td>0.0</td>\n",
       "      <td>0.0</td>\n",
       "      <td>0.0</td>\n",
       "      <td>0.0</td>\n",
       "      <td>0.0</td>\n",
       "      <td>0.0</td>\n",
       "      <td>0.0</td>\n",
       "      <td>0.0</td>\n",
       "      <td>0.0</td>\n",
       "      <td>...</td>\n",
       "      <td>0.0</td>\n",
       "      <td>0.0</td>\n",
       "      <td>0.0</td>\n",
       "      <td>0.0</td>\n",
       "      <td>0.0</td>\n",
       "      <td>0.0</td>\n",
       "      <td>0.0</td>\n",
       "      <td>0.0</td>\n",
       "      <td>0.0</td>\n",
       "      <td>0.0</td>\n",
       "    </tr>\n",
       "    <tr>\n",
       "      <th>3</th>\n",
       "      <td>0.024473</td>\n",
       "      <td>0.0</td>\n",
       "      <td>0.0</td>\n",
       "      <td>0.0</td>\n",
       "      <td>0.0</td>\n",
       "      <td>0.0</td>\n",
       "      <td>0.0</td>\n",
       "      <td>0.0</td>\n",
       "      <td>0.0</td>\n",
       "      <td>0.0</td>\n",
       "      <td>...</td>\n",
       "      <td>0.0</td>\n",
       "      <td>0.0</td>\n",
       "      <td>0.0</td>\n",
       "      <td>0.0</td>\n",
       "      <td>0.0</td>\n",
       "      <td>0.0</td>\n",
       "      <td>0.0</td>\n",
       "      <td>0.0</td>\n",
       "      <td>0.0</td>\n",
       "      <td>0.0</td>\n",
       "    </tr>\n",
       "    <tr>\n",
       "      <th>4</th>\n",
       "      <td>0.030232</td>\n",
       "      <td>0.0</td>\n",
       "      <td>0.0</td>\n",
       "      <td>0.0</td>\n",
       "      <td>0.0</td>\n",
       "      <td>0.0</td>\n",
       "      <td>0.0</td>\n",
       "      <td>0.0</td>\n",
       "      <td>0.0</td>\n",
       "      <td>0.0</td>\n",
       "      <td>...</td>\n",
       "      <td>0.0</td>\n",
       "      <td>0.0</td>\n",
       "      <td>0.0</td>\n",
       "      <td>0.0</td>\n",
       "      <td>0.0</td>\n",
       "      <td>0.0</td>\n",
       "      <td>0.0</td>\n",
       "      <td>0.0</td>\n",
       "      <td>0.0</td>\n",
       "      <td>0.0</td>\n",
       "    </tr>\n",
       "    <tr>\n",
       "      <th>...</th>\n",
       "      <td>...</td>\n",
       "      <td>...</td>\n",
       "      <td>...</td>\n",
       "      <td>...</td>\n",
       "      <td>...</td>\n",
       "      <td>...</td>\n",
       "      <td>...</td>\n",
       "      <td>...</td>\n",
       "      <td>...</td>\n",
       "      <td>...</td>\n",
       "      <td>...</td>\n",
       "      <td>...</td>\n",
       "      <td>...</td>\n",
       "      <td>...</td>\n",
       "      <td>...</td>\n",
       "      <td>...</td>\n",
       "      <td>...</td>\n",
       "      <td>...</td>\n",
       "      <td>...</td>\n",
       "      <td>...</td>\n",
       "      <td>...</td>\n",
       "    </tr>\n",
       "    <tr>\n",
       "      <th>3247</th>\n",
       "      <td>0.017131</td>\n",
       "      <td>0.0</td>\n",
       "      <td>0.0</td>\n",
       "      <td>0.0</td>\n",
       "      <td>0.0</td>\n",
       "      <td>0.0</td>\n",
       "      <td>0.0</td>\n",
       "      <td>0.0</td>\n",
       "      <td>0.0</td>\n",
       "      <td>0.0</td>\n",
       "      <td>...</td>\n",
       "      <td>0.0</td>\n",
       "      <td>0.0</td>\n",
       "      <td>0.0</td>\n",
       "      <td>0.0</td>\n",
       "      <td>0.0</td>\n",
       "      <td>0.0</td>\n",
       "      <td>0.0</td>\n",
       "      <td>0.0</td>\n",
       "      <td>0.0</td>\n",
       "      <td>0.0</td>\n",
       "    </tr>\n",
       "    <tr>\n",
       "      <th>3248</th>\n",
       "      <td>0.012237</td>\n",
       "      <td>0.0</td>\n",
       "      <td>0.0</td>\n",
       "      <td>0.0</td>\n",
       "      <td>0.0</td>\n",
       "      <td>0.0</td>\n",
       "      <td>0.0</td>\n",
       "      <td>0.0</td>\n",
       "      <td>0.0</td>\n",
       "      <td>0.0</td>\n",
       "      <td>...</td>\n",
       "      <td>0.0</td>\n",
       "      <td>0.0</td>\n",
       "      <td>0.0</td>\n",
       "      <td>0.0</td>\n",
       "      <td>0.0</td>\n",
       "      <td>0.0</td>\n",
       "      <td>0.0</td>\n",
       "      <td>0.0</td>\n",
       "      <td>0.0</td>\n",
       "      <td>0.0</td>\n",
       "    </tr>\n",
       "    <tr>\n",
       "      <th>3249</th>\n",
       "      <td>0.015574</td>\n",
       "      <td>0.0</td>\n",
       "      <td>0.0</td>\n",
       "      <td>0.0</td>\n",
       "      <td>0.0</td>\n",
       "      <td>0.0</td>\n",
       "      <td>0.0</td>\n",
       "      <td>0.0</td>\n",
       "      <td>0.0</td>\n",
       "      <td>0.0</td>\n",
       "      <td>...</td>\n",
       "      <td>0.0</td>\n",
       "      <td>0.0</td>\n",
       "      <td>0.0</td>\n",
       "      <td>0.0</td>\n",
       "      <td>0.0</td>\n",
       "      <td>0.0</td>\n",
       "      <td>0.0</td>\n",
       "      <td>0.0</td>\n",
       "      <td>0.0</td>\n",
       "      <td>0.0</td>\n",
       "    </tr>\n",
       "    <tr>\n",
       "      <th>3250</th>\n",
       "      <td>0.014276</td>\n",
       "      <td>0.0</td>\n",
       "      <td>0.0</td>\n",
       "      <td>0.0</td>\n",
       "      <td>0.0</td>\n",
       "      <td>0.0</td>\n",
       "      <td>0.0</td>\n",
       "      <td>0.0</td>\n",
       "      <td>0.0</td>\n",
       "      <td>0.0</td>\n",
       "      <td>...</td>\n",
       "      <td>0.0</td>\n",
       "      <td>0.0</td>\n",
       "      <td>0.0</td>\n",
       "      <td>0.0</td>\n",
       "      <td>0.0</td>\n",
       "      <td>0.0</td>\n",
       "      <td>0.0</td>\n",
       "      <td>0.0</td>\n",
       "      <td>0.0</td>\n",
       "      <td>0.0</td>\n",
       "    </tr>\n",
       "    <tr>\n",
       "      <th>3251</th>\n",
       "      <td>0.017131</td>\n",
       "      <td>0.0</td>\n",
       "      <td>0.0</td>\n",
       "      <td>0.0</td>\n",
       "      <td>0.0</td>\n",
       "      <td>0.0</td>\n",
       "      <td>0.0</td>\n",
       "      <td>0.0</td>\n",
       "      <td>0.0</td>\n",
       "      <td>0.0</td>\n",
       "      <td>...</td>\n",
       "      <td>0.0</td>\n",
       "      <td>0.0</td>\n",
       "      <td>0.0</td>\n",
       "      <td>0.0</td>\n",
       "      <td>0.0</td>\n",
       "      <td>0.0</td>\n",
       "      <td>0.0</td>\n",
       "      <td>0.0</td>\n",
       "      <td>0.0</td>\n",
       "      <td>0.0</td>\n",
       "    </tr>\n",
       "  </tbody>\n",
       "</table>\n",
       "<p>3252 rows × 45 columns</p>\n",
       "</div>"
      ]
     },
     "execution_count": 22,
     "metadata": {},
     "output_type": "execute_result"
    }
   ],
   "execution_count": 22
  },
  {
   "metadata": {
    "ExecuteTime": {
     "end_time": "2024-07-13T23:34:57.298625Z",
     "start_time": "2024-07-13T23:34:57.291107Z"
    }
   },
   "cell_type": "code",
   "source": "tf_idf.idxmax(axis=1).rename('highest tfidf')",
   "outputs": [
    {
     "data": {
      "text/plain": [
       "0       W\n",
       "1       H\n",
       "2       Y\n",
       "3       K\n",
       "4       H\n",
       "       ..\n",
       "3247    G\n",
       "3248    P\n",
       "3249    G\n",
       "3250    V\n",
       "3251    B\n",
       "Name: highest tfidf, Length: 3252, dtype: object"
      ]
     },
     "execution_count": 23,
     "metadata": {},
     "output_type": "execute_result"
    }
   ],
   "execution_count": 23
  },
  {
   "metadata": {
    "ExecuteTime": {
     "end_time": "2024-07-13T23:34:57.309795Z",
     "start_time": "2024-07-13T23:34:57.299594Z"
    }
   },
   "cell_type": "code",
   "source": [
    "top1 = pd.concat([df['Answer'], tf_idf.idxmax(axis=1).rename('highest tfidf')], axis=1)\n",
    "top1"
   ],
   "outputs": [
    {
     "data": {
      "text/plain": [
       "                 Answer highest tfidf\n",
       "0            GALE WINDS             W\n",
       "1          A CHEAP SHOT             H\n",
       "2           A GREAT BUY             Y\n",
       "3        A KODAK MOMENT             K\n",
       "4     A LONG HOT SHOWER             H\n",
       "...                 ...           ...\n",
       "3247         GREAT DANE             G\n",
       "3248     SURPRISE PARTY             P\n",
       "3249        GARAGE SALE             G\n",
       "3250       TOASTER OVEN             V\n",
       "3251         BETTY BOOP             B\n",
       "\n",
       "[3252 rows x 2 columns]"
      ],
      "text/html": [
       "<div>\n",
       "<style scoped>\n",
       "    .dataframe tbody tr th:only-of-type {\n",
       "        vertical-align: middle;\n",
       "    }\n",
       "\n",
       "    .dataframe tbody tr th {\n",
       "        vertical-align: top;\n",
       "    }\n",
       "\n",
       "    .dataframe thead th {\n",
       "        text-align: right;\n",
       "    }\n",
       "</style>\n",
       "<table border=\"1\" class=\"dataframe\">\n",
       "  <thead>\n",
       "    <tr style=\"text-align: right;\">\n",
       "      <th></th>\n",
       "      <th>Answer</th>\n",
       "      <th>highest tfidf</th>\n",
       "    </tr>\n",
       "  </thead>\n",
       "  <tbody>\n",
       "    <tr>\n",
       "      <th>0</th>\n",
       "      <td>GALE WINDS</td>\n",
       "      <td>W</td>\n",
       "    </tr>\n",
       "    <tr>\n",
       "      <th>1</th>\n",
       "      <td>A CHEAP SHOT</td>\n",
       "      <td>H</td>\n",
       "    </tr>\n",
       "    <tr>\n",
       "      <th>2</th>\n",
       "      <td>A GREAT BUY</td>\n",
       "      <td>Y</td>\n",
       "    </tr>\n",
       "    <tr>\n",
       "      <th>3</th>\n",
       "      <td>A KODAK MOMENT</td>\n",
       "      <td>K</td>\n",
       "    </tr>\n",
       "    <tr>\n",
       "      <th>4</th>\n",
       "      <td>A LONG HOT SHOWER</td>\n",
       "      <td>H</td>\n",
       "    </tr>\n",
       "    <tr>\n",
       "      <th>...</th>\n",
       "      <td>...</td>\n",
       "      <td>...</td>\n",
       "    </tr>\n",
       "    <tr>\n",
       "      <th>3247</th>\n",
       "      <td>GREAT DANE</td>\n",
       "      <td>G</td>\n",
       "    </tr>\n",
       "    <tr>\n",
       "      <th>3248</th>\n",
       "      <td>SURPRISE PARTY</td>\n",
       "      <td>P</td>\n",
       "    </tr>\n",
       "    <tr>\n",
       "      <th>3249</th>\n",
       "      <td>GARAGE SALE</td>\n",
       "      <td>G</td>\n",
       "    </tr>\n",
       "    <tr>\n",
       "      <th>3250</th>\n",
       "      <td>TOASTER OVEN</td>\n",
       "      <td>V</td>\n",
       "    </tr>\n",
       "    <tr>\n",
       "      <th>3251</th>\n",
       "      <td>BETTY BOOP</td>\n",
       "      <td>B</td>\n",
       "    </tr>\n",
       "  </tbody>\n",
       "</table>\n",
       "<p>3252 rows × 2 columns</p>\n",
       "</div>"
      ]
     },
     "execution_count": 24,
     "metadata": {},
     "output_type": "execute_result"
    }
   ],
   "execution_count": 24
  },
  {
   "metadata": {},
   "cell_type": "markdown",
   "source": [
    "This dataframe shows the letter with the highest tf-idf for a given word. In other words, it is the most important letter in the word. \n",
    "Let's look at the example 'A GREAT BUY', which looks like `_ _RE_T ___` with 'RSTLNE', and fill in one letter at a time:\n",
    "- `A _REAT ___`\n",
    "- `_ GRE_T ___`\n",
    "- `_ _RE_T B__`\n",
    "- `_ _RE_T _U_`\n",
    "- `_ _RE_T __Y`  \n",
    "\n",
    "Although 'A' fills in the most letters, it doesn't really add that much information to the answer. Afterall, the first 'A' is the only one-letter word in English and the second word can only take so many possibilities. The third word is the hardest to crack, with 'B' or 'Y' giving the most information (thus the most important), hence why they are the two letter with the highest tf-idf in 'A GREAT BUY'. "
   ]
  },
  {
   "metadata": {
    "ExecuteTime": {
     "end_time": "2024-07-13T23:34:57.317088Z",
     "start_time": "2024-07-13T23:34:57.310788Z"
    }
   },
   "cell_type": "code",
   "source": [
    "top1_counts = top1.value_counts('highest tfidf')\n",
    "top1_counts"
   ],
   "outputs": [
    {
     "data": {
      "text/plain": [
       "highest tfidf\n",
       "F    267\n",
       "V    258\n",
       "W    253\n",
       "B    211\n",
       "K    194\n",
       "M    189\n",
       "P    188\n",
       "G    165\n",
       "L    148\n",
       "C    141\n",
       "D    119\n",
       "Y    116\n",
       "J    116\n",
       "H     98\n",
       "U     92\n",
       "Z     90\n",
       "X     86\n",
       "T     83\n",
       "-     67\n",
       "N     63\n",
       "S     59\n",
       "Q     57\n",
       "'     45\n",
       "R     34\n",
       "&     30\n",
       "O     30\n",
       "I     17\n",
       "!      9\n",
       "A      8\n",
       ".      8\n",
       "E      3\n",
       "?      3\n",
       "\"      1\n",
       "2      1\n",
       "`      1\n",
       "n      1\n",
       "s      1\n",
       "Name: count, dtype: int64"
      ]
     },
     "execution_count": 25,
     "metadata": {},
     "output_type": "execute_result"
    }
   ],
   "execution_count": 25
  },
  {
   "metadata": {},
   "cell_type": "markdown",
   "source": "This series shows the result of counting all the most important letters for every word in the dataframe. Surprisingly, 'F', 'V', and 'W' are the most common important letter."
  },
  {
   "metadata": {
    "ExecuteTime": {
     "end_time": "2024-07-13T23:34:57.544885Z",
     "start_time": "2024-07-13T23:34:57.318083Z"
    }
   },
   "cell_type": "code",
   "source": [
    "letters = top1_counts.index\n",
    "colors = [set_color(letter) for letter in letters]\n",
    "\n",
    "plt.bar(top1_counts.index, top1_counts.values, color=colors)"
   ],
   "outputs": [
    {
     "data": {
      "text/plain": [
       "<BarContainer object of 37 artists>"
      ]
     },
     "execution_count": 26,
     "metadata": {},
     "output_type": "execute_result"
    },
    {
     "data": {
      "text/plain": [
       "<Figure size 640x480 with 1 Axes>"
      ],
      "image/png": "[encoded data removed]"
     },
     "metadata": {},
     "output_type": "display_data"
    }
   ],
   "execution_count": 26
  },
  {
   "metadata": {},
   "cell_type": "markdown",
   "source": "This the bar chart of the above series, showing some interesting results. It looks like the more common a letter is, the less important it becomes. For example, in our prior occurrences and presence analysis, we saw that 'C', 'D', and 'H' were the most common non-RSTLNE letters, but here, they are more or less average. 'L' is the most important 'RSTLNE' letter while being the most uncommon one too. 'U' is also a rather uncommon vowel, but it is the most defining one here as well. "
  },
  {
   "metadata": {
    "ExecuteTime": {
     "end_time": "2024-07-13T23:34:57.557225Z",
     "start_time": "2024-07-13T23:34:57.545880Z"
    }
   },
   "cell_type": "code",
   "source": [
    "tfidf_and_frequency = pd.concat([top1_counts, pd.Series(total_letter_count, name='letter_frequency')], axis=1).fillna(0).rename(\n",
    "    {'count': 'tf-idf_frequency'}, axis=1)\n",
    "tfidf_and_frequency"
   ],
   "outputs": [
    {
     "data": {
      "text/plain": [
       "   tf-idf_frequency  letter_frequency\n",
       "F             267.0               738\n",
       "V             258.0               383\n",
       "W             253.0               526\n",
       "B             211.0              1003\n",
       "K             194.0               705\n",
       "M             189.0               989\n",
       "P             188.0              1182\n",
       "G             165.0              1183\n",
       "L             148.0              1786\n",
       "C             141.0              1681\n",
       "D             119.0              1364\n",
       "Y             116.0               767\n",
       "J             116.0               154\n",
       "H              98.0              1287\n",
       "U              92.0              1230\n",
       "Z              90.0               123\n",
       "X              86.0                97\n",
       "T              83.0              2276\n",
       "-              67.0                87\n",
       "N              63.0              2335\n",
       "S              59.0              2324\n",
       "Q              57.0                59\n",
       "'              45.0                47\n",
       "R              34.0              2531\n",
       "&              30.0                35\n",
       "O              30.0              2811\n",
       "I              17.0              2661\n",
       "!               9.0                 9\n",
       "A               8.0              3435\n",
       ".               8.0                 8\n",
       "E               3.0              3742\n",
       "?               3.0                 3\n",
       "\"               1.0                 1\n",
       "2               1.0                 1\n",
       "`               1.0                 1\n",
       "n               1.0                 3\n",
       "s               1.0                 1\n",
       "                0.0              3339\n",
       "a               0.0                35\n",
       "m               0.0                35\n",
       "p               0.0                35\n",
       ";               0.0                35\n",
       "e               0.0                 1\n",
       "i               0.0                 2\n",
       "g               0.0                 2"
      ],
      "text/html": [
       "<div>\n",
       "<style scoped>\n",
       "    .dataframe tbody tr th:only-of-type {\n",
       "        vertical-align: middle;\n",
       "    }\n",
       "\n",
       "    .dataframe tbody tr th {\n",
       "        vertical-align: top;\n",
       "    }\n",
       "\n",
       "    .dataframe thead th {\n",
       "        text-align: right;\n",
       "    }\n",
       "</style>\n",
       "<table border=\"1\" class=\"dataframe\">\n",
       "  <thead>\n",
       "    <tr style=\"text-align: right;\">\n",
       "      <th></th>\n",
       "      <th>tf-idf_frequency</th>\n",
       "      <th>letter_frequency</th>\n",
       "    </tr>\n",
       "  </thead>\n",
       "  <tbody>\n",
       "    <tr>\n",
       "      <th>F</th>\n",
       "      <td>267.0</td>\n",
       "      <td>738</td>\n",
       "    </tr>\n",
       "    <tr>\n",
       "      <th>V</th>\n",
       "      <td>258.0</td>\n",
       "      <td>383</td>\n",
       "    </tr>\n",
       "    <tr>\n",
       "      <th>W</th>\n",
       "      <td>253.0</td>\n",
       "      <td>526</td>\n",
       "    </tr>\n",
       "    <tr>\n",
       "      <th>B</th>\n",
       "      <td>211.0</td>\n",
       "      <td>1003</td>\n",
       "    </tr>\n",
       "    <tr>\n",
       "      <th>K</th>\n",
       "      <td>194.0</td>\n",
       "      <td>705</td>\n",
       "    </tr>\n",
       "    <tr>\n",
       "      <th>M</th>\n",
       "      <td>189.0</td>\n",
       "      <td>989</td>\n",
       "    </tr>\n",
       "    <tr>\n",
       "      <th>P</th>\n",
       "      <td>188.0</td>\n",
       "      <td>1182</td>\n",
       "    </tr>\n",
       "    <tr>\n",
       "      <th>G</th>\n",
       "      <td>165.0</td>\n",
       "      <td>1183</td>\n",
       "    </tr>\n",
       "    <tr>\n",
       "      <th>L</th>\n",
       "      <td>148.0</td>\n",
       "      <td>1786</td>\n",
       "    </tr>\n",
       "    <tr>\n",
       "      <th>C</th>\n",
       "      <td>141.0</td>\n",
       "      <td>1681</td>\n",
       "    </tr>\n",
       "    <tr>\n",
       "      <th>D</th>\n",
       "      <td>119.0</td>\n",
       "      <td>1364</td>\n",
       "    </tr>\n",
       "    <tr>\n",
       "      <th>Y</th>\n",
       "      <td>116.0</td>\n",
       "      <td>767</td>\n",
       "    </tr>\n",
       "    <tr>\n",
       "      <th>J</th>\n",
       "      <td>116.0</td>\n",
       "      <td>154</td>\n",
       "    </tr>\n",
       "    <tr>\n",
       "      <th>H</th>\n",
       "      <td>98.0</td>\n",
       "      <td>1287</td>\n",
       "    </tr>\n",
       "    <tr>\n",
       "      <th>U</th>\n",
       "      <td>92.0</td>\n",
       "      <td>1230</td>\n",
       "    </tr>\n",
       "    <tr>\n",
       "      <th>Z</th>\n",
       "      <td>90.0</td>\n",
       "      <td>123</td>\n",
       "    </tr>\n",
       "    <tr>\n",
       "      <th>X</th>\n",
       "      <td>86.0</td>\n",
       "      <td>97</td>\n",
       "    </tr>\n",
       "    <tr>\n",
       "      <th>T</th>\n",
       "      <td>83.0</td>\n",
       "      <td>2276</td>\n",
       "    </tr>\n",
       "    <tr>\n",
       "      <th>-</th>\n",
       "      <td>67.0</td>\n",
       "      <td>87</td>\n",
       "    </tr>\n",
       "    <tr>\n",
       "      <th>N</th>\n",
       "      <td>63.0</td>\n",
       "      <td>2335</td>\n",
       "    </tr>\n",
       "    <tr>\n",
       "      <th>S</th>\n",
       "      <td>59.0</td>\n",
       "      <td>2324</td>\n",
       "    </tr>\n",
       "    <tr>\n",
       "      <th>Q</th>\n",
       "      <td>57.0</td>\n",
       "      <td>59</td>\n",
       "    </tr>\n",
       "    <tr>\n",
       "      <th>'</th>\n",
       "      <td>45.0</td>\n",
       "      <td>47</td>\n",
       "    </tr>\n",
       "    <tr>\n",
       "      <th>R</th>\n",
       "      <td>34.0</td>\n",
       "      <td>2531</td>\n",
       "    </tr>\n",
       "    <tr>\n",
       "      <th>&amp;</th>\n",
       "      <td>30.0</td>\n",
       "      <td>35</td>\n",
       "    </tr>\n",
       "    <tr>\n",
       "      <th>O</th>\n",
       "      <td>30.0</td>\n",
       "      <td>2811</td>\n",
       "    </tr>\n",
       "    <tr>\n",
       "      <th>I</th>\n",
       "      <td>17.0</td>\n",
       "      <td>2661</td>\n",
       "    </tr>\n",
       "    <tr>\n",
       "      <th>!</th>\n",
       "      <td>9.0</td>\n",
       "      <td>9</td>\n",
       "    </tr>\n",
       "    <tr>\n",
       "      <th>A</th>\n",
       "      <td>8.0</td>\n",
       "      <td>3435</td>\n",
       "    </tr>\n",
       "    <tr>\n",
       "      <th>.</th>\n",
       "      <td>8.0</td>\n",
       "      <td>8</td>\n",
       "    </tr>\n",
       "    <tr>\n",
       "      <th>E</th>\n",
       "      <td>3.0</td>\n",
       "      <td>3742</td>\n",
       "    </tr>\n",
       "    <tr>\n",
       "      <th>?</th>\n",
       "      <td>3.0</td>\n",
       "      <td>3</td>\n",
       "    </tr>\n",
       "    <tr>\n",
       "      <th>\"</th>\n",
       "      <td>1.0</td>\n",
       "      <td>1</td>\n",
       "    </tr>\n",
       "    <tr>\n",
       "      <th>2</th>\n",
       "      <td>1.0</td>\n",
       "      <td>1</td>\n",
       "    </tr>\n",
       "    <tr>\n",
       "      <th>`</th>\n",
       "      <td>1.0</td>\n",
       "      <td>1</td>\n",
       "    </tr>\n",
       "    <tr>\n",
       "      <th>n</th>\n",
       "      <td>1.0</td>\n",
       "      <td>3</td>\n",
       "    </tr>\n",
       "    <tr>\n",
       "      <th>s</th>\n",
       "      <td>1.0</td>\n",
       "      <td>1</td>\n",
       "    </tr>\n",
       "    <tr>\n",
       "      <th></th>\n",
       "      <td>0.0</td>\n",
       "      <td>3339</td>\n",
       "    </tr>\n",
       "    <tr>\n",
       "      <th>a</th>\n",
       "      <td>0.0</td>\n",
       "      <td>35</td>\n",
       "    </tr>\n",
       "    <tr>\n",
       "      <th>m</th>\n",
       "      <td>0.0</td>\n",
       "      <td>35</td>\n",
       "    </tr>\n",
       "    <tr>\n",
       "      <th>p</th>\n",
       "      <td>0.0</td>\n",
       "      <td>35</td>\n",
       "    </tr>\n",
       "    <tr>\n",
       "      <th>;</th>\n",
       "      <td>0.0</td>\n",
       "      <td>35</td>\n",
       "    </tr>\n",
       "    <tr>\n",
       "      <th>e</th>\n",
       "      <td>0.0</td>\n",
       "      <td>1</td>\n",
       "    </tr>\n",
       "    <tr>\n",
       "      <th>i</th>\n",
       "      <td>0.0</td>\n",
       "      <td>2</td>\n",
       "    </tr>\n",
       "    <tr>\n",
       "      <th>g</th>\n",
       "      <td>0.0</td>\n",
       "      <td>2</td>\n",
       "    </tr>\n",
       "  </tbody>\n",
       "</table>\n",
       "</div>"
      ]
     },
     "execution_count": 27,
     "metadata": {},
     "output_type": "execute_result"
    }
   ],
   "execution_count": 27
  },
  {
   "metadata": {
    "ExecuteTime": {
     "end_time": "2024-07-13T23:34:57.584168Z",
     "start_time": "2024-07-13T23:34:57.559243Z"
    }
   },
   "cell_type": "code",
   "source": [
    "import regex as re\n",
    "\n",
    "def assign_new_category(letter):\n",
    "    if re.match(r'[^A-Z]', letter):\n",
    "        return 'Miscellaneous'\n",
    "    if re.match(r'[RSTLNE]', letter):\n",
    "        return 'RSTLNE'\n",
    "    if re.match(r'[AIOU]', letter):\n",
    "        return 'Vowel'\n",
    "    return 'Consonant'\n",
    "\n",
    "mapping = {\n",
    "    'Miscellaneous': 'gray',\n",
    "    'RSTLNE': 'green',\n",
    "    'Vowel': 'blue',\n",
    "    'Consonant': 'red'\n",
    "}\n",
    "\n",
    "categories = [assign_new_category(letter) for letter in tfidf_and_frequency.index.to_numpy()]\n",
    "tfidf_and_frequency['category'] = categories\n",
    "tfidf_and_frequency['color'] = tfidf_and_frequency['category'].map(mapping)\n",
    "tfidf_and_frequency"
   ],
   "outputs": [
    {
     "data": {
      "text/plain": [
       "   tf-idf_frequency  letter_frequency       category  color\n",
       "F             267.0               738      Consonant    red\n",
       "V             258.0               383      Consonant    red\n",
       "W             253.0               526      Consonant    red\n",
       "B             211.0              1003      Consonant    red\n",
       "K             194.0               705      Consonant    red\n",
       "M             189.0               989      Consonant    red\n",
       "P             188.0              1182      Consonant    red\n",
       "G             165.0              1183      Consonant    red\n",
       "L             148.0              1786         RSTLNE  green\n",
       "C             141.0              1681      Consonant    red\n",
       "D             119.0              1364      Consonant    red\n",
       "Y             116.0               767      Consonant    red\n",
       "J             116.0               154      Consonant    red\n",
       "H              98.0              1287      Consonant    red\n",
       "U              92.0              1230          Vowel   blue\n",
       "Z              90.0               123      Consonant    red\n",
       "X              86.0                97      Consonant    red\n",
       "T              83.0              2276         RSTLNE  green\n",
       "-              67.0                87  Miscellaneous   gray\n",
       "N              63.0              2335         RSTLNE  green\n",
       "S              59.0              2324         RSTLNE  green\n",
       "Q              57.0                59      Consonant    red\n",
       "'              45.0                47  Miscellaneous   gray\n",
       "R              34.0              2531         RSTLNE  green\n",
       "&              30.0                35  Miscellaneous   gray\n",
       "O              30.0              2811          Vowel   blue\n",
       "I              17.0              2661          Vowel   blue\n",
       "!               9.0                 9  Miscellaneous   gray\n",
       "A               8.0              3435          Vowel   blue\n",
       ".               8.0                 8  Miscellaneous   gray\n",
       "E               3.0              3742         RSTLNE  green\n",
       "?               3.0                 3  Miscellaneous   gray\n",
       "\"               1.0                 1  Miscellaneous   gray\n",
       "2               1.0                 1  Miscellaneous   gray\n",
       "`               1.0                 1  Miscellaneous   gray\n",
       "n               1.0                 3  Miscellaneous   gray\n",
       "s               1.0                 1  Miscellaneous   gray\n",
       "                0.0              3339  Miscellaneous   gray\n",
       "a               0.0                35  Miscellaneous   gray\n",
       "m               0.0                35  Miscellaneous   gray\n",
       "p               0.0                35  Miscellaneous   gray\n",
       ";               0.0                35  Miscellaneous   gray\n",
       "e               0.0                 1  Miscellaneous   gray\n",
       "i               0.0                 2  Miscellaneous   gray\n",
       "g               0.0                 2  Miscellaneous   gray"
      ],
      "text/html": [
       "<div>\n",
       "<style scoped>\n",
       "    .dataframe tbody tr th:only-of-type {\n",
       "        vertical-align: middle;\n",
       "    }\n",
       "\n",
       "    .dataframe tbody tr th {\n",
       "        vertical-align: top;\n",
       "    }\n",
       "\n",
       "    .dataframe thead th {\n",
       "        text-align: right;\n",
       "    }\n",
       "</style>\n",
       "<table border=\"1\" class=\"dataframe\">\n",
       "  <thead>\n",
       "    <tr style=\"text-align: right;\">\n",
       "      <th></th>\n",
       "      <th>tf-idf_frequency</th>\n",
       "      <th>letter_frequency</th>\n",
       "      <th>category</th>\n",
       "      <th>color</th>\n",
       "    </tr>\n",
       "  </thead>\n",
       "  <tbody>\n",
       "    <tr>\n",
       "      <th>F</th>\n",
       "      <td>267.0</td>\n",
       "      <td>738</td>\n",
       "      <td>Consonant</td>\n",
       "      <td>red</td>\n",
       "    </tr>\n",
       "    <tr>\n",
       "      <th>V</th>\n",
       "      <td>258.0</td>\n",
       "      <td>383</td>\n",
       "      <td>Consonant</td>\n",
       "      <td>red</td>\n",
       "    </tr>\n",
       "    <tr>\n",
       "      <th>W</th>\n",
       "      <td>253.0</td>\n",
       "      <td>526</td>\n",
       "      <td>Consonant</td>\n",
       "      <td>red</td>\n",
       "    </tr>\n",
       "    <tr>\n",
       "      <th>B</th>\n",
       "      <td>211.0</td>\n",
       "      <td>1003</td>\n",
       "      <td>Consonant</td>\n",
       "      <td>red</td>\n",
       "    </tr>\n",
       "    <tr>\n",
       "      <th>K</th>\n",
       "      <td>194.0</td>\n",
       "      <td>705</td>\n",
       "      <td>Consonant</td>\n",
       "      <td>red</td>\n",
       "    </tr>\n",
       "    <tr>\n",
       "      <th>M</th>\n",
       "      <td>189.0</td>\n",
       "      <td>989</td>\n",
       "      <td>Consonant</td>\n",
       "      <td>red</td>\n",
       "    </tr>\n",
       "    <tr>\n",
       "      <th>P</th>\n",
       "      <td>188.0</td>\n",
       "      <td>1182</td>\n",
       "      <td>Consonant</td>\n",
       "      <td>red</td>\n",
       "    </tr>\n",
       "    <tr>\n",
       "      <th>G</th>\n",
       "      <td>165.0</td>\n",
       "      <td>1183</td>\n",
       "      <td>Consonant</td>\n",
       "      <td>red</td>\n",
       "    </tr>\n",
       "    <tr>\n",
       "      <th>L</th>\n",
       "      <td>148.0</td>\n",
       "      <td>1786</td>\n",
       "      <td>RSTLNE</td>\n",
       "      <td>green</td>\n",
       "    </tr>\n",
       "    <tr>\n",
       "      <th>C</th>\n",
       "      <td>141.0</td>\n",
       "      <td>1681</td>\n",
       "      <td>Consonant</td>\n",
       "      <td>red</td>\n",
       "    </tr>\n",
       "    <tr>\n",
       "      <th>D</th>\n",
       "      <td>119.0</td>\n",
       "      <td>1364</td>\n",
       "      <td>Consonant</td>\n",
       "      <td>red</td>\n",
       "    </tr>\n",
       "    <tr>\n",
       "      <th>Y</th>\n",
       "      <td>116.0</td>\n",
       "      <td>767</td>\n",
       "      <td>Consonant</td>\n",
       "      <td>red</td>\n",
       "    </tr>\n",
       "    <tr>\n",
       "      <th>J</th>\n",
       "      <td>116.0</td>\n",
       "      <td>154</td>\n",
       "      <td>Consonant</td>\n",
       "      <td>red</td>\n",
       "    </tr>\n",
       "    <tr>\n",
       "      <th>H</th>\n",
       "      <td>98.0</td>\n",
       "      <td>1287</td>\n",
       "      <td>Consonant</td>\n",
       "      <td>red</td>\n",
       "    </tr>\n",
       "    <tr>\n",
       "      <th>U</th>\n",
       "      <td>92.0</td>\n",
       "      <td>1230</td>\n",
       "      <td>Vowel</td>\n",
       "      <td>blue</td>\n",
       "    </tr>\n",
       "    <tr>\n",
       "      <th>Z</th>\n",
       "      <td>90.0</td>\n",
       "      <td>123</td>\n",
       "      <td>Consonant</td>\n",
       "      <td>red</td>\n",
       "    </tr>\n",
       "    <tr>\n",
       "      <th>X</th>\n",
       "      <td>86.0</td>\n",
       "      <td>97</td>\n",
       "      <td>Consonant</td>\n",
       "      <td>red</td>\n",
       "    </tr>\n",
       "    <tr>\n",
       "      <th>T</th>\n",
       "      <td>83.0</td>\n",
       "      <td>2276</td>\n",
       "      <td>RSTLNE</td>\n",
       "      <td>green</td>\n",
       "    </tr>\n",
       "    <tr>\n",
       "      <th>-</th>\n",
       "      <td>67.0</td>\n",
       "      <td>87</td>\n",
       "      <td>Miscellaneous</td>\n",
       "      <td>gray</td>\n",
       "    </tr>\n",
       "    <tr>\n",
       "      <th>N</th>\n",
       "      <td>63.0</td>\n",
       "      <td>2335</td>\n",
       "      <td>RSTLNE</td>\n",
       "      <td>green</td>\n",
       "    </tr>\n",
       "    <tr>\n",
       "      <th>S</th>\n",
       "      <td>59.0</td>\n",
       "      <td>2324</td>\n",
       "      <td>RSTLNE</td>\n",
       "      <td>green</td>\n",
       "    </tr>\n",
       "    <tr>\n",
       "      <th>Q</th>\n",
       "      <td>57.0</td>\n",
       "      <td>59</td>\n",
       "      <td>Consonant</td>\n",
       "      <td>red</td>\n",
       "    </tr>\n",
       "    <tr>\n",
       "      <th>'</th>\n",
       "      <td>45.0</td>\n",
       "      <td>47</td>\n",
       "      <td>Miscellaneous</td>\n",
       "      <td>gray</td>\n",
       "    </tr>\n",
       "    <tr>\n",
       "      <th>R</th>\n",
       "      <td>34.0</td>\n",
       "      <td>2531</td>\n",
       "      <td>RSTLNE</td>\n",
       "      <td>green</td>\n",
       "    </tr>\n",
       "    <tr>\n",
       "      <th>&amp;</th>\n",
       "      <td>30.0</td>\n",
       "      <td>35</td>\n",
       "      <td>Miscellaneous</td>\n",
       "      <td>gray</td>\n",
       "    </tr>\n",
       "    <tr>\n",
       "      <th>O</th>\n",
       "      <td>30.0</td>\n",
       "      <td>2811</td>\n",
       "      <td>Vowel</td>\n",
       "      <td>blue</td>\n",
       "    </tr>\n",
       "    <tr>\n",
       "      <th>I</th>\n",
       "      <td>17.0</td>\n",
       "      <td>2661</td>\n",
       "      <td>Vowel</td>\n",
       "      <td>blue</td>\n",
       "    </tr>\n",
       "    <tr>\n",
       "      <th>!</th>\n",
       "      <td>9.0</td>\n",
       "      <td>9</td>\n",
       "      <td>Miscellaneous</td>\n",
       "      <td>gray</td>\n",
       "    </tr>\n",
       "    <tr>\n",
       "      <th>A</th>\n",
       "      <td>8.0</td>\n",
       "      <td>3435</td>\n",
       "      <td>Vowel</td>\n",
       "      <td>blue</td>\n",
       "    </tr>\n",
       "    <tr>\n",
       "      <th>.</th>\n",
       "      <td>8.0</td>\n",
       "      <td>8</td>\n",
       "      <td>Miscellaneous</td>\n",
       "      <td>gray</td>\n",
       "    </tr>\n",
       "    <tr>\n",
       "      <th>E</th>\n",
       "      <td>3.0</td>\n",
       "      <td>3742</td>\n",
       "      <td>RSTLNE</td>\n",
       "      <td>green</td>\n",
       "    </tr>\n",
       "    <tr>\n",
       "      <th>?</th>\n",
       "      <td>3.0</td>\n",
       "      <td>3</td>\n",
       "      <td>Miscellaneous</td>\n",
       "      <td>gray</td>\n",
       "    </tr>\n",
       "    <tr>\n",
       "      <th>\"</th>\n",
       "      <td>1.0</td>\n",
       "      <td>1</td>\n",
       "      <td>Miscellaneous</td>\n",
       "      <td>gray</td>\n",
       "    </tr>\n",
       "    <tr>\n",
       "      <th>2</th>\n",
       "      <td>1.0</td>\n",
       "      <td>1</td>\n",
       "      <td>Miscellaneous</td>\n",
       "      <td>gray</td>\n",
       "    </tr>\n",
       "    <tr>\n",
       "      <th>`</th>\n",
       "      <td>1.0</td>\n",
       "      <td>1</td>\n",
       "      <td>Miscellaneous</td>\n",
       "      <td>gray</td>\n",
       "    </tr>\n",
       "    <tr>\n",
       "      <th>n</th>\n",
       "      <td>1.0</td>\n",
       "      <td>3</td>\n",
       "      <td>Miscellaneous</td>\n",
       "      <td>gray</td>\n",
       "    </tr>\n",
       "    <tr>\n",
       "      <th>s</th>\n",
       "      <td>1.0</td>\n",
       "      <td>1</td>\n",
       "      <td>Miscellaneous</td>\n",
       "      <td>gray</td>\n",
       "    </tr>\n",
       "    <tr>\n",
       "      <th></th>\n",
       "      <td>0.0</td>\n",
       "      <td>3339</td>\n",
       "      <td>Miscellaneous</td>\n",
       "      <td>gray</td>\n",
       "    </tr>\n",
       "    <tr>\n",
       "      <th>a</th>\n",
       "      <td>0.0</td>\n",
       "      <td>35</td>\n",
       "      <td>Miscellaneous</td>\n",
       "      <td>gray</td>\n",
       "    </tr>\n",
       "    <tr>\n",
       "      <th>m</th>\n",
       "      <td>0.0</td>\n",
       "      <td>35</td>\n",
       "      <td>Miscellaneous</td>\n",
       "      <td>gray</td>\n",
       "    </tr>\n",
       "    <tr>\n",
       "      <th>p</th>\n",
       "      <td>0.0</td>\n",
       "      <td>35</td>\n",
       "      <td>Miscellaneous</td>\n",
       "      <td>gray</td>\n",
       "    </tr>\n",
       "    <tr>\n",
       "      <th>;</th>\n",
       "      <td>0.0</td>\n",
       "      <td>35</td>\n",
       "      <td>Miscellaneous</td>\n",
       "      <td>gray</td>\n",
       "    </tr>\n",
       "    <tr>\n",
       "      <th>e</th>\n",
       "      <td>0.0</td>\n",
       "      <td>1</td>\n",
       "      <td>Miscellaneous</td>\n",
       "      <td>gray</td>\n",
       "    </tr>\n",
       "    <tr>\n",
       "      <th>i</th>\n",
       "      <td>0.0</td>\n",
       "      <td>2</td>\n",
       "      <td>Miscellaneous</td>\n",
       "      <td>gray</td>\n",
       "    </tr>\n",
       "    <tr>\n",
       "      <th>g</th>\n",
       "      <td>0.0</td>\n",
       "      <td>2</td>\n",
       "      <td>Miscellaneous</td>\n",
       "      <td>gray</td>\n",
       "    </tr>\n",
       "  </tbody>\n",
       "</table>\n",
       "</div>"
      ]
     },
     "execution_count": 28,
     "metadata": {},
     "output_type": "execute_result"
    }
   ],
   "execution_count": 28
  },
  {
   "metadata": {
    "ExecuteTime": {
     "end_time": "2024-07-13T23:34:57.703847Z",
     "start_time": "2024-07-13T23:34:57.585166Z"
    }
   },
   "cell_type": "code",
   "source": [
    "# plt.scatter(data=tfidf_and_frequency, y='tf-idf_frequency', x='letter_frequency', color='color')\n",
    "# plt.ylabel('Tf-idf')\n",
    "# plt.xlabel('Letter Frequency')\n",
    "# plt.title('Tf-idf vs Letter Frequency')\n",
    "# plt.show()"
   ],
   "outputs": [
    {
     "data": {
      "text/plain": [
       "<Figure size 640x480 with 1 Axes>"
      ],
      "image/png": "[encoded data removed]"
     },
     "metadata": {},
     "output_type": "display_data"
    }
   ],
   "execution_count": 29
  },
  {
   "metadata": {
    "ExecuteTime": {
     "end_time": "2024-07-13T23:38:17.151267Z",
     "start_time": "2024-07-13T23:38:17.088096Z"
    }
   },
   "cell_type": "code",
   "source": [
    "px.scatter(tfidf_and_frequency, x='letter_frequency', y='tf-idf_frequency', \n",
    "           hover_name=tfidf_and_frequency.index, \n",
    "           width=1000, height=500, \n",
    "           color='category', \n",
    "           color_discrete_map= mapping,\n",
    "           title='Highest tf-idf letters vs Letter Frequency',\n",
    "           trendline='ols',\n",
    "           )"
   ],
   "outputs": [
    {
     "data": {
      "application/vnd.plotly.v1+json": {
       "data": [
        {
         "hovertemplate": "<b>%{hovertext}</b><br><br>category=Consonant<br>letter_frequency=%{x}<br>tf-idf_frequency=%{y}<extra></extra>",
         "hovertext": [
          "F",
          "V",
          "W",
          "B",
          "K",
          "M",
          "P",
          "G",
          "C",
          "D",
          "Y",
          "J",
          "H",
          "Z",
          "X",
          "Q"
         ],
         "legendgroup": "Consonant",
         "marker": {
          "color": "red",
          "symbol": "circle"
         },
         "mode": "markers",
         "name": "Consonant",
         "orientation": "v",
         "showlegend": true,
         "x": [
          738,
          383,
          526,
          1003,
          705,
          989,
          1182,
          1183,
          1681,
          1364,
          767,
          154,
          1287,
          123,
          97,
          59
         ],
         "xaxis": "x",
         "y": [
          267.0,
          258.0,
          253.0,
          211.0,
          194.0,
          189.0,
          188.0,
          165.0,
          141.0,
          119.0,
          116.0,
          116.0,
          98.0,
          90.0,
          86.0,
          57.0
         ],
         "yaxis": "y",
         "type": "scatter"
        },
        {
         "hovertemplate": "<b>OLS trendline</b><br>tf-idf_frequency = 0.0226148 * letter_frequency + 141.948<br>R<sup>2</sup>=0.030008<br><br>category=Consonant<br>letter_frequency=%{x}<br>tf-idf_frequency=%{y} <b>(trend)</b><extra></extra>",
         "legendgroup": "Consonant",
         "marker": {
          "color": "red",
          "symbol": "circle"
         },
         "mode": "lines",
         "name": "Consonant",
         "showlegend": false,
         "x": [
          59,
          97,
          123,
          154,
          383,
          526,
          705,
          738,
          767,
          989,
          1003,
          1182,
          1183,
          1287,
          1364,
          1681
         ],
         "xaxis": "x",
         "y": [
          143.28252636741576,
          144.14188938136735,
          144.7298746014395,
          145.43093390229475,
          150.60972680216096,
          153.8436455125578,
          157.89169760459296,
          158.63798653776144,
          159.29381620630346,
          164.31430539307334,
          164.63091281926603,
          168.6789649113012,
          168.7015797274578,
          171.0535206077464,
          172.79486145180624,
          179.96375817345512
         ],
         "yaxis": "y",
         "type": "scatter"
        },
        {
         "hovertemplate": "<b>%{hovertext}</b><br><br>category=RSTLNE<br>letter_frequency=%{x}<br>tf-idf_frequency=%{y}<extra></extra>",
         "hovertext": [
          "L",
          "T",
          "N",
          "S",
          "R",
          "E"
         ],
         "legendgroup": "RSTLNE",
         "marker": {
          "color": "green",
          "symbol": "circle"
         },
         "mode": "markers",
         "name": "RSTLNE",
         "orientation": "v",
         "showlegend": true,
         "x": [
          1786,
          2276,
          2335,
          2324,
          2531,
          3742
         ],
         "xaxis": "x",
         "y": [
          148.0,
          83.0,
          63.0,
          59.0,
          34.0,
          3.0
         ],
         "yaxis": "y",
         "type": "scatter"
        },
        {
         "hovertemplate": "<b>OLS trendline</b><br>tf-idf_frequency = -0.0647053 * letter_frequency + 226.699<br>R<sup>2</sup>=0.750583<br><br>category=RSTLNE<br>letter_frequency=%{x}<br>tf-idf_frequency=%{y} <b>(trend)</b><extra></extra>",
         "legendgroup": "RSTLNE",
         "marker": {
          "color": "green",
          "symbol": "circle"
         },
         "mode": "lines",
         "name": "RSTLNE",
         "showlegend": false,
         "x": [
          1786,
          2276,
          2324,
          2335,
          2531,
          3742
         ],
         "xaxis": "x",
         "y": [
          111.13490219698282,
          79.42928918643366,
          76.32343321805334,
          75.61167455863284,
          62.9294293544132,
          -15.428728514515427
         ],
         "yaxis": "y",
         "type": "scatter"
        },
        {
         "hovertemplate": "<b>%{hovertext}</b><br><br>category=Vowel<br>letter_frequency=%{x}<br>tf-idf_frequency=%{y}<extra></extra>",
         "hovertext": [
          "U",
          "O",
          "I",
          "A"
         ],
         "legendgroup": "Vowel",
         "marker": {
          "color": "blue",
          "symbol": "circle"
         },
         "mode": "markers",
         "name": "Vowel",
         "orientation": "v",
         "showlegend": true,
         "x": [
          1230,
          2811,
          2661,
          3435
         ],
         "xaxis": "x",
         "y": [
          92.0,
          30.0,
          17.0,
          8.0
         ],
         "yaxis": "y",
         "type": "scatter"
        },
        {
         "hovertemplate": "<b>OLS trendline</b><br>tf-idf_frequency = -0.0392802 * letter_frequency + 136.296<br>R<sup>2</sup>=0.931560<br><br>category=Vowel<br>letter_frequency=%{x}<br>tf-idf_frequency=%{y} <b>(trend)</b><extra></extra>",
         "legendgroup": "Vowel",
         "marker": {
          "color": "blue",
          "symbol": "circle"
         },
         "mode": "lines",
         "name": "Vowel",
         "showlegend": false,
         "x": [
          1230,
          2661,
          2811,
          3435
         ],
         "xaxis": "x",
         "y": [
          87.98114718205301,
          31.771239865573932,
          25.879216037850753,
          1.36839691452235
         ],
         "yaxis": "y",
         "type": "scatter"
        },
        {
         "hovertemplate": "<b>%{hovertext}</b><br><br>category=Miscellaneous<br>letter_frequency=%{x}<br>tf-idf_frequency=%{y}<extra></extra>",
         "hovertext": [
          "-",
          "'",
          "&",
          "!",
          ".",
          "?",
          "\"",
          "2",
          "`",
          "n",
          "s",
          " ",
          "a",
          "m",
          "p",
          ";",
          "e",
          "i",
          "g"
         ],
         "legendgroup": "Miscellaneous",
         "marker": {
          "color": "gray",
          "symbol": "circle"
         },
         "mode": "markers",
         "name": "Miscellaneous",
         "orientation": "v",
         "showlegend": true,
         "x": [
          87,
          47,
          35,
          9,
          8,
          3,
          1,
          1,
          1,
          3,
          1,
          3339,
          35,
          35,
          35,
          35,
          1,
          2,
          2
         ],
         "xaxis": "x",
         "y": [
          67.0,
          45.0,
          30.0,
          9.0,
          8.0,
          3.0,
          1.0,
          1.0,
          1.0,
          1.0,
          1.0,
          0.0,
          0.0,
          0.0,
          0.0,
          0.0,
          0.0,
          0.0,
          0.0
         ],
         "yaxis": "y",
         "type": "scatter"
        },
        {
         "hovertemplate": "<b>OLS trendline</b><br>tf-idf_frequency = -0.00221869 * letter_frequency + 9.2192<br>R<sup>2</sup>=0.008428<br><br>category=Miscellaneous<br>letter_frequency=%{x}<br>tf-idf_frequency=%{y} <b>(trend)</b><extra></extra>",
         "legendgroup": "Miscellaneous",
         "marker": {
          "color": "gray",
          "symbol": "circle"
         },
         "mode": "lines",
         "name": "Miscellaneous",
         "showlegend": false,
         "x": [
          1,
          1,
          1,
          1,
          1,
          2,
          2,
          3,
          3,
          8,
          9,
          35,
          35,
          35,
          35,
          35,
          47,
          87,
          3339
         ],
         "xaxis": "x",
         "y": [
          9.2169798119366,
          9.2169798119366,
          9.2169798119366,
          9.2169798119366,
          9.2169798119366,
          9.2147611240298,
          9.2147611240298,
          9.212542436123,
          9.212542436123,
          9.201448996588999,
          9.1992303086822,
          9.141544423105396,
          9.141544423105396,
          9.141544423105396,
          9.141544423105396,
          9.141544423105396,
          9.114920168223794,
          9.026172651951788,
          1.810999579037694
         ],
         "yaxis": "y",
         "type": "scatter"
        }
       ],
       "layout": {
        "template": {
         "data": {
          "histogram2dcontour": [
           {
            "type": "histogram2dcontour",
            "colorbar": {
             "outlinewidth": 0,
             "ticks": ""
            },
            "colorscale": [
             [
              0.0,
              "#0d0887"
             ],
             [
              0.1111111111111111,
              "#46039f"
             ],
             [
              0.2222222222222222,
              "#7201a8"
             ],
             [
              0.3333333333333333,
              "#9c179e"
             ],
             [
              0.4444444444444444,
              "#bd3786"
             ],
             [
              0.5555555555555556,
              "#d8576b"
             ],
             [
              0.6666666666666666,
              "#ed7953"
             ],
             [
              0.7777777777777778,
              "#fb9f3a"
             ],
             [
              0.8888888888888888,
              "#fdca26"
             ],
             [
              1.0,
              "#f0f921"
             ]
            ]
           }
          ],
          "choropleth": [
           {
            "type": "choropleth",
            "colorbar": {
             "outlinewidth": 0,
             "ticks": ""
            }
           }
          ],
          "histogram2d": [
           {
            "type": "histogram2d",
            "colorbar": {
             "outlinewidth": 0,
             "ticks": ""
            },
            "colorscale": [
             [
              0.0,
              "#0d0887"
             ],
             [
              0.1111111111111111,
              "#46039f"
             ],
             [
              0.2222222222222222,
              "#7201a8"
             ],
             [
              0.3333333333333333,
              "#9c179e"
             ],
             [
              0.4444444444444444,
              "#bd3786"
             ],
             [
              0.5555555555555556,
              "#d8576b"
             ],
             [
              0.6666666666666666,
              "#ed7953"
             ],
             [
              0.7777777777777778,
              "#fb9f3a"
             ],
             [
              0.8888888888888888,
              "#fdca26"
             ],
             [
              1.0,
              "#f0f921"
             ]
            ]
           }
          ],
          "heatmap": [
           {
            "type": "heatmap",
            "colorbar": {
             "outlinewidth": 0,
             "ticks": ""
            },
            "colorscale": [
             [
              0.0,
              "#0d0887"
             ],
             [
              0.1111111111111111,
              "#46039f"
             ],
             [
              0.2222222222222222,
              "#7201a8"
             ],
             [
              0.3333333333333333,
              "#9c179e"
             ],
             [
              0.4444444444444444,
              "#bd3786"
             ],
             [
              0.5555555555555556,
              "#d8576b"
             ],
             [
              0.6666666666666666,
              "#ed7953"
             ],
             [
              0.7777777777777778,
              "#fb9f3a"
             ],
             [
              0.8888888888888888,
              "#fdca26"
             ],
             [
              1.0,
              "#f0f921"
             ]
            ]
           }
          ],
          "heatmapgl": [
           {
            "type": "heatmapgl",
            "colorbar": {
             "outlinewidth": 0,
             "ticks": ""
            },
            "colorscale": [
             [
              0.0,
              "#0d0887"
             ],
             [
              0.1111111111111111,
              "#46039f"
             ],
             [
              0.2222222222222222,
              "#7201a8"
             ],
             [
              0.3333333333333333,
              "#9c179e"
             ],
             [
              0.4444444444444444,
              "#bd3786"
             ],
             [
              0.5555555555555556,
              "#d8576b"
             ],
             [
              0.6666666666666666,
              "#ed7953"
             ],
             [
              0.7777777777777778,
              "#fb9f3a"
             ],
             [
              0.8888888888888888,
              "#fdca26"
             ],
             [
              1.0,
              "#f0f921"
             ]
            ]
           }
          ],
          "contourcarpet": [
           {
            "type": "contourcarpet",
            "colorbar": {
             "outlinewidth": 0,
             "ticks": ""
            }
           }
          ],
          "contour": [
           {
            "type": "contour",
            "colorbar": {
             "outlinewidth": 0,
             "ticks": ""
            },
            "colorscale": [
             [
              0.0,
              "#0d0887"
             ],
             [
              0.1111111111111111,
              "#46039f"
             ],
             [
              0.2222222222222222,
              "#7201a8"
             ],
             [
              0.3333333333333333,
              "#9c179e"
             ],
             [
              0.4444444444444444,
              "#bd3786"
             ],
             [
              0.5555555555555556,
              "#d8576b"
             ],
             [
              0.6666666666666666,
              "#ed7953"
             ],
             [
              0.7777777777777778,
              "#fb9f3a"
             ],
             [
              0.8888888888888888,
              "#fdca26"
             ],
             [
              1.0,
              "#f0f921"
             ]
            ]
           }
          ],
          "surface": [
           {
            "type": "surface",
            "colorbar": {
             "outlinewidth": 0,
             "ticks": ""
            },
            "colorscale": [
             [
              0.0,
              "#0d0887"
             ],
             [
              0.1111111111111111,
              "#46039f"
             ],
             [
              0.2222222222222222,
              "#7201a8"
             ],
             [
              0.3333333333333333,
              "#9c179e"
             ],
             [
              0.4444444444444444,
              "#bd3786"
             ],
             [
              0.5555555555555556,
              "#d8576b"
             ],
             [
              0.6666666666666666,
              "#ed7953"
             ],
             [
              0.7777777777777778,
              "#fb9f3a"
             ],
             [
              0.8888888888888888,
              "#fdca26"
             ],
             [
              1.0,
              "#f0f921"
             ]
            ]
           }
          ],
          "mesh3d": [
           {
            "type": "mesh3d",
            "colorbar": {
             "outlinewidth": 0,
             "ticks": ""
            }
           }
          ],
          "scatter": [
           {
            "marker": {
             "line": {
              "color": "#283442"
             }
            },
            "type": "scatter"
           }
          ],
          "parcoords": [
           {
            "type": "parcoords",
            "line": {
             "colorbar": {
              "outlinewidth": 0,
              "ticks": ""
             }
            }
           }
          ],
          "scatterpolargl": [
           {
            "type": "scatterpolargl",
            "marker": {
             "colorbar": {
              "outlinewidth": 0,
              "ticks": ""
             }
            }
           }
          ],
          "bar": [
           {
            "error_x": {
             "color": "#f2f5fa"
            },
            "error_y": {
             "color": "#f2f5fa"
            },
            "marker": {
             "line": {
              "color": "rgb(17,17,17)",
              "width": 0.5
             },
             "pattern": {
              "fillmode": "overlay",
              "size": 10,
              "solidity": 0.2
             }
            },
            "type": "bar"
           }
          ],
          "scattergeo": [
           {
            "type": "scattergeo",
            "marker": {
             "colorbar": {
              "outlinewidth": 0,
              "ticks": ""
             }
            }
           }
          ],
          "scatterpolar": [
           {
            "type": "scatterpolar",
            "marker": {
             "colorbar": {
              "outlinewidth": 0,
              "ticks": ""
             }
            }
           }
          ],
          "histogram": [
           {
            "marker": {
             "pattern": {
              "fillmode": "overlay",
              "size": 10,
              "solidity": 0.2
             }
            },
            "type": "histogram"
           }
          ],
          "scattergl": [
           {
            "marker": {
             "line": {
              "color": "#283442"
             }
            },
            "type": "scattergl"
           }
          ],
          "scatter3d": [
           {
            "type": "scatter3d",
            "line": {
             "colorbar": {
              "outlinewidth": 0,
              "ticks": ""
             }
            },
            "marker": {
             "colorbar": {
              "outlinewidth": 0,
              "ticks": ""
             }
            }
           }
          ],
          "scattermapbox": [
           {
            "type": "scattermapbox",
            "marker": {
             "colorbar": {
              "outlinewidth": 0,
              "ticks": ""
             }
            }
           }
          ],
          "scatterternary": [
           {
            "type": "scatterternary",
            "marker": {
             "colorbar": {
              "outlinewidth": 0,
              "ticks": ""
             }
            }
           }
          ],
          "scattercarpet": [
           {
            "type": "scattercarpet",
            "marker": {
             "colorbar": {
              "outlinewidth": 0,
              "ticks": ""
             }
            }
           }
          ],
          "carpet": [
           {
            "aaxis": {
             "endlinecolor": "#A2B1C6",
             "gridcolor": "#506784",
             "linecolor": "#506784",
             "minorgridcolor": "#506784",
             "startlinecolor": "#A2B1C6"
            },
            "baxis": {
             "endlinecolor": "#A2B1C6",
             "gridcolor": "#506784",
             "linecolor": "#506784",
             "minorgridcolor": "#506784",
             "startlinecolor": "#A2B1C6"
            },
            "type": "carpet"
           }
          ],
          "table": [
           {
            "cells": {
             "fill": {
              "color": "#506784"
             },
             "line": {
              "color": "rgb(17,17,17)"
             }
            },
            "header": {
             "fill": {
              "color": "#2a3f5f"
             },
             "line": {
              "color": "rgb(17,17,17)"
             }
            },
            "type": "table"
           }
          ],
          "barpolar": [
           {
            "marker": {
             "line": {
              "color": "rgb(17,17,17)",
              "width": 0.5
             },
             "pattern": {
              "fillmode": "overlay",
              "size": 10,
              "solidity": 0.2
             }
            },
            "type": "barpolar"
           }
          ],
          "pie": [
           {
            "automargin": true,
            "type": "pie"
           }
          ]
         },
         "layout": {
          "autotypenumbers": "strict",
          "colorway": [
           "#636efa",
           "#EF553B",
           "#00cc96",
           "#ab63fa",
           "#FFA15A",
           "#19d3f3",
           "#FF6692",
           "#B6E880",
           "#FF97FF",
           "#FECB52"
          ],
          "font": {
           "color": "#f2f5fa"
          },
          "hovermode": "closest",
          "hoverlabel": {
           "align": "left"
          },
          "paper_bgcolor": "rgb(17,17,17)",
          "plot_bgcolor": "rgb(17,17,17)",
          "polar": {
           "bgcolor": "rgb(17,17,17)",
           "angularaxis": {
            "gridcolor": "#506784",
            "linecolor": "#506784",
            "ticks": ""
           },
           "radialaxis": {
            "gridcolor": "#506784",
            "linecolor": "#506784",
            "ticks": ""
           }
          },
          "ternary": {
           "bgcolor": "rgb(17,17,17)",
           "aaxis": {
            "gridcolor": "#506784",
            "linecolor": "#506784",
            "ticks": ""
           },
           "baxis": {
            "gridcolor": "#506784",
            "linecolor": "#506784",
            "ticks": ""
           },
           "caxis": {
            "gridcolor": "#506784",
            "linecolor": "#506784",
            "ticks": ""
           }
          },
          "coloraxis": {
           "colorbar": {
            "outlinewidth": 0,
            "ticks": ""
           }
          },
          "colorscale": {
           "sequential": [
            [
             0.0,
             "#0d0887"
            ],
            [
             0.1111111111111111,
             "#46039f"
            ],
            [
             0.2222222222222222,
             "#7201a8"
            ],
            [
             0.3333333333333333,
             "#9c179e"
            ],
            [
             0.4444444444444444,
             "#bd3786"
            ],
            [
             0.5555555555555556,
             "#d8576b"
            ],
            [
             0.6666666666666666,
             "#ed7953"
            ],
            [
             0.7777777777777778,
             "#fb9f3a"
            ],
            [
             0.8888888888888888,
             "#fdca26"
            ],
            [
             1.0,
             "#f0f921"
            ]
           ],
           "sequentialminus": [
            [
             0.0,
             "#0d0887"
            ],
            [
             0.1111111111111111,
             "#46039f"
            ],
            [
             0.2222222222222222,
             "#7201a8"
            ],
            [
             0.3333333333333333,
             "#9c179e"
            ],
            [
             0.4444444444444444,
             "#bd3786"
            ],
            [
             0.5555555555555556,
             "#d8576b"
            ],
            [
             0.6666666666666666,
             "#ed7953"
            ],
            [
             0.7777777777777778,
             "#fb9f3a"
            ],
            [
             0.8888888888888888,
             "#fdca26"
            ],
            [
             1.0,
             "#f0f921"
            ]
           ],
           "diverging": [
            [
             0,
             "#8e0152"
            ],
            [
             0.1,
             "#c51b7d"
            ],
            [
             0.2,
             "#de77ae"
            ],
            [
             0.3,
             "#f1b6da"
            ],
            [
             0.4,
             "#fde0ef"
            ],
            [
             0.5,
             "#f7f7f7"
            ],
            [
             0.6,
             "#e6f5d0"
            ],
            [
             0.7,
             "#b8e186"
            ],
            [
             0.8,
             "#7fbc41"
            ],
            [
             0.9,
             "#4d9221"
            ],
            [
             1,
             "#276419"
            ]
           ]
          },
          "xaxis": {
           "gridcolor": "#283442",
           "linecolor": "#506784",
           "ticks": "",
           "title": {
            "standoff": 15
           },
           "zerolinecolor": "#283442",
           "automargin": true,
           "zerolinewidth": 2
          },
          "yaxis": {
           "gridcolor": "#283442",
           "linecolor": "#506784",
           "ticks": "",
           "title": {
            "standoff": 15
           },
           "zerolinecolor": "#283442",
           "automargin": true,
           "zerolinewidth": 2
          },
          "scene": {
           "xaxis": {
            "backgroundcolor": "rgb(17,17,17)",
            "gridcolor": "#506784",
            "linecolor": "#506784",
            "showbackground": true,
            "ticks": "",
            "zerolinecolor": "#C8D4E3",
            "gridwidth": 2
           },
           "yaxis": {
            "backgroundcolor": "rgb(17,17,17)",
            "gridcolor": "#506784",
            "linecolor": "#506784",
            "showbackground": true,
            "ticks": "",
            "zerolinecolor": "#C8D4E3",
            "gridwidth": 2
           },
           "zaxis": {
            "backgroundcolor": "rgb(17,17,17)",
            "gridcolor": "#506784",
            "linecolor": "#506784",
            "showbackground": true,
            "ticks": "",
            "zerolinecolor": "#C8D4E3",
            "gridwidth": 2
           }
          },
          "shapedefaults": {
           "line": {
            "color": "#f2f5fa"
           }
          },
          "annotationdefaults": {
           "arrowcolor": "#f2f5fa",
           "arrowhead": 0,
           "arrowwidth": 1
          },
          "geo": {
           "bgcolor": "rgb(17,17,17)",
           "landcolor": "rgb(17,17,17)",
           "subunitcolor": "#506784",
           "showland": true,
           "showlakes": true,
           "lakecolor": "rgb(17,17,17)"
          },
          "title": {
           "x": 0.05
          },
          "updatemenudefaults": {
           "bgcolor": "#506784",
           "borderwidth": 0
          },
          "sliderdefaults": {
           "bgcolor": "#C8D4E3",
           "borderwidth": 1,
           "bordercolor": "rgb(17,17,17)",
           "tickwidth": 0
          },
          "mapbox": {
           "style": "dark"
          }
         }
        },
        "xaxis": {
         "anchor": "y",
         "domain": [
          0.0,
          1.0
         ],
         "title": {
          "text": "letter_frequency"
         }
        },
        "yaxis": {
         "anchor": "x",
         "domain": [
          0.0,
          1.0
         ],
         "title": {
          "text": "tf-idf_frequency"
         }
        },
        "legend": {
         "title": {
          "text": "category"
         },
         "tracegroupgap": 0
        },
        "title": {
         "text": "Highest tf-idf letters vs Letter Frequency"
        },
        "height": 500,
        "width": 1000
       },
       "config": {
        "plotlyServerURL": "https://plot.ly"
       }
      },
      "text/html": [
       "<div>                            <div id=\"5d536944-7313-4714-9b30-f571fd8be408\" class=\"plotly-graph-div\" style=\"height:500px; width:1000px;\"></div>            <script type=\"text/javascript\">                require([\"plotly\"], function(Plotly) {                    window.PLOTLYENV=window.PLOTLYENV || {};                                    if (document.getElementById(\"5d536944-7313-4714-9b30-f571fd8be408\")) {                    Plotly.newPlot(                        \"5d536944-7313-4714-9b30-f571fd8be408\",                        [{\"hovertemplate\":\"\\u003cb\\u003e%{hovertext}\\u003c\\u002fb\\u003e\\u003cbr\\u003e\\u003cbr\\u003ecategory=Consonant\\u003cbr\\u003eletter_frequency=%{x}\\u003cbr\\u003etf-idf_frequency=%{y}\\u003cextra\\u003e\\u003c\\u002fextra\\u003e\",\"hovertext\":[\"F\",\"V\",\"W\",\"B\",\"K\",\"M\",\"P\",\"G\",\"C\",\"D\",\"Y\",\"J\",\"H\",\"Z\",\"X\",\"Q\"],\"legendgroup\":\"Consonant\",\"marker\":{\"color\":\"red\",\"symbol\":\"circle\"},\"mode\":\"markers\",\"name\":\"Consonant\",\"orientation\":\"v\",\"showlegend\":true,\"x\":[738,383,526,1003,705,989,1182,1183,1681,1364,767,154,1287,123,97,59],\"xaxis\":\"x\",\"y\":[267.0,258.0,253.0,211.0,194.0,189.0,188.0,165.0,141.0,119.0,116.0,116.0,98.0,90.0,86.0,57.0],\"yaxis\":\"y\",\"type\":\"scatter\"},{\"hovertemplate\":\"\\u003cb\\u003eOLS trendline\\u003c\\u002fb\\u003e\\u003cbr\\u003etf-idf_frequency = 0.0226148 * letter_frequency + 141.948\\u003cbr\\u003eR\\u003csup\\u003e2\\u003c\\u002fsup\\u003e=0.030008\\u003cbr\\u003e\\u003cbr\\u003ecategory=Consonant\\u003cbr\\u003eletter_frequency=%{x}\\u003cbr\\u003etf-idf_frequency=%{y} \\u003cb\\u003e(trend)\\u003c\\u002fb\\u003e\\u003cextra\\u003e\\u003c\\u002fextra\\u003e\",\"legendgroup\":\"Consonant\",\"marker\":{\"color\":\"red\",\"symbol\":\"circle\"},\"mode\":\"lines\",\"name\":\"Consonant\",\"showlegend\":false,\"x\":[59,97,123,154,383,526,705,738,767,989,1003,1182,1183,1287,1364,1681],\"xaxis\":\"x\",\"y\":[143.28252636741576,144.14188938136735,144.7298746014395,145.43093390229475,150.60972680216096,153.8436455125578,157.89169760459296,158.63798653776144,159.29381620630346,164.31430539307334,164.63091281926603,168.6789649113012,168.7015797274578,171.0535206077464,172.79486145180624,179.96375817345512],\"yaxis\":\"y\",\"type\":\"scatter\"},{\"hovertemplate\":\"\\u003cb\\u003e%{hovertext}\\u003c\\u002fb\\u003e\\u003cbr\\u003e\\u003cbr\\u003ecategory=RSTLNE\\u003cbr\\u003eletter_frequency=%{x}\\u003cbr\\u003etf-idf_frequency=%{y}\\u003cextra\\u003e\\u003c\\u002fextra\\u003e\",\"hovertext\":[\"L\",\"T\",\"N\",\"S\",\"R\",\"E\"],\"legendgroup\":\"RSTLNE\",\"marker\":{\"color\":\"green\",\"symbol\":\"circle\"},\"mode\":\"markers\",\"name\":\"RSTLNE\",\"orientation\":\"v\",\"showlegend\":true,\"x\":[1786,2276,2335,2324,2531,3742],\"xaxis\":\"x\",\"y\":[148.0,83.0,63.0,59.0,34.0,3.0],\"yaxis\":\"y\",\"type\":\"scatter\"},{\"hovertemplate\":\"\\u003cb\\u003eOLS trendline\\u003c\\u002fb\\u003e\\u003cbr\\u003etf-idf_frequency = -0.0647053 * letter_frequency + 226.699\\u003cbr\\u003eR\\u003csup\\u003e2\\u003c\\u002fsup\\u003e=0.750583\\u003cbr\\u003e\\u003cbr\\u003ecategory=RSTLNE\\u003cbr\\u003eletter_frequency=%{x}\\u003cbr\\u003etf-idf_frequency=%{y} \\u003cb\\u003e(trend)\\u003c\\u002fb\\u003e\\u003cextra\\u003e\\u003c\\u002fextra\\u003e\",\"legendgroup\":\"RSTLNE\",\"marker\":{\"color\":\"green\",\"symbol\":\"circle\"},\"mode\":\"lines\",\"name\":\"RSTLNE\",\"showlegend\":false,\"x\":[1786,2276,2324,2335,2531,3742],\"xaxis\":\"x\",\"y\":[111.13490219698282,79.42928918643366,76.32343321805334,75.61167455863284,62.9294293544132,-15.428728514515427],\"yaxis\":\"y\",\"type\":\"scatter\"},{\"hovertemplate\":\"\\u003cb\\u003e%{hovertext}\\u003c\\u002fb\\u003e\\u003cbr\\u003e\\u003cbr\\u003ecategory=Vowel\\u003cbr\\u003eletter_frequency=%{x}\\u003cbr\\u003etf-idf_frequency=%{y}\\u003cextra\\u003e\\u003c\\u002fextra\\u003e\",\"hovertext\":[\"U\",\"O\",\"I\",\"A\"],\"legendgroup\":\"Vowel\",\"marker\":{\"color\":\"blue\",\"symbol\":\"circle\"},\"mode\":\"markers\",\"name\":\"Vowel\",\"orientation\":\"v\",\"showlegend\":true,\"x\":[1230,2811,2661,3435],\"xaxis\":\"x\",\"y\":[92.0,30.0,17.0,8.0],\"yaxis\":\"y\",\"type\":\"scatter\"},{\"hovertemplate\":\"\\u003cb\\u003eOLS trendline\\u003c\\u002fb\\u003e\\u003cbr\\u003etf-idf_frequency = -0.0392802 * letter_frequency + 136.296\\u003cbr\\u003eR\\u003csup\\u003e2\\u003c\\u002fsup\\u003e=0.931560\\u003cbr\\u003e\\u003cbr\\u003ecategory=Vowel\\u003cbr\\u003eletter_frequency=%{x}\\u003cbr\\u003etf-idf_frequency=%{y} \\u003cb\\u003e(trend)\\u003c\\u002fb\\u003e\\u003cextra\\u003e\\u003c\\u002fextra\\u003e\",\"legendgroup\":\"Vowel\",\"marker\":{\"color\":\"blue\",\"symbol\":\"circle\"},\"mode\":\"lines\",\"name\":\"Vowel\",\"showlegend\":false,\"x\":[1230,2661,2811,3435],\"xaxis\":\"x\",\"y\":[87.98114718205301,31.771239865573932,25.879216037850753,1.36839691452235],\"yaxis\":\"y\",\"type\":\"scatter\"},{\"hovertemplate\":\"\\u003cb\\u003e%{hovertext}\\u003c\\u002fb\\u003e\\u003cbr\\u003e\\u003cbr\\u003ecategory=Miscellaneous\\u003cbr\\u003eletter_frequency=%{x}\\u003cbr\\u003etf-idf_frequency=%{y}\\u003cextra\\u003e\\u003c\\u002fextra\\u003e\",\"hovertext\":[\"-\",\"'\",\"&\",\"!\",\".\",\"?\",\"\\\"\",\"2\",\"`\",\"n\",\"s\",\" \",\"a\",\"m\",\"p\",\";\",\"e\",\"i\",\"g\"],\"legendgroup\":\"Miscellaneous\",\"marker\":{\"color\":\"gray\",\"symbol\":\"circle\"},\"mode\":\"markers\",\"name\":\"Miscellaneous\",\"orientation\":\"v\",\"showlegend\":true,\"x\":[87,47,35,9,8,3,1,1,1,3,1,3339,35,35,35,35,1,2,2],\"xaxis\":\"x\",\"y\":[67.0,45.0,30.0,9.0,8.0,3.0,1.0,1.0,1.0,1.0,1.0,0.0,0.0,0.0,0.0,0.0,0.0,0.0,0.0],\"yaxis\":\"y\",\"type\":\"scatter\"},{\"hovertemplate\":\"\\u003cb\\u003eOLS trendline\\u003c\\u002fb\\u003e\\u003cbr\\u003etf-idf_frequency = -0.00221869 * letter_frequency + 9.2192\\u003cbr\\u003eR\\u003csup\\u003e2\\u003c\\u002fsup\\u003e=0.008428\\u003cbr\\u003e\\u003cbr\\u003ecategory=Miscellaneous\\u003cbr\\u003eletter_frequency=%{x}\\u003cbr\\u003etf-idf_frequency=%{y} \\u003cb\\u003e(trend)\\u003c\\u002fb\\u003e\\u003cextra\\u003e\\u003c\\u002fextra\\u003e\",\"legendgroup\":\"Miscellaneous\",\"marker\":{\"color\":\"gray\",\"symbol\":\"circle\"},\"mode\":\"lines\",\"name\":\"Miscellaneous\",\"showlegend\":false,\"x\":[1,1,1,1,1,2,2,3,3,8,9,35,35,35,35,35,47,87,3339],\"xaxis\":\"x\",\"y\":[9.2169798119366,9.2169798119366,9.2169798119366,9.2169798119366,9.2169798119366,9.2147611240298,9.2147611240298,9.212542436123,9.212542436123,9.201448996588999,9.1992303086822,9.141544423105396,9.141544423105396,9.141544423105396,9.141544423105396,9.141544423105396,9.114920168223794,9.026172651951788,1.810999579037694],\"yaxis\":\"y\",\"type\":\"scatter\"}],                        {\"template\":{\"data\":{\"histogram2dcontour\":[{\"type\":\"histogram2dcontour\",\"colorbar\":{\"outlinewidth\":0,\"ticks\":\"\"},\"colorscale\":[[0.0,\"#0d0887\"],[0.1111111111111111,\"#46039f\"],[0.2222222222222222,\"#7201a8\"],[0.3333333333333333,\"#9c179e\"],[0.4444444444444444,\"#bd3786\"],[0.5555555555555556,\"#d8576b\"],[0.6666666666666666,\"#ed7953\"],[0.7777777777777778,\"#fb9f3a\"],[0.8888888888888888,\"#fdca26\"],[1.0,\"#f0f921\"]]}],\"choropleth\":[{\"type\":\"choropleth\",\"colorbar\":{\"outlinewidth\":0,\"ticks\":\"\"}}],\"histogram2d\":[{\"type\":\"histogram2d\",\"colorbar\":{\"outlinewidth\":0,\"ticks\":\"\"},\"colorscale\":[[0.0,\"#0d0887\"],[0.1111111111111111,\"#46039f\"],[0.2222222222222222,\"#7201a8\"],[0.3333333333333333,\"#9c179e\"],[0.4444444444444444,\"#bd3786\"],[0.5555555555555556,\"#d8576b\"],[0.6666666666666666,\"#ed7953\"],[0.7777777777777778,\"#fb9f3a\"],[0.8888888888888888,\"#fdca26\"],[1.0,\"#f0f921\"]]}],\"heatmap\":[{\"type\":\"heatmap\",\"colorbar\":{\"outlinewidth\":0,\"ticks\":\"\"},\"colorscale\":[[0.0,\"#0d0887\"],[0.1111111111111111,\"#46039f\"],[0.2222222222222222,\"#7201a8\"],[0.3333333333333333,\"#9c179e\"],[0.4444444444444444,\"#bd3786\"],[0.5555555555555556,\"#d8576b\"],[0.6666666666666666,\"#ed7953\"],[0.7777777777777778,\"#fb9f3a\"],[0.8888888888888888,\"#fdca26\"],[1.0,\"#f0f921\"]]}],\"heatmapgl\":[{\"type\":\"heatmapgl\",\"colorbar\":{\"outlinewidth\":0,\"ticks\":\"\"},\"colorscale\":[[0.0,\"#0d0887\"],[0.1111111111111111,\"#46039f\"],[0.2222222222222222,\"#7201a8\"],[0.3333333333333333,\"#9c179e\"],[0.4444444444444444,\"#bd3786\"],[0.5555555555555556,\"#d8576b\"],[0.6666666666666666,\"#ed7953\"],[0.7777777777777778,\"#fb9f3a\"],[0.8888888888888888,\"#fdca26\"],[1.0,\"#f0f921\"]]}],\"contourcarpet\":[{\"type\":\"contourcarpet\",\"colorbar\":{\"outlinewidth\":0,\"ticks\":\"\"}}],\"contour\":[{\"type\":\"contour\",\"colorbar\":{\"outlinewidth\":0,\"ticks\":\"\"},\"colorscale\":[[0.0,\"#0d0887\"],[0.1111111111111111,\"#46039f\"],[0.2222222222222222,\"#7201a8\"],[0.3333333333333333,\"#9c179e\"],[0.4444444444444444,\"#bd3786\"],[0.5555555555555556,\"#d8576b\"],[0.6666666666666666,\"#ed7953\"],[0.7777777777777778,\"#fb9f3a\"],[0.8888888888888888,\"#fdca26\"],[1.0,\"#f0f921\"]]}],\"surface\":[{\"type\":\"surface\",\"colorbar\":{\"outlinewidth\":0,\"ticks\":\"\"},\"colorscale\":[[0.0,\"#0d0887\"],[0.1111111111111111,\"#46039f\"],[0.2222222222222222,\"#7201a8\"],[0.3333333333333333,\"#9c179e\"],[0.4444444444444444,\"#bd3786\"],[0.5555555555555556,\"#d8576b\"],[0.6666666666666666,\"#ed7953\"],[0.7777777777777778,\"#fb9f3a\"],[0.8888888888888888,\"#fdca26\"],[1.0,\"#f0f921\"]]}],\"mesh3d\":[{\"type\":\"mesh3d\",\"colorbar\":{\"outlinewidth\":0,\"ticks\":\"\"}}],\"scatter\":[{\"marker\":{\"line\":{\"color\":\"#283442\"}},\"type\":\"scatter\"}],\"parcoords\":[{\"type\":\"parcoords\",\"line\":{\"colorbar\":{\"outlinewidth\":0,\"ticks\":\"\"}}}],\"scatterpolargl\":[{\"type\":\"scatterpolargl\",\"marker\":{\"colorbar\":{\"outlinewidth\":0,\"ticks\":\"\"}}}],\"bar\":[{\"error_x\":{\"color\":\"#f2f5fa\"},\"error_y\":{\"color\":\"#f2f5fa\"},\"marker\":{\"line\":{\"color\":\"rgb(17,17,17)\",\"width\":0.5},\"pattern\":{\"fillmode\":\"overlay\",\"size\":10,\"solidity\":0.2}},\"type\":\"bar\"}],\"scattergeo\":[{\"type\":\"scattergeo\",\"marker\":{\"colorbar\":{\"outlinewidth\":0,\"ticks\":\"\"}}}],\"scatterpolar\":[{\"type\":\"scatterpolar\",\"marker\":{\"colorbar\":{\"outlinewidth\":0,\"ticks\":\"\"}}}],\"histogram\":[{\"marker\":{\"pattern\":{\"fillmode\":\"overlay\",\"size\":10,\"solidity\":0.2}},\"type\":\"histogram\"}],\"scattergl\":[{\"marker\":{\"line\":{\"color\":\"#283442\"}},\"type\":\"scattergl\"}],\"scatter3d\":[{\"type\":\"scatter3d\",\"line\":{\"colorbar\":{\"outlinewidth\":0,\"ticks\":\"\"}},\"marker\":{\"colorbar\":{\"outlinewidth\":0,\"ticks\":\"\"}}}],\"scattermapbox\":[{\"type\":\"scattermapbox\",\"marker\":{\"colorbar\":{\"outlinewidth\":0,\"ticks\":\"\"}}}],\"scatterternary\":[{\"type\":\"scatterternary\",\"marker\":{\"colorbar\":{\"outlinewidth\":0,\"ticks\":\"\"}}}],\"scattercarpet\":[{\"type\":\"scattercarpet\",\"marker\":{\"colorbar\":{\"outlinewidth\":0,\"ticks\":\"\"}}}],\"carpet\":[{\"aaxis\":{\"endlinecolor\":\"#A2B1C6\",\"gridcolor\":\"#506784\",\"linecolor\":\"#506784\",\"minorgridcolor\":\"#506784\",\"startlinecolor\":\"#A2B1C6\"},\"baxis\":{\"endlinecolor\":\"#A2B1C6\",\"gridcolor\":\"#506784\",\"linecolor\":\"#506784\",\"minorgridcolor\":\"#506784\",\"startlinecolor\":\"#A2B1C6\"},\"type\":\"carpet\"}],\"table\":[{\"cells\":{\"fill\":{\"color\":\"#506784\"},\"line\":{\"color\":\"rgb(17,17,17)\"}},\"header\":{\"fill\":{\"color\":\"#2a3f5f\"},\"line\":{\"color\":\"rgb(17,17,17)\"}},\"type\":\"table\"}],\"barpolar\":[{\"marker\":{\"line\":{\"color\":\"rgb(17,17,17)\",\"width\":0.5},\"pattern\":{\"fillmode\":\"overlay\",\"size\":10,\"solidity\":0.2}},\"type\":\"barpolar\"}],\"pie\":[{\"automargin\":true,\"type\":\"pie\"}]},\"layout\":{\"autotypenumbers\":\"strict\",\"colorway\":[\"#636efa\",\"#EF553B\",\"#00cc96\",\"#ab63fa\",\"#FFA15A\",\"#19d3f3\",\"#FF6692\",\"#B6E880\",\"#FF97FF\",\"#FECB52\"],\"font\":{\"color\":\"#f2f5fa\"},\"hovermode\":\"closest\",\"hoverlabel\":{\"align\":\"left\"},\"paper_bgcolor\":\"rgb(17,17,17)\",\"plot_bgcolor\":\"rgb(17,17,17)\",\"polar\":{\"bgcolor\":\"rgb(17,17,17)\",\"angularaxis\":{\"gridcolor\":\"#506784\",\"linecolor\":\"#506784\",\"ticks\":\"\"},\"radialaxis\":{\"gridcolor\":\"#506784\",\"linecolor\":\"#506784\",\"ticks\":\"\"}},\"ternary\":{\"bgcolor\":\"rgb(17,17,17)\",\"aaxis\":{\"gridcolor\":\"#506784\",\"linecolor\":\"#506784\",\"ticks\":\"\"},\"baxis\":{\"gridcolor\":\"#506784\",\"linecolor\":\"#506784\",\"ticks\":\"\"},\"caxis\":{\"gridcolor\":\"#506784\",\"linecolor\":\"#506784\",\"ticks\":\"\"}},\"coloraxis\":{\"colorbar\":{\"outlinewidth\":0,\"ticks\":\"\"}},\"colorscale\":{\"sequential\":[[0.0,\"#0d0887\"],[0.1111111111111111,\"#46039f\"],[0.2222222222222222,\"#7201a8\"],[0.3333333333333333,\"#9c179e\"],[0.4444444444444444,\"#bd3786\"],[0.5555555555555556,\"#d8576b\"],[0.6666666666666666,\"#ed7953\"],[0.7777777777777778,\"#fb9f3a\"],[0.8888888888888888,\"#fdca26\"],[1.0,\"#f0f921\"]],\"sequentialminus\":[[0.0,\"#0d0887\"],[0.1111111111111111,\"#46039f\"],[0.2222222222222222,\"#7201a8\"],[0.3333333333333333,\"#9c179e\"],[0.4444444444444444,\"#bd3786\"],[0.5555555555555556,\"#d8576b\"],[0.6666666666666666,\"#ed7953\"],[0.7777777777777778,\"#fb9f3a\"],[0.8888888888888888,\"#fdca26\"],[1.0,\"#f0f921\"]],\"diverging\":[[0,\"#8e0152\"],[0.1,\"#c51b7d\"],[0.2,\"#de77ae\"],[0.3,\"#f1b6da\"],[0.4,\"#fde0ef\"],[0.5,\"#f7f7f7\"],[0.6,\"#e6f5d0\"],[0.7,\"#b8e186\"],[0.8,\"#7fbc41\"],[0.9,\"#4d9221\"],[1,\"#276419\"]]},\"xaxis\":{\"gridcolor\":\"#283442\",\"linecolor\":\"#506784\",\"ticks\":\"\",\"title\":{\"standoff\":15},\"zerolinecolor\":\"#283442\",\"automargin\":true,\"zerolinewidth\":2},\"yaxis\":{\"gridcolor\":\"#283442\",\"linecolor\":\"#506784\",\"ticks\":\"\",\"title\":{\"standoff\":15},\"zerolinecolor\":\"#283442\",\"automargin\":true,\"zerolinewidth\":2},\"scene\":{\"xaxis\":{\"backgroundcolor\":\"rgb(17,17,17)\",\"gridcolor\":\"#506784\",\"linecolor\":\"#506784\",\"showbackground\":true,\"ticks\":\"\",\"zerolinecolor\":\"#C8D4E3\",\"gridwidth\":2},\"yaxis\":{\"backgroundcolor\":\"rgb(17,17,17)\",\"gridcolor\":\"#506784\",\"linecolor\":\"#506784\",\"showbackground\":true,\"ticks\":\"\",\"zerolinecolor\":\"#C8D4E3\",\"gridwidth\":2},\"zaxis\":{\"backgroundcolor\":\"rgb(17,17,17)\",\"gridcolor\":\"#506784\",\"linecolor\":\"#506784\",\"showbackground\":true,\"ticks\":\"\",\"zerolinecolor\":\"#C8D4E3\",\"gridwidth\":2}},\"shapedefaults\":{\"line\":{\"color\":\"#f2f5fa\"}},\"annotationdefaults\":{\"arrowcolor\":\"#f2f5fa\",\"arrowhead\":0,\"arrowwidth\":1},\"geo\":{\"bgcolor\":\"rgb(17,17,17)\",\"landcolor\":\"rgb(17,17,17)\",\"subunitcolor\":\"#506784\",\"showland\":true,\"showlakes\":true,\"lakecolor\":\"rgb(17,17,17)\"},\"title\":{\"x\":0.05},\"updatemenudefaults\":{\"bgcolor\":\"#506784\",\"borderwidth\":0},\"sliderdefaults\":{\"bgcolor\":\"#C8D4E3\",\"borderwidth\":1,\"bordercolor\":\"rgb(17,17,17)\",\"tickwidth\":0},\"mapbox\":{\"style\":\"dark\"}}},\"xaxis\":{\"anchor\":\"y\",\"domain\":[0.0,1.0],\"title\":{\"text\":\"letter_frequency\"}},\"yaxis\":{\"anchor\":\"x\",\"domain\":[0.0,1.0],\"title\":{\"text\":\"tf-idf_frequency\"}},\"legend\":{\"title\":{\"text\":\"category\"},\"tracegroupgap\":0},\"title\":{\"text\":\"Highest tf-idf letters vs Letter Frequency\"},\"height\":500,\"width\":1000},                        {\"responsive\": true}                    ).then(function(){\n",
       "                            \n",
       "var gd = document.getElementById('5d536944-7313-4714-9b30-f571fd8be408');\n",
       "var x = new MutationObserver(function (mutations, observer) {{\n",
       "        var display = window.getComputedStyle(gd).display;\n",
       "        if (!display || display === 'none') {{\n",
       "            console.log([gd, 'removed!']);\n",
       "            Plotly.purge(gd);\n",
       "            observer.disconnect();\n",
       "        }}\n",
       "}});\n",
       "\n",
       "// Listen for the removal of the full notebook cells\n",
       "var notebookContainer = gd.closest('#notebook-container');\n",
       "if (notebookContainer) {{\n",
       "    x.observe(notebookContainer, {childList: true});\n",
       "}}\n",
       "\n",
       "// Listen for the clearing of the current output cell\n",
       "var outputEl = gd.closest('.output');\n",
       "if (outputEl) {{\n",
       "    x.observe(outputEl, {childList: true});\n",
       "}}\n",
       "\n",
       "                        })                };                });            </script>        </div>"
      ]
     },
     "metadata": {},
     "output_type": "display_data"
    }
   ],
   "execution_count": 38
  },
  {
   "metadata": {},
   "cell_type": "markdown",
   "source": [
    "Here we generally see a negative correlation between how frequent letter's show up in a puzzle and how important the letter is in determining it. Although, 'F', 'W', and 'V' are the most frequent important letters, they generally have low frequency, only present in less than 25% of puzzles each. On the other hand, the most common consonant, 'C', only appears to be highly important in a relatively low amount of puzzles (141), compared to 'F' (267). This pattern is much more pronounced with vowels, 'E'(3), 'A'(8), 'O'(30), 'I'(17) are all much more common than 'U', but don't even come close to how 'U' defines its puzzles(92).\n",
    "\n",
    "However, that was on the most important letter, let's see if the top 3 most important letters changes anything."
   ]
  },
  {
   "metadata": {
    "ExecuteTime": {
     "end_time": "2024-07-13T23:37:16.000571Z",
     "start_time": "2024-07-13T23:37:15.722208Z"
    }
   },
   "cell_type": "code",
   "source": [
    "def n_largest(row, n=3):\n",
    "    return row.index[row.argsort()][-n:].to_numpy()\n",
    "\n",
    "top3 = tf_idf.apply(n_largest, axis=1)\n",
    "top3_counts = top3.explode().value_counts().rename('top3_tfidf_frequency')\n",
    "top3_counts"
   ],
   "outputs": [
    {
     "data": {
      "text/plain": [
       "B    708\n",
       "M    697\n",
       "P    635\n",
       "Y    594\n",
       "K    582\n",
       "F    552\n",
       "G    541\n",
       "W    469\n",
       "L    433\n",
       "C    428\n",
       "U    425\n",
       "T    384\n",
       "H    377\n",
       "D    365\n",
       "N    364\n",
       "V    355\n",
       "S    337\n",
       "R    224\n",
       "O    222\n",
       "I    197\n",
       "J    144\n",
       "A    124\n",
       "E     99\n",
       "X     94\n",
       "Z     94\n",
       "-     79\n",
       "Q     59\n",
       "'     46\n",
       "m     34\n",
       "&     29\n",
       "p     20\n",
       ";     14\n",
       "!      9\n",
       ".      8\n",
       "?      3\n",
       "i      2\n",
       "n      2\n",
       "a      2\n",
       "\"      1\n",
       "e      1\n",
       "2      1\n",
       "s      1\n",
       "`      1\n",
       "Name: top3_tfidf_frequency, dtype: int64"
      ]
     },
     "execution_count": 35,
     "metadata": {},
     "output_type": "execute_result"
    }
   ],
   "execution_count": 35
  },
  {
   "metadata": {
    "ExecuteTime": {
     "end_time": "2024-07-13T23:37:16.079510Z",
     "start_time": "2024-07-13T23:37:16.074800Z"
    }
   },
   "cell_type": "code",
   "source": "new_tfidf_and_frequency = pd.concat([tfidf_and_frequency, top3_counts], axis=1).fillna(0)",
   "outputs": [],
   "execution_count": 36
  },
  {
   "metadata": {
    "ExecuteTime": {
     "end_time": "2024-07-13T23:37:16.378030Z",
     "start_time": "2024-07-13T23:37:16.320551Z"
    }
   },
   "cell_type": "code",
   "source": [
    "px.scatter(new_tfidf_and_frequency, x='letter_frequency', y='top3_tfidf_frequency',\n",
    "           hover_name=new_tfidf_and_frequency.index,\n",
    "           width=1000, height=500,\n",
    "           color='category',\n",
    "           color_discrete_map= mapping,\n",
    "           title='Top 3 tf-idf vs Letter Frequency',\n",
    "           trendline='ols',\n",
    "           )"
   ],
   "outputs": [
    {
     "data": {
      "application/vnd.plotly.v1+json": {
       "data": [
        {
         "hovertemplate": "<b>%{hovertext}</b><br><br>category=Consonant<br>letter_frequency=%{x}<br>top3_tfidf_frequency=%{y}<extra></extra>",
         "hovertext": [
          "F",
          "V",
          "W",
          "B",
          "K",
          "M",
          "P",
          "G",
          "C",
          "D",
          "Y",
          "J",
          "H",
          "Z",
          "X",
          "Q"
         ],
         "legendgroup": "Consonant",
         "marker": {
          "color": "red",
          "symbol": "circle"
         },
         "mode": "markers",
         "name": "Consonant",
         "orientation": "v",
         "showlegend": true,
         "x": [
          738,
          383,
          526,
          1003,
          705,
          989,
          1182,
          1183,
          1681,
          1364,
          767,
          154,
          1287,
          123,
          97,
          59
         ],
         "xaxis": "x",
         "y": [
          552.0,
          355.0,
          469.0,
          708.0,
          582.0,
          697.0,
          635.0,
          541.0,
          428.0,
          365.0,
          594.0,
          144.0,
          377.0,
          94.0,
          94.0,
          59.0
         ],
         "yaxis": "y",
         "type": "scatter"
        },
        {
         "hovertemplate": "<b>OLS trendline</b><br>top3_tfidf_frequency = 0.277874 * letter_frequency + 205.784<br>R<sup>2</sup>=0.411418<br><br>category=Consonant<br>letter_frequency=%{x}<br>top3_tfidf_frequency=%{y} <b>(trend)</b><extra></extra>",
         "legendgroup": "Consonant",
         "marker": {
          "color": "red",
          "symbol": "circle"
         },
         "mode": "lines",
         "name": "Consonant",
         "showlegend": false,
         "x": [
          59,
          97,
          123,
          154,
          383,
          526,
          705,
          738,
          767,
          989,
          1003,
          1182,
          1183,
          1287,
          1364,
          1681
         ],
         "xaxis": "x",
         "y": [
          222.17879872390745,
          232.73799942992358,
          239.9627157024609,
          248.57680048894778,
          312.2098784278345,
          351.9458179267899,
          401.6852107261817,
          410.8550429182484,
          418.91338029915545,
          480.6013423185128,
          484.49157415757145,
          534.2309669569632,
          534.5088406597531,
          563.4077057499026,
          584.8039808647247,
          672.8899446491225
         ],
         "yaxis": "y",
         "type": "scatter"
        },
        {
         "hovertemplate": "<b>%{hovertext}</b><br><br>category=RSTLNE<br>letter_frequency=%{x}<br>top3_tfidf_frequency=%{y}<extra></extra>",
         "hovertext": [
          "L",
          "T",
          "N",
          "S",
          "R",
          "E"
         ],
         "legendgroup": "RSTLNE",
         "marker": {
          "color": "green",
          "symbol": "circle"
         },
         "mode": "markers",
         "name": "RSTLNE",
         "orientation": "v",
         "showlegend": true,
         "x": [
          1786,
          2276,
          2335,
          2324,
          2531,
          3742
         ],
         "xaxis": "x",
         "y": [
          433.0,
          384.0,
          364.0,
          337.0,
          224.0,
          99.0
         ],
         "yaxis": "y",
         "type": "scatter"
        },
        {
         "hovertemplate": "<b>OLS trendline</b><br>top3_tfidf_frequency = -0.177087 * letter_frequency + 749.373<br>R<sup>2</sup>=0.890722<br><br>category=RSTLNE<br>letter_frequency=%{x}<br>top3_tfidf_frequency=%{y} <b>(trend)</b><extra></extra>",
         "legendgroup": "RSTLNE",
         "marker": {
          "color": "green",
          "symbol": "circle"
         },
         "mode": "lines",
         "name": "RSTLNE",
         "showlegend": false,
         "x": [
          1786,
          2276,
          2324,
          2335,
          2531,
          3742
         ],
         "xaxis": "x",
         "y": [
          433.0961825273909,
          346.3236774711664,
          337.8235137105566,
          335.87555951541685,
          301.16655749292704,
          86.71450928254342
         ],
         "yaxis": "y",
         "type": "scatter"
        },
        {
         "hovertemplate": "<b>%{hovertext}</b><br><br>category=Vowel<br>letter_frequency=%{x}<br>top3_tfidf_frequency=%{y}<extra></extra>",
         "hovertext": [
          "U",
          "O",
          "I",
          "A"
         ],
         "legendgroup": "Vowel",
         "marker": {
          "color": "blue",
          "symbol": "circle"
         },
         "mode": "markers",
         "name": "Vowel",
         "orientation": "v",
         "showlegend": true,
         "x": [
          1230,
          2811,
          2661,
          3435
         ],
         "xaxis": "x",
         "y": [
          425.0,
          222.0,
          197.0,
          124.0
         ],
         "yaxis": "y",
         "type": "scatter"
        },
        {
         "hovertemplate": "<b>OLS trendline</b><br>top3_tfidf_frequency = -0.136735 * letter_frequency + 588.521<br>R<sup>2</sup>=0.977280<br><br>category=Vowel<br>letter_frequency=%{x}<br>top3_tfidf_frequency=%{y} <b>(trend)</b><extra></extra>",
         "legendgroup": "Vowel",
         "marker": {
          "color": "blue",
          "symbol": "circle"
         },
         "mode": "lines",
         "name": "Vowel",
         "showlegend": false,
         "x": [
          1230,
          2661,
          2811,
          3435
         ],
         "xaxis": "x",
         "y": [
          420.33667584778516,
          224.66883368701815,
          204.15857769532352,
          118.83591276987374
         ],
         "yaxis": "y",
         "type": "scatter"
        },
        {
         "hovertemplate": "<b>%{hovertext}</b><br><br>category=Miscellaneous<br>letter_frequency=%{x}<br>top3_tfidf_frequency=%{y}<extra></extra>",
         "hovertext": [
          "-",
          "'",
          "&",
          "!",
          ".",
          "?",
          "\"",
          "2",
          "`",
          "n",
          "s",
          " ",
          "a",
          "m",
          "p",
          ";",
          "e",
          "i",
          "g"
         ],
         "legendgroup": "Miscellaneous",
         "marker": {
          "color": "gray",
          "symbol": "circle"
         },
         "mode": "markers",
         "name": "Miscellaneous",
         "orientation": "v",
         "showlegend": true,
         "x": [
          87,
          47,
          35,
          9,
          8,
          3,
          1,
          1,
          1,
          3,
          1,
          3339,
          35,
          35,
          35,
          35,
          1,
          2,
          2
         ],
         "xaxis": "x",
         "y": [
          79.0,
          46.0,
          29.0,
          9.0,
          8.0,
          3.0,
          1.0,
          1.0,
          1.0,
          2.0,
          1.0,
          0.0,
          2.0,
          34.0,
          20.0,
          14.0,
          1.0,
          2.0,
          0.0
         ],
         "yaxis": "y",
         "type": "scatter"
        },
        {
         "hovertemplate": "<b>OLS trendline</b><br>top3_tfidf_frequency = -0.00347611 * letter_frequency + 13.9891<br>R<sup>2</sup>=0.016292<br><br>category=Miscellaneous<br>letter_frequency=%{x}<br>top3_tfidf_frequency=%{y} <b>(trend)</b><extra></extra>",
         "legendgroup": "Miscellaneous",
         "marker": {
          "color": "gray",
          "symbol": "circle"
         },
         "mode": "lines",
         "name": "Miscellaneous",
         "showlegend": false,
         "x": [
          1,
          1,
          1,
          1,
          1,
          2,
          2,
          3,
          3,
          8,
          9,
          35,
          35,
          35,
          35,
          35,
          47,
          87,
          3339
         ],
         "xaxis": "x",
         "y": [
          13.985580283454674,
          13.985580283454674,
          13.985580283454674,
          13.985580283454674,
          13.985580283454674,
          13.982104177094216,
          13.982104177094216,
          13.978628070733757,
          13.978628070733757,
          13.961247538931465,
          13.957771432571006,
          13.867392667199084,
          13.867392667199084,
          13.867392667199084,
          13.867392667199084,
          13.867392667199084,
          13.825679390873582,
          13.686635136455239,
          2.3823372522440494
         ],
         "yaxis": "y",
         "type": "scatter"
        }
       ],
       "layout": {
        "template": {
         "data": {
          "histogram2dcontour": [
           {
            "type": "histogram2dcontour",
            "colorbar": {
             "outlinewidth": 0,
             "ticks": ""
            },
            "colorscale": [
             [
              0.0,
              "#0d0887"
             ],
             [
              0.1111111111111111,
              "#46039f"
             ],
             [
              0.2222222222222222,
              "#7201a8"
             ],
             [
              0.3333333333333333,
              "#9c179e"
             ],
             [
              0.4444444444444444,
              "#bd3786"
             ],
             [
              0.5555555555555556,
              "#d8576b"
             ],
             [
              0.6666666666666666,
              "#ed7953"
             ],
             [
              0.7777777777777778,
              "#fb9f3a"
             ],
             [
              0.8888888888888888,
              "#fdca26"
             ],
             [
              1.0,
              "#f0f921"
             ]
            ]
           }
          ],
          "choropleth": [
           {
            "type": "choropleth",
            "colorbar": {
             "outlinewidth": 0,
             "ticks": ""
            }
           }
          ],
          "histogram2d": [
           {
            "type": "histogram2d",
            "colorbar": {
             "outlinewidth": 0,
             "ticks": ""
            },
            "colorscale": [
             [
              0.0,
              "#0d0887"
             ],
             [
              0.1111111111111111,
              "#46039f"
             ],
             [
              0.2222222222222222,
              "#7201a8"
             ],
             [
              0.3333333333333333,
              "#9c179e"
             ],
             [
              0.4444444444444444,
              "#bd3786"
             ],
             [
              0.5555555555555556,
              "#d8576b"
             ],
             [
              0.6666666666666666,
              "#ed7953"
             ],
             [
              0.7777777777777778,
              "#fb9f3a"
             ],
             [
              0.8888888888888888,
              "#fdca26"
             ],
             [
              1.0,
              "#f0f921"
             ]
            ]
           }
          ],
          "heatmap": [
           {
            "type": "heatmap",
            "colorbar": {
             "outlinewidth": 0,
             "ticks": ""
            },
            "colorscale": [
             [
              0.0,
              "#0d0887"
             ],
             [
              0.1111111111111111,
              "#46039f"
             ],
             [
              0.2222222222222222,
              "#7201a8"
             ],
             [
              0.3333333333333333,
              "#9c179e"
             ],
             [
              0.4444444444444444,
              "#bd3786"
             ],
             [
              0.5555555555555556,
              "#d8576b"
             ],
             [
              0.6666666666666666,
              "#ed7953"
             ],
             [
              0.7777777777777778,
              "#fb9f3a"
             ],
             [
              0.8888888888888888,
              "#fdca26"
             ],
             [
              1.0,
              "#f0f921"
             ]
            ]
           }
          ],
          "heatmapgl": [
           {
            "type": "heatmapgl",
            "colorbar": {
             "outlinewidth": 0,
             "ticks": ""
            },
            "colorscale": [
             [
              0.0,
              "#0d0887"
             ],
             [
              0.1111111111111111,
              "#46039f"
             ],
             [
              0.2222222222222222,
              "#7201a8"
             ],
             [
              0.3333333333333333,
              "#9c179e"
             ],
             [
              0.4444444444444444,
              "#bd3786"
             ],
             [
              0.5555555555555556,
              "#d8576b"
             ],
             [
              0.6666666666666666,
              "#ed7953"
             ],
             [
              0.7777777777777778,
              "#fb9f3a"
             ],
             [
              0.8888888888888888,
              "#fdca26"
             ],
             [
              1.0,
              "#f0f921"
             ]
            ]
           }
          ],
          "contourcarpet": [
           {
            "type": "contourcarpet",
            "colorbar": {
             "outlinewidth": 0,
             "ticks": ""
            }
           }
          ],
          "contour": [
           {
            "type": "contour",
            "colorbar": {
             "outlinewidth": 0,
             "ticks": ""
            },
            "colorscale": [
             [
              0.0,
              "#0d0887"
             ],
             [
              0.1111111111111111,
              "#46039f"
             ],
             [
              0.2222222222222222,
              "#7201a8"
             ],
             [
              0.3333333333333333,
              "#9c179e"
             ],
             [
              0.4444444444444444,
              "#bd3786"
             ],
             [
              0.5555555555555556,
              "#d8576b"
             ],
             [
              0.6666666666666666,
              "#ed7953"
             ],
             [
              0.7777777777777778,
              "#fb9f3a"
             ],
             [
              0.8888888888888888,
              "#fdca26"
             ],
             [
              1.0,
              "#f0f921"
             ]
            ]
           }
          ],
          "surface": [
           {
            "type": "surface",
            "colorbar": {
             "outlinewidth": 0,
             "ticks": ""
            },
            "colorscale": [
             [
              0.0,
              "#0d0887"
             ],
             [
              0.1111111111111111,
              "#46039f"
             ],
             [
              0.2222222222222222,
              "#7201a8"
             ],
             [
              0.3333333333333333,
              "#9c179e"
             ],
             [
              0.4444444444444444,
              "#bd3786"
             ],
             [
              0.5555555555555556,
              "#d8576b"
             ],
             [
              0.6666666666666666,
              "#ed7953"
             ],
             [
              0.7777777777777778,
              "#fb9f3a"
             ],
             [
              0.8888888888888888,
              "#fdca26"
             ],
             [
              1.0,
              "#f0f921"
             ]
            ]
           }
          ],
          "mesh3d": [
           {
            "type": "mesh3d",
            "colorbar": {
             "outlinewidth": 0,
             "ticks": ""
            }
           }
          ],
          "scatter": [
           {
            "marker": {
             "line": {
              "color": "#283442"
             }
            },
            "type": "scatter"
           }
          ],
          "parcoords": [
           {
            "type": "parcoords",
            "line": {
             "colorbar": {
              "outlinewidth": 0,
              "ticks": ""
             }
            }
           }
          ],
          "scatterpolargl": [
           {
            "type": "scatterpolargl",
            "marker": {
             "colorbar": {
              "outlinewidth": 0,
              "ticks": ""
             }
            }
           }
          ],
          "bar": [
           {
            "error_x": {
             "color": "#f2f5fa"
            },
            "error_y": {
             "color": "#f2f5fa"
            },
            "marker": {
             "line": {
              "color": "rgb(17,17,17)",
              "width": 0.5
             },
             "pattern": {
              "fillmode": "overlay",
              "size": 10,
              "solidity": 0.2
             }
            },
            "type": "bar"
           }
          ],
          "scattergeo": [
           {
            "type": "scattergeo",
            "marker": {
             "colorbar": {
              "outlinewidth": 0,
              "ticks": ""
             }
            }
           }
          ],
          "scatterpolar": [
           {
            "type": "scatterpolar",
            "marker": {
             "colorbar": {
              "outlinewidth": 0,
              "ticks": ""
             }
            }
           }
          ],
          "histogram": [
           {
            "marker": {
             "pattern": {
              "fillmode": "overlay",
              "size": 10,
              "solidity": 0.2
             }
            },
            "type": "histogram"
           }
          ],
          "scattergl": [
           {
            "marker": {
             "line": {
              "color": "#283442"
             }
            },
            "type": "scattergl"
           }
          ],
          "scatter3d": [
           {
            "type": "scatter3d",
            "line": {
             "colorbar": {
              "outlinewidth": 0,
              "ticks": ""
             }
            },
            "marker": {
             "colorbar": {
              "outlinewidth": 0,
              "ticks": ""
             }
            }
           }
          ],
          "scattermapbox": [
           {
            "type": "scattermapbox",
            "marker": {
             "colorbar": {
              "outlinewidth": 0,
              "ticks": ""
             }
            }
           }
          ],
          "scatterternary": [
           {
            "type": "scatterternary",
            "marker": {
             "colorbar": {
              "outlinewidth": 0,
              "ticks": ""
             }
            }
           }
          ],
          "scattercarpet": [
           {
            "type": "scattercarpet",
            "marker": {
             "colorbar": {
              "outlinewidth": 0,
              "ticks": ""
             }
            }
           }
          ],
          "carpet": [
           {
            "aaxis": {
             "endlinecolor": "#A2B1C6",
             "gridcolor": "#506784",
             "linecolor": "#506784",
             "minorgridcolor": "#506784",
             "startlinecolor": "#A2B1C6"
            },
            "baxis": {
             "endlinecolor": "#A2B1C6",
             "gridcolor": "#506784",
             "linecolor": "#506784",
             "minorgridcolor": "#506784",
             "startlinecolor": "#A2B1C6"
            },
            "type": "carpet"
           }
          ],
          "table": [
           {
            "cells": {
             "fill": {
              "color": "#506784"
             },
             "line": {
              "color": "rgb(17,17,17)"
             }
            },
            "header": {
             "fill": {
              "color": "#2a3f5f"
             },
             "line": {
              "color": "rgb(17,17,17)"
             }
            },
            "type": "table"
           }
          ],
          "barpolar": [
           {
            "marker": {
             "line": {
              "color": "rgb(17,17,17)",
              "width": 0.5
             },
             "pattern": {
              "fillmode": "overlay",
              "size": 10,
              "solidity": 0.2
             }
            },
            "type": "barpolar"
           }
          ],
          "pie": [
           {
            "automargin": true,
            "type": "pie"
           }
          ]
         },
         "layout": {
          "autotypenumbers": "strict",
          "colorway": [
           "#636efa",
           "#EF553B",
           "#00cc96",
           "#ab63fa",
           "#FFA15A",
           "#19d3f3",
           "#FF6692",
           "#B6E880",
           "#FF97FF",
           "#FECB52"
          ],
          "font": {
           "color": "#f2f5fa"
          },
          "hovermode": "closest",
          "hoverlabel": {
           "align": "left"
          },
          "paper_bgcolor": "rgb(17,17,17)",
          "plot_bgcolor": "rgb(17,17,17)",
          "polar": {
           "bgcolor": "rgb(17,17,17)",
           "angularaxis": {
            "gridcolor": "#506784",
            "linecolor": "#506784",
            "ticks": ""
           },
           "radialaxis": {
            "gridcolor": "#506784",
            "linecolor": "#506784",
            "ticks": ""
           }
          },
          "ternary": {
           "bgcolor": "rgb(17,17,17)",
           "aaxis": {
            "gridcolor": "#506784",
            "linecolor": "#506784",
            "ticks": ""
           },
           "baxis": {
            "gridcolor": "#506784",
            "linecolor": "#506784",
            "ticks": ""
           },
           "caxis": {
            "gridcolor": "#506784",
            "linecolor": "#506784",
            "ticks": ""
           }
          },
          "coloraxis": {
           "colorbar": {
            "outlinewidth": 0,
            "ticks": ""
           }
          },
          "colorscale": {
           "sequential": [
            [
             0.0,
             "#0d0887"
            ],
            [
             0.1111111111111111,
             "#46039f"
            ],
            [
             0.2222222222222222,
             "#7201a8"
            ],
            [
             0.3333333333333333,
             "#9c179e"
            ],
            [
             0.4444444444444444,
             "#bd3786"
            ],
            [
             0.5555555555555556,
             "#d8576b"
            ],
            [
             0.6666666666666666,
             "#ed7953"
            ],
            [
             0.7777777777777778,
             "#fb9f3a"
            ],
            [
             0.8888888888888888,
             "#fdca26"
            ],
            [
             1.0,
             "#f0f921"
            ]
           ],
           "sequentialminus": [
            [
             0.0,
             "#0d0887"
            ],
            [
             0.1111111111111111,
             "#46039f"
            ],
            [
             0.2222222222222222,
             "#7201a8"
            ],
            [
             0.3333333333333333,
             "#9c179e"
            ],
            [
             0.4444444444444444,
             "#bd3786"
            ],
            [
             0.5555555555555556,
             "#d8576b"
            ],
            [
             0.6666666666666666,
             "#ed7953"
            ],
            [
             0.7777777777777778,
             "#fb9f3a"
            ],
            [
             0.8888888888888888,
             "#fdca26"
            ],
            [
             1.0,
             "#f0f921"
            ]
           ],
           "diverging": [
            [
             0,
             "#8e0152"
            ],
            [
             0.1,
             "#c51b7d"
            ],
            [
             0.2,
             "#de77ae"
            ],
            [
             0.3,
             "#f1b6da"
            ],
            [
             0.4,
             "#fde0ef"
            ],
            [
             0.5,
             "#f7f7f7"
            ],
            [
             0.6,
             "#e6f5d0"
            ],
            [
             0.7,
             "#b8e186"
            ],
            [
             0.8,
             "#7fbc41"
            ],
            [
             0.9,
             "#4d9221"
            ],
            [
             1,
             "#276419"
            ]
           ]
          },
          "xaxis": {
           "gridcolor": "#283442",
           "linecolor": "#506784",
           "ticks": "",
           "title": {
            "standoff": 15
           },
           "zerolinecolor": "#283442",
           "automargin": true,
           "zerolinewidth": 2
          },
          "yaxis": {
           "gridcolor": "#283442",
           "linecolor": "#506784",
           "ticks": "",
           "title": {
            "standoff": 15
           },
           "zerolinecolor": "#283442",
           "automargin": true,
           "zerolinewidth": 2
          },
          "scene": {
           "xaxis": {
            "backgroundcolor": "rgb(17,17,17)",
            "gridcolor": "#506784",
            "linecolor": "#506784",
            "showbackground": true,
            "ticks": "",
            "zerolinecolor": "#C8D4E3",
            "gridwidth": 2
           },
           "yaxis": {
            "backgroundcolor": "rgb(17,17,17)",
            "gridcolor": "#506784",
            "linecolor": "#506784",
            "showbackground": true,
            "ticks": "",
            "zerolinecolor": "#C8D4E3",
            "gridwidth": 2
           },
           "zaxis": {
            "backgroundcolor": "rgb(17,17,17)",
            "gridcolor": "#506784",
            "linecolor": "#506784",
            "showbackground": true,
            "ticks": "",
            "zerolinecolor": "#C8D4E3",
            "gridwidth": 2
           }
          },
          "shapedefaults": {
           "line": {
            "color": "#f2f5fa"
           }
          },
          "annotationdefaults": {
           "arrowcolor": "#f2f5fa",
           "arrowhead": 0,
           "arrowwidth": 1
          },
          "geo": {
           "bgcolor": "rgb(17,17,17)",
           "landcolor": "rgb(17,17,17)",
           "subunitcolor": "#506784",
           "showland": true,
           "showlakes": true,
           "lakecolor": "rgb(17,17,17)"
          },
          "title": {
           "x": 0.05
          },
          "updatemenudefaults": {
           "bgcolor": "#506784",
           "borderwidth": 0
          },
          "sliderdefaults": {
           "bgcolor": "#C8D4E3",
           "borderwidth": 1,
           "bordercolor": "rgb(17,17,17)",
           "tickwidth": 0
          },
          "mapbox": {
           "style": "dark"
          }
         }
        },
        "xaxis": {
         "anchor": "y",
         "domain": [
          0.0,
          1.0
         ],
         "title": {
          "text": "letter_frequency"
         }
        },
        "yaxis": {
         "anchor": "x",
         "domain": [
          0.0,
          1.0
         ],
         "title": {
          "text": "top3_tfidf_frequency"
         }
        },
        "legend": {
         "title": {
          "text": "category"
         },
         "tracegroupgap": 0
        },
        "title": {
         "text": "Top 3 Tf-idf vs Letter Frequency"
        },
        "height": 500,
        "width": 1000
       },
       "config": {
        "plotlyServerURL": "https://plot.ly"
       }
      },
      "text/html": [
       "<div>                            <div id=\"c5081a08-198e-4635-b9b9-f29df9d2e270\" class=\"plotly-graph-div\" style=\"height:500px; width:1000px;\"></div>            <script type=\"text/javascript\">                require([\"plotly\"], function(Plotly) {                    window.PLOTLYENV=window.PLOTLYENV || {};                                    if (document.getElementById(\"c5081a08-198e-4635-b9b9-f29df9d2e270\")) {                    Plotly.newPlot(                        \"c5081a08-198e-4635-b9b9-f29df9d2e270\",                        [{\"hovertemplate\":\"\\u003cb\\u003e%{hovertext}\\u003c\\u002fb\\u003e\\u003cbr\\u003e\\u003cbr\\u003ecategory=Consonant\\u003cbr\\u003eletter_frequency=%{x}\\u003cbr\\u003etop3_tfidf_frequency=%{y}\\u003cextra\\u003e\\u003c\\u002fextra\\u003e\",\"hovertext\":[\"F\",\"V\",\"W\",\"B\",\"K\",\"M\",\"P\",\"G\",\"C\",\"D\",\"Y\",\"J\",\"H\",\"Z\",\"X\",\"Q\"],\"legendgroup\":\"Consonant\",\"marker\":{\"color\":\"red\",\"symbol\":\"circle\"},\"mode\":\"markers\",\"name\":\"Consonant\",\"orientation\":\"v\",\"showlegend\":true,\"x\":[738,383,526,1003,705,989,1182,1183,1681,1364,767,154,1287,123,97,59],\"xaxis\":\"x\",\"y\":[552.0,355.0,469.0,708.0,582.0,697.0,635.0,541.0,428.0,365.0,594.0,144.0,377.0,94.0,94.0,59.0],\"yaxis\":\"y\",\"type\":\"scatter\"},{\"hovertemplate\":\"\\u003cb\\u003eOLS trendline\\u003c\\u002fb\\u003e\\u003cbr\\u003etop3_tfidf_frequency = 0.277874 * letter_frequency + 205.784\\u003cbr\\u003eR\\u003csup\\u003e2\\u003c\\u002fsup\\u003e=0.411418\\u003cbr\\u003e\\u003cbr\\u003ecategory=Consonant\\u003cbr\\u003eletter_frequency=%{x}\\u003cbr\\u003etop3_tfidf_frequency=%{y} \\u003cb\\u003e(trend)\\u003c\\u002fb\\u003e\\u003cextra\\u003e\\u003c\\u002fextra\\u003e\",\"legendgroup\":\"Consonant\",\"marker\":{\"color\":\"red\",\"symbol\":\"circle\"},\"mode\":\"lines\",\"name\":\"Consonant\",\"showlegend\":false,\"x\":[59,97,123,154,383,526,705,738,767,989,1003,1182,1183,1287,1364,1681],\"xaxis\":\"x\",\"y\":[222.17879872390745,232.73799942992358,239.9627157024609,248.57680048894778,312.2098784278345,351.9458179267899,401.6852107261817,410.8550429182484,418.91338029915545,480.6013423185128,484.49157415757145,534.2309669569632,534.5088406597531,563.4077057499026,584.8039808647247,672.8899446491225],\"yaxis\":\"y\",\"type\":\"scatter\"},{\"hovertemplate\":\"\\u003cb\\u003e%{hovertext}\\u003c\\u002fb\\u003e\\u003cbr\\u003e\\u003cbr\\u003ecategory=RSTLNE\\u003cbr\\u003eletter_frequency=%{x}\\u003cbr\\u003etop3_tfidf_frequency=%{y}\\u003cextra\\u003e\\u003c\\u002fextra\\u003e\",\"hovertext\":[\"L\",\"T\",\"N\",\"S\",\"R\",\"E\"],\"legendgroup\":\"RSTLNE\",\"marker\":{\"color\":\"green\",\"symbol\":\"circle\"},\"mode\":\"markers\",\"name\":\"RSTLNE\",\"orientation\":\"v\",\"showlegend\":true,\"x\":[1786,2276,2335,2324,2531,3742],\"xaxis\":\"x\",\"y\":[433.0,384.0,364.0,337.0,224.0,99.0],\"yaxis\":\"y\",\"type\":\"scatter\"},{\"hovertemplate\":\"\\u003cb\\u003eOLS trendline\\u003c\\u002fb\\u003e\\u003cbr\\u003etop3_tfidf_frequency = -0.177087 * letter_frequency + 749.373\\u003cbr\\u003eR\\u003csup\\u003e2\\u003c\\u002fsup\\u003e=0.890722\\u003cbr\\u003e\\u003cbr\\u003ecategory=RSTLNE\\u003cbr\\u003eletter_frequency=%{x}\\u003cbr\\u003etop3_tfidf_frequency=%{y} \\u003cb\\u003e(trend)\\u003c\\u002fb\\u003e\\u003cextra\\u003e\\u003c\\u002fextra\\u003e\",\"legendgroup\":\"RSTLNE\",\"marker\":{\"color\":\"green\",\"symbol\":\"circle\"},\"mode\":\"lines\",\"name\":\"RSTLNE\",\"showlegend\":false,\"x\":[1786,2276,2324,2335,2531,3742],\"xaxis\":\"x\",\"y\":[433.0961825273909,346.3236774711664,337.8235137105566,335.87555951541685,301.16655749292704,86.71450928254342],\"yaxis\":\"y\",\"type\":\"scatter\"},{\"hovertemplate\":\"\\u003cb\\u003e%{hovertext}\\u003c\\u002fb\\u003e\\u003cbr\\u003e\\u003cbr\\u003ecategory=Vowel\\u003cbr\\u003eletter_frequency=%{x}\\u003cbr\\u003etop3_tfidf_frequency=%{y}\\u003cextra\\u003e\\u003c\\u002fextra\\u003e\",\"hovertext\":[\"U\",\"O\",\"I\",\"A\"],\"legendgroup\":\"Vowel\",\"marker\":{\"color\":\"blue\",\"symbol\":\"circle\"},\"mode\":\"markers\",\"name\":\"Vowel\",\"orientation\":\"v\",\"showlegend\":true,\"x\":[1230,2811,2661,3435],\"xaxis\":\"x\",\"y\":[425.0,222.0,197.0,124.0],\"yaxis\":\"y\",\"type\":\"scatter\"},{\"hovertemplate\":\"\\u003cb\\u003eOLS trendline\\u003c\\u002fb\\u003e\\u003cbr\\u003etop3_tfidf_frequency = -0.136735 * letter_frequency + 588.521\\u003cbr\\u003eR\\u003csup\\u003e2\\u003c\\u002fsup\\u003e=0.977280\\u003cbr\\u003e\\u003cbr\\u003ecategory=Vowel\\u003cbr\\u003eletter_frequency=%{x}\\u003cbr\\u003etop3_tfidf_frequency=%{y} \\u003cb\\u003e(trend)\\u003c\\u002fb\\u003e\\u003cextra\\u003e\\u003c\\u002fextra\\u003e\",\"legendgroup\":\"Vowel\",\"marker\":{\"color\":\"blue\",\"symbol\":\"circle\"},\"mode\":\"lines\",\"name\":\"Vowel\",\"showlegend\":false,\"x\":[1230,2661,2811,3435],\"xaxis\":\"x\",\"y\":[420.33667584778516,224.66883368701815,204.15857769532352,118.83591276987374],\"yaxis\":\"y\",\"type\":\"scatter\"},{\"hovertemplate\":\"\\u003cb\\u003e%{hovertext}\\u003c\\u002fb\\u003e\\u003cbr\\u003e\\u003cbr\\u003ecategory=Miscellaneous\\u003cbr\\u003eletter_frequency=%{x}\\u003cbr\\u003etop3_tfidf_frequency=%{y}\\u003cextra\\u003e\\u003c\\u002fextra\\u003e\",\"hovertext\":[\"-\",\"'\",\"&\",\"!\",\".\",\"?\",\"\\\"\",\"2\",\"`\",\"n\",\"s\",\" \",\"a\",\"m\",\"p\",\";\",\"e\",\"i\",\"g\"],\"legendgroup\":\"Miscellaneous\",\"marker\":{\"color\":\"gray\",\"symbol\":\"circle\"},\"mode\":\"markers\",\"name\":\"Miscellaneous\",\"orientation\":\"v\",\"showlegend\":true,\"x\":[87,47,35,9,8,3,1,1,1,3,1,3339,35,35,35,35,1,2,2],\"xaxis\":\"x\",\"y\":[79.0,46.0,29.0,9.0,8.0,3.0,1.0,1.0,1.0,2.0,1.0,0.0,2.0,34.0,20.0,14.0,1.0,2.0,0.0],\"yaxis\":\"y\",\"type\":\"scatter\"},{\"hovertemplate\":\"\\u003cb\\u003eOLS trendline\\u003c\\u002fb\\u003e\\u003cbr\\u003etop3_tfidf_frequency = -0.00347611 * letter_frequency + 13.9891\\u003cbr\\u003eR\\u003csup\\u003e2\\u003c\\u002fsup\\u003e=0.016292\\u003cbr\\u003e\\u003cbr\\u003ecategory=Miscellaneous\\u003cbr\\u003eletter_frequency=%{x}\\u003cbr\\u003etop3_tfidf_frequency=%{y} \\u003cb\\u003e(trend)\\u003c\\u002fb\\u003e\\u003cextra\\u003e\\u003c\\u002fextra\\u003e\",\"legendgroup\":\"Miscellaneous\",\"marker\":{\"color\":\"gray\",\"symbol\":\"circle\"},\"mode\":\"lines\",\"name\":\"Miscellaneous\",\"showlegend\":false,\"x\":[1,1,1,1,1,2,2,3,3,8,9,35,35,35,35,35,47,87,3339],\"xaxis\":\"x\",\"y\":[13.985580283454674,13.985580283454674,13.985580283454674,13.985580283454674,13.985580283454674,13.982104177094216,13.982104177094216,13.978628070733757,13.978628070733757,13.961247538931465,13.957771432571006,13.867392667199084,13.867392667199084,13.867392667199084,13.867392667199084,13.867392667199084,13.825679390873582,13.686635136455239,2.3823372522440494],\"yaxis\":\"y\",\"type\":\"scatter\"}],                        {\"template\":{\"data\":{\"histogram2dcontour\":[{\"type\":\"histogram2dcontour\",\"colorbar\":{\"outlinewidth\":0,\"ticks\":\"\"},\"colorscale\":[[0.0,\"#0d0887\"],[0.1111111111111111,\"#46039f\"],[0.2222222222222222,\"#7201a8\"],[0.3333333333333333,\"#9c179e\"],[0.4444444444444444,\"#bd3786\"],[0.5555555555555556,\"#d8576b\"],[0.6666666666666666,\"#ed7953\"],[0.7777777777777778,\"#fb9f3a\"],[0.8888888888888888,\"#fdca26\"],[1.0,\"#f0f921\"]]}],\"choropleth\":[{\"type\":\"choropleth\",\"colorbar\":{\"outlinewidth\":0,\"ticks\":\"\"}}],\"histogram2d\":[{\"type\":\"histogram2d\",\"colorbar\":{\"outlinewidth\":0,\"ticks\":\"\"},\"colorscale\":[[0.0,\"#0d0887\"],[0.1111111111111111,\"#46039f\"],[0.2222222222222222,\"#7201a8\"],[0.3333333333333333,\"#9c179e\"],[0.4444444444444444,\"#bd3786\"],[0.5555555555555556,\"#d8576b\"],[0.6666666666666666,\"#ed7953\"],[0.7777777777777778,\"#fb9f3a\"],[0.8888888888888888,\"#fdca26\"],[1.0,\"#f0f921\"]]}],\"heatmap\":[{\"type\":\"heatmap\",\"colorbar\":{\"outlinewidth\":0,\"ticks\":\"\"},\"colorscale\":[[0.0,\"#0d0887\"],[0.1111111111111111,\"#46039f\"],[0.2222222222222222,\"#7201a8\"],[0.3333333333333333,\"#9c179e\"],[0.4444444444444444,\"#bd3786\"],[0.5555555555555556,\"#d8576b\"],[0.6666666666666666,\"#ed7953\"],[0.7777777777777778,\"#fb9f3a\"],[0.8888888888888888,\"#fdca26\"],[1.0,\"#f0f921\"]]}],\"heatmapgl\":[{\"type\":\"heatmapgl\",\"colorbar\":{\"outlinewidth\":0,\"ticks\":\"\"},\"colorscale\":[[0.0,\"#0d0887\"],[0.1111111111111111,\"#46039f\"],[0.2222222222222222,\"#7201a8\"],[0.3333333333333333,\"#9c179e\"],[0.4444444444444444,\"#bd3786\"],[0.5555555555555556,\"#d8576b\"],[0.6666666666666666,\"#ed7953\"],[0.7777777777777778,\"#fb9f3a\"],[0.8888888888888888,\"#fdca26\"],[1.0,\"#f0f921\"]]}],\"contourcarpet\":[{\"type\":\"contourcarpet\",\"colorbar\":{\"outlinewidth\":0,\"ticks\":\"\"}}],\"contour\":[{\"type\":\"contour\",\"colorbar\":{\"outlinewidth\":0,\"ticks\":\"\"},\"colorscale\":[[0.0,\"#0d0887\"],[0.1111111111111111,\"#46039f\"],[0.2222222222222222,\"#7201a8\"],[0.3333333333333333,\"#9c179e\"],[0.4444444444444444,\"#bd3786\"],[0.5555555555555556,\"#d8576b\"],[0.6666666666666666,\"#ed7953\"],[0.7777777777777778,\"#fb9f3a\"],[0.8888888888888888,\"#fdca26\"],[1.0,\"#f0f921\"]]}],\"surface\":[{\"type\":\"surface\",\"colorbar\":{\"outlinewidth\":0,\"ticks\":\"\"},\"colorscale\":[[0.0,\"#0d0887\"],[0.1111111111111111,\"#46039f\"],[0.2222222222222222,\"#7201a8\"],[0.3333333333333333,\"#9c179e\"],[0.4444444444444444,\"#bd3786\"],[0.5555555555555556,\"#d8576b\"],[0.6666666666666666,\"#ed7953\"],[0.7777777777777778,\"#fb9f3a\"],[0.8888888888888888,\"#fdca26\"],[1.0,\"#f0f921\"]]}],\"mesh3d\":[{\"type\":\"mesh3d\",\"colorbar\":{\"outlinewidth\":0,\"ticks\":\"\"}}],\"scatter\":[{\"marker\":{\"line\":{\"color\":\"#283442\"}},\"type\":\"scatter\"}],\"parcoords\":[{\"type\":\"parcoords\",\"line\":{\"colorbar\":{\"outlinewidth\":0,\"ticks\":\"\"}}}],\"scatterpolargl\":[{\"type\":\"scatterpolargl\",\"marker\":{\"colorbar\":{\"outlinewidth\":0,\"ticks\":\"\"}}}],\"bar\":[{\"error_x\":{\"color\":\"#f2f5fa\"},\"error_y\":{\"color\":\"#f2f5fa\"},\"marker\":{\"line\":{\"color\":\"rgb(17,17,17)\",\"width\":0.5},\"pattern\":{\"fillmode\":\"overlay\",\"size\":10,\"solidity\":0.2}},\"type\":\"bar\"}],\"scattergeo\":[{\"type\":\"scattergeo\",\"marker\":{\"colorbar\":{\"outlinewidth\":0,\"ticks\":\"\"}}}],\"scatterpolar\":[{\"type\":\"scatterpolar\",\"marker\":{\"colorbar\":{\"outlinewidth\":0,\"ticks\":\"\"}}}],\"histogram\":[{\"marker\":{\"pattern\":{\"fillmode\":\"overlay\",\"size\":10,\"solidity\":0.2}},\"type\":\"histogram\"}],\"scattergl\":[{\"marker\":{\"line\":{\"color\":\"#283442\"}},\"type\":\"scattergl\"}],\"scatter3d\":[{\"type\":\"scatter3d\",\"line\":{\"colorbar\":{\"outlinewidth\":0,\"ticks\":\"\"}},\"marker\":{\"colorbar\":{\"outlinewidth\":0,\"ticks\":\"\"}}}],\"scattermapbox\":[{\"type\":\"scattermapbox\",\"marker\":{\"colorbar\":{\"outlinewidth\":0,\"ticks\":\"\"}}}],\"scatterternary\":[{\"type\":\"scatterternary\",\"marker\":{\"colorbar\":{\"outlinewidth\":0,\"ticks\":\"\"}}}],\"scattercarpet\":[{\"type\":\"scattercarpet\",\"marker\":{\"colorbar\":{\"outlinewidth\":0,\"ticks\":\"\"}}}],\"carpet\":[{\"aaxis\":{\"endlinecolor\":\"#A2B1C6\",\"gridcolor\":\"#506784\",\"linecolor\":\"#506784\",\"minorgridcolor\":\"#506784\",\"startlinecolor\":\"#A2B1C6\"},\"baxis\":{\"endlinecolor\":\"#A2B1C6\",\"gridcolor\":\"#506784\",\"linecolor\":\"#506784\",\"minorgridcolor\":\"#506784\",\"startlinecolor\":\"#A2B1C6\"},\"type\":\"carpet\"}],\"table\":[{\"cells\":{\"fill\":{\"color\":\"#506784\"},\"line\":{\"color\":\"rgb(17,17,17)\"}},\"header\":{\"fill\":{\"color\":\"#2a3f5f\"},\"line\":{\"color\":\"rgb(17,17,17)\"}},\"type\":\"table\"}],\"barpolar\":[{\"marker\":{\"line\":{\"color\":\"rgb(17,17,17)\",\"width\":0.5},\"pattern\":{\"fillmode\":\"overlay\",\"size\":10,\"solidity\":0.2}},\"type\":\"barpolar\"}],\"pie\":[{\"automargin\":true,\"type\":\"pie\"}]},\"layout\":{\"autotypenumbers\":\"strict\",\"colorway\":[\"#636efa\",\"#EF553B\",\"#00cc96\",\"#ab63fa\",\"#FFA15A\",\"#19d3f3\",\"#FF6692\",\"#B6E880\",\"#FF97FF\",\"#FECB52\"],\"font\":{\"color\":\"#f2f5fa\"},\"hovermode\":\"closest\",\"hoverlabel\":{\"align\":\"left\"},\"paper_bgcolor\":\"rgb(17,17,17)\",\"plot_bgcolor\":\"rgb(17,17,17)\",\"polar\":{\"bgcolor\":\"rgb(17,17,17)\",\"angularaxis\":{\"gridcolor\":\"#506784\",\"linecolor\":\"#506784\",\"ticks\":\"\"},\"radialaxis\":{\"gridcolor\":\"#506784\",\"linecolor\":\"#506784\",\"ticks\":\"\"}},\"ternary\":{\"bgcolor\":\"rgb(17,17,17)\",\"aaxis\":{\"gridcolor\":\"#506784\",\"linecolor\":\"#506784\",\"ticks\":\"\"},\"baxis\":{\"gridcolor\":\"#506784\",\"linecolor\":\"#506784\",\"ticks\":\"\"},\"caxis\":{\"gridcolor\":\"#506784\",\"linecolor\":\"#506784\",\"ticks\":\"\"}},\"coloraxis\":{\"colorbar\":{\"outlinewidth\":0,\"ticks\":\"\"}},\"colorscale\":{\"sequential\":[[0.0,\"#0d0887\"],[0.1111111111111111,\"#46039f\"],[0.2222222222222222,\"#7201a8\"],[0.3333333333333333,\"#9c179e\"],[0.4444444444444444,\"#bd3786\"],[0.5555555555555556,\"#d8576b\"],[0.6666666666666666,\"#ed7953\"],[0.7777777777777778,\"#fb9f3a\"],[0.8888888888888888,\"#fdca26\"],[1.0,\"#f0f921\"]],\"sequentialminus\":[[0.0,\"#0d0887\"],[0.1111111111111111,\"#46039f\"],[0.2222222222222222,\"#7201a8\"],[0.3333333333333333,\"#9c179e\"],[0.4444444444444444,\"#bd3786\"],[0.5555555555555556,\"#d8576b\"],[0.6666666666666666,\"#ed7953\"],[0.7777777777777778,\"#fb9f3a\"],[0.8888888888888888,\"#fdca26\"],[1.0,\"#f0f921\"]],\"diverging\":[[0,\"#8e0152\"],[0.1,\"#c51b7d\"],[0.2,\"#de77ae\"],[0.3,\"#f1b6da\"],[0.4,\"#fde0ef\"],[0.5,\"#f7f7f7\"],[0.6,\"#e6f5d0\"],[0.7,\"#b8e186\"],[0.8,\"#7fbc41\"],[0.9,\"#4d9221\"],[1,\"#276419\"]]},\"xaxis\":{\"gridcolor\":\"#283442\",\"linecolor\":\"#506784\",\"ticks\":\"\",\"title\":{\"standoff\":15},\"zerolinecolor\":\"#283442\",\"automargin\":true,\"zerolinewidth\":2},\"yaxis\":{\"gridcolor\":\"#283442\",\"linecolor\":\"#506784\",\"ticks\":\"\",\"title\":{\"standoff\":15},\"zerolinecolor\":\"#283442\",\"automargin\":true,\"zerolinewidth\":2},\"scene\":{\"xaxis\":{\"backgroundcolor\":\"rgb(17,17,17)\",\"gridcolor\":\"#506784\",\"linecolor\":\"#506784\",\"showbackground\":true,\"ticks\":\"\",\"zerolinecolor\":\"#C8D4E3\",\"gridwidth\":2},\"yaxis\":{\"backgroundcolor\":\"rgb(17,17,17)\",\"gridcolor\":\"#506784\",\"linecolor\":\"#506784\",\"showbackground\":true,\"ticks\":\"\",\"zerolinecolor\":\"#C8D4E3\",\"gridwidth\":2},\"zaxis\":{\"backgroundcolor\":\"rgb(17,17,17)\",\"gridcolor\":\"#506784\",\"linecolor\":\"#506784\",\"showbackground\":true,\"ticks\":\"\",\"zerolinecolor\":\"#C8D4E3\",\"gridwidth\":2}},\"shapedefaults\":{\"line\":{\"color\":\"#f2f5fa\"}},\"annotationdefaults\":{\"arrowcolor\":\"#f2f5fa\",\"arrowhead\":0,\"arrowwidth\":1},\"geo\":{\"bgcolor\":\"rgb(17,17,17)\",\"landcolor\":\"rgb(17,17,17)\",\"subunitcolor\":\"#506784\",\"showland\":true,\"showlakes\":true,\"lakecolor\":\"rgb(17,17,17)\"},\"title\":{\"x\":0.05},\"updatemenudefaults\":{\"bgcolor\":\"#506784\",\"borderwidth\":0},\"sliderdefaults\":{\"bgcolor\":\"#C8D4E3\",\"borderwidth\":1,\"bordercolor\":\"rgb(17,17,17)\",\"tickwidth\":0},\"mapbox\":{\"style\":\"dark\"}}},\"xaxis\":{\"anchor\":\"y\",\"domain\":[0.0,1.0],\"title\":{\"text\":\"letter_frequency\"}},\"yaxis\":{\"anchor\":\"x\",\"domain\":[0.0,1.0],\"title\":{\"text\":\"top3_tfidf_frequency\"}},\"legend\":{\"title\":{\"text\":\"category\"},\"tracegroupgap\":0},\"title\":{\"text\":\"Top 3 Tf-idf vs Letter Frequency\"},\"height\":500,\"width\":1000},                        {\"responsive\": true}                    ).then(function(){\n",
       "                            \n",
       "var gd = document.getElementById('c5081a08-198e-4635-b9b9-f29df9d2e270');\n",
       "var x = new MutationObserver(function (mutations, observer) {{\n",
       "        var display = window.getComputedStyle(gd).display;\n",
       "        if (!display || display === 'none') {{\n",
       "            console.log([gd, 'removed!']);\n",
       "            Plotly.purge(gd);\n",
       "            observer.disconnect();\n",
       "        }}\n",
       "}});\n",
       "\n",
       "// Listen for the removal of the full notebook cells\n",
       "var notebookContainer = gd.closest('#notebook-container');\n",
       "if (notebookContainer) {{\n",
       "    x.observe(notebookContainer, {childList: true});\n",
       "}}\n",
       "\n",
       "// Listen for the clearing of the current output cell\n",
       "var outputEl = gd.closest('.output');\n",
       "if (outputEl) {{\n",
       "    x.observe(outputEl, {childList: true});\n",
       "}}\n",
       "\n",
       "                        })                };                });            </script>        </div>"
      ]
     },
     "metadata": {},
     "output_type": "display_data"
    }
   ],
   "execution_count": 37
  },
  {
   "metadata": {},
   "cell_type": "markdown",
   "source": [
    "With the top 3 most important letters counted, 'B', 'M', and 'P' now become the most frequent important letters. They are also more commonly seen in puzzles than the previous 'F', 'W', and 'V'. \n",
    "\n",
    "Because of this, 'B', 'M', 'P' and 'U' are probabilistically the most helpful guesses a contestant can give in the final round. For a safer approach, one could do 'C', 'H', 'D', and any other vowel. "
   ]
  },
  {
   "metadata": {
    "ExecuteTime": {
     "end_time": "2024-07-13T23:34:59.690523Z",
     "start_time": "2024-07-13T23:34:59.687334Z"
    }
   },
   "cell_type": "code",
   "source": "",
   "outputs": [],
   "execution_count": 33
  }
 ],
 "metadata": {
  "kernelspec": {
   "display_name": "Python 3",
   "language": "python",
   "name": "python3"
  },
  "language_info": {
   "codemirror_mode": {
    "name": "ipython",
    "version": 2
   },
   "file_extension": ".py",
   "mimetype": "text/x-python",
   "name": "python",
   "nbconvert_exporter": "python",
   "pygments_lexer": "ipython2",
   "version": "2.7.6"
  }
 },
 "nbformat": 4,
 "nbformat_minor": 0
}
