{
 "cells": [
  {
   "cell_type": "code",
   "execution_count": 16,
   "metadata": {
    "collapsed": true
   },
   "outputs": [],
   "source": [
    "import numpy as np\n",
    "import pandas as pd"
   ]
  },
  {
   "cell_type": "code",
   "execution_count": 17,
   "outputs": [
    {
     "data": {
      "text/plain": "      Round             Category           Line1   Line2 Line3\n0       2.0                Thing            GALE   WINDS   NaN\n1       2.0               Phrase    A CHEAP SHOT     NaN   NaN\n2       2.0               Phrase     A GREAT BUY     NaN   NaN\n3       2.0               Phrase  A KODAK MOMENT     NaN   NaN\n4       2.0                Event      A LONG HOT  SHOWER   NaN\n...     ...                  ...             ...     ...   ...\n3251    2.0         Living Thing           GREAT    DANE   NaN\n3252    2.0                Event        SURPRISE   PARTY   NaN\n3253    2.0                Event          GARAGE    SALE   NaN\n3254    2.0       In The Kitchen         TOASTER    OVEN   NaN\n3255    2.0  Fictional Character           BETTY    BOOP   NaN\n\n[3256 rows x 5 columns]",
      "text/html": "<div>\n<style scoped>\n    .dataframe tbody tr th:only-of-type {\n        vertical-align: middle;\n    }\n\n    .dataframe tbody tr th {\n        vertical-align: top;\n    }\n\n    .dataframe thead th {\n        text-align: right;\n    }\n</style>\n<table border=\"1\" class=\"dataframe\">\n  <thead>\n    <tr style=\"text-align: right;\">\n      <th></th>\n      <th>Round</th>\n      <th>Category</th>\n      <th>Line1</th>\n      <th>Line2</th>\n      <th>Line3</th>\n    </tr>\n  </thead>\n  <tbody>\n    <tr>\n      <th>0</th>\n      <td>2.0</td>\n      <td>Thing</td>\n      <td>GALE</td>\n      <td>WINDS</td>\n      <td>NaN</td>\n    </tr>\n    <tr>\n      <th>1</th>\n      <td>2.0</td>\n      <td>Phrase</td>\n      <td>A CHEAP SHOT</td>\n      <td>NaN</td>\n      <td>NaN</td>\n    </tr>\n    <tr>\n      <th>2</th>\n      <td>2.0</td>\n      <td>Phrase</td>\n      <td>A GREAT BUY</td>\n      <td>NaN</td>\n      <td>NaN</td>\n    </tr>\n    <tr>\n      <th>3</th>\n      <td>2.0</td>\n      <td>Phrase</td>\n      <td>A KODAK MOMENT</td>\n      <td>NaN</td>\n      <td>NaN</td>\n    </tr>\n    <tr>\n      <th>4</th>\n      <td>2.0</td>\n      <td>Event</td>\n      <td>A LONG HOT</td>\n      <td>SHOWER</td>\n      <td>NaN</td>\n    </tr>\n    <tr>\n      <th>...</th>\n      <td>...</td>\n      <td>...</td>\n      <td>...</td>\n      <td>...</td>\n      <td>...</td>\n    </tr>\n    <tr>\n      <th>3251</th>\n      <td>2.0</td>\n      <td>Living Thing</td>\n      <td>GREAT</td>\n      <td>DANE</td>\n      <td>NaN</td>\n    </tr>\n    <tr>\n      <th>3252</th>\n      <td>2.0</td>\n      <td>Event</td>\n      <td>SURPRISE</td>\n      <td>PARTY</td>\n      <td>NaN</td>\n    </tr>\n    <tr>\n      <th>3253</th>\n      <td>2.0</td>\n      <td>Event</td>\n      <td>GARAGE</td>\n      <td>SALE</td>\n      <td>NaN</td>\n    </tr>\n    <tr>\n      <th>3254</th>\n      <td>2.0</td>\n      <td>In The Kitchen</td>\n      <td>TOASTER</td>\n      <td>OVEN</td>\n      <td>NaN</td>\n    </tr>\n    <tr>\n      <th>3255</th>\n      <td>2.0</td>\n      <td>Fictional Character</td>\n      <td>BETTY</td>\n      <td>BOOP</td>\n      <td>NaN</td>\n    </tr>\n  </tbody>\n</table>\n<p>3256 rows × 5 columns</p>\n</div>"
     },
     "execution_count": 17,
     "metadata": {},
     "output_type": "execute_result"
    }
   ],
   "source": [
    "original = pd.read_csv(\"tableConvert.com_lvm0s9.csv\")\n",
    "original.columns = ['Round', 'Category', 'Line1', 'Line2', 'Line3']\n",
    "original"
   ],
   "metadata": {
    "collapsed": false
   }
  },
  {
   "cell_type": "code",
   "execution_count": 18,
   "outputs": [
    {
     "data": {
      "text/plain": "                 Category           Line1   Line2 Line3\n0                   Thing            GALE   WINDS   NaN\n1                  Phrase    A CHEAP SHOT     NaN   NaN\n2                  Phrase     A GREAT BUY     NaN   NaN\n3                  Phrase  A KODAK MOMENT     NaN   NaN\n4                   Event      A LONG HOT  SHOWER   NaN\n...                   ...             ...     ...   ...\n3251         Living Thing           GREAT    DANE   NaN\n3252                Event        SURPRISE   PARTY   NaN\n3253                Event          GARAGE    SALE   NaN\n3254       In The Kitchen         TOASTER    OVEN   NaN\n3255  Fictional Character           BETTY    BOOP   NaN\n\n[3256 rows x 4 columns]",
      "text/html": "<div>\n<style scoped>\n    .dataframe tbody tr th:only-of-type {\n        vertical-align: middle;\n    }\n\n    .dataframe tbody tr th {\n        vertical-align: top;\n    }\n\n    .dataframe thead th {\n        text-align: right;\n    }\n</style>\n<table border=\"1\" class=\"dataframe\">\n  <thead>\n    <tr style=\"text-align: right;\">\n      <th></th>\n      <th>Category</th>\n      <th>Line1</th>\n      <th>Line2</th>\n      <th>Line3</th>\n    </tr>\n  </thead>\n  <tbody>\n    <tr>\n      <th>0</th>\n      <td>Thing</td>\n      <td>GALE</td>\n      <td>WINDS</td>\n      <td>NaN</td>\n    </tr>\n    <tr>\n      <th>1</th>\n      <td>Phrase</td>\n      <td>A CHEAP SHOT</td>\n      <td>NaN</td>\n      <td>NaN</td>\n    </tr>\n    <tr>\n      <th>2</th>\n      <td>Phrase</td>\n      <td>A GREAT BUY</td>\n      <td>NaN</td>\n      <td>NaN</td>\n    </tr>\n    <tr>\n      <th>3</th>\n      <td>Phrase</td>\n      <td>A KODAK MOMENT</td>\n      <td>NaN</td>\n      <td>NaN</td>\n    </tr>\n    <tr>\n      <th>4</th>\n      <td>Event</td>\n      <td>A LONG HOT</td>\n      <td>SHOWER</td>\n      <td>NaN</td>\n    </tr>\n    <tr>\n      <th>...</th>\n      <td>...</td>\n      <td>...</td>\n      <td>...</td>\n      <td>...</td>\n    </tr>\n    <tr>\n      <th>3251</th>\n      <td>Living Thing</td>\n      <td>GREAT</td>\n      <td>DANE</td>\n      <td>NaN</td>\n    </tr>\n    <tr>\n      <th>3252</th>\n      <td>Event</td>\n      <td>SURPRISE</td>\n      <td>PARTY</td>\n      <td>NaN</td>\n    </tr>\n    <tr>\n      <th>3253</th>\n      <td>Event</td>\n      <td>GARAGE</td>\n      <td>SALE</td>\n      <td>NaN</td>\n    </tr>\n    <tr>\n      <th>3254</th>\n      <td>In The Kitchen</td>\n      <td>TOASTER</td>\n      <td>OVEN</td>\n      <td>NaN</td>\n    </tr>\n    <tr>\n      <th>3255</th>\n      <td>Fictional Character</td>\n      <td>BETTY</td>\n      <td>BOOP</td>\n      <td>NaN</td>\n    </tr>\n  </tbody>\n</table>\n<p>3256 rows × 4 columns</p>\n</div>"
     },
     "execution_count": 18,
     "metadata": {},
     "output_type": "execute_result"
    }
   ],
   "source": [
    "original.drop([\"Round\"], axis=1)"
   ],
   "metadata": {
    "collapsed": false
   }
  },
  {
   "cell_type": "code",
   "execution_count": 19,
   "outputs": [
    {
     "data": {
      "text/plain": "                 Category\n0                   Thing\n1                  Phrase\n2                  Phrase\n3                  Phrase\n4                   Event\n...                   ...\n3251         Living Thing\n3252                Event\n3253                Event\n3254       In The Kitchen\n3255  Fictional Character\n\n[3256 rows x 1 columns]",
      "text/html": "<div>\n<style scoped>\n    .dataframe tbody tr th:only-of-type {\n        vertical-align: middle;\n    }\n\n    .dataframe tbody tr th {\n        vertical-align: top;\n    }\n\n    .dataframe thead th {\n        text-align: right;\n    }\n</style>\n<table border=\"1\" class=\"dataframe\">\n  <thead>\n    <tr style=\"text-align: right;\">\n      <th></th>\n      <th>Category</th>\n    </tr>\n  </thead>\n  <tbody>\n    <tr>\n      <th>0</th>\n      <td>Thing</td>\n    </tr>\n    <tr>\n      <th>1</th>\n      <td>Phrase</td>\n    </tr>\n    <tr>\n      <th>2</th>\n      <td>Phrase</td>\n    </tr>\n    <tr>\n      <th>3</th>\n      <td>Phrase</td>\n    </tr>\n    <tr>\n      <th>4</th>\n      <td>Event</td>\n    </tr>\n    <tr>\n      <th>...</th>\n      <td>...</td>\n    </tr>\n    <tr>\n      <th>3251</th>\n      <td>Living Thing</td>\n    </tr>\n    <tr>\n      <th>3252</th>\n      <td>Event</td>\n    </tr>\n    <tr>\n      <th>3253</th>\n      <td>Event</td>\n    </tr>\n    <tr>\n      <th>3254</th>\n      <td>In The Kitchen</td>\n    </tr>\n    <tr>\n      <th>3255</th>\n      <td>Fictional Character</td>\n    </tr>\n  </tbody>\n</table>\n<p>3256 rows × 1 columns</p>\n</div>"
     },
     "execution_count": 19,
     "metadata": {},
     "output_type": "execute_result"
    }
   ],
   "source": [
    "new = original[\"Category\"]\n",
    "new = new.to_frame()\n",
    "new"
   ],
   "metadata": {
    "collapsed": false
   }
  },
  {
   "cell_type": "code",
   "execution_count": 20,
   "outputs": [
    {
     "data": {
      "text/plain": "                 Category             Answer\n0                   Thing         GALE WINDS\n1                  Phrase       A CHEAP SHOT\n2                  Phrase        A GREAT BUY\n3                  Phrase     A KODAK MOMENT\n4                   Event  A LONG HOT SHOWER\n...                   ...                ...\n3251         Living Thing         GREAT DANE\n3252                Event     SURPRISE PARTY\n3253                Event        GARAGE SALE\n3254       In The Kitchen       TOASTER OVEN\n3255  Fictional Character         BETTY BOOP\n\n[3256 rows x 2 columns]",
      "text/html": "<div>\n<style scoped>\n    .dataframe tbody tr th:only-of-type {\n        vertical-align: middle;\n    }\n\n    .dataframe tbody tr th {\n        vertical-align: top;\n    }\n\n    .dataframe thead th {\n        text-align: right;\n    }\n</style>\n<table border=\"1\" class=\"dataframe\">\n  <thead>\n    <tr style=\"text-align: right;\">\n      <th></th>\n      <th>Category</th>\n      <th>Answer</th>\n    </tr>\n  </thead>\n  <tbody>\n    <tr>\n      <th>0</th>\n      <td>Thing</td>\n      <td>GALE WINDS</td>\n    </tr>\n    <tr>\n      <th>1</th>\n      <td>Phrase</td>\n      <td>A CHEAP SHOT</td>\n    </tr>\n    <tr>\n      <th>2</th>\n      <td>Phrase</td>\n      <td>A GREAT BUY</td>\n    </tr>\n    <tr>\n      <th>3</th>\n      <td>Phrase</td>\n      <td>A KODAK MOMENT</td>\n    </tr>\n    <tr>\n      <th>4</th>\n      <td>Event</td>\n      <td>A LONG HOT SHOWER</td>\n    </tr>\n    <tr>\n      <th>...</th>\n      <td>...</td>\n      <td>...</td>\n    </tr>\n    <tr>\n      <th>3251</th>\n      <td>Living Thing</td>\n      <td>GREAT DANE</td>\n    </tr>\n    <tr>\n      <th>3252</th>\n      <td>Event</td>\n      <td>SURPRISE PARTY</td>\n    </tr>\n    <tr>\n      <th>3253</th>\n      <td>Event</td>\n      <td>GARAGE SALE</td>\n    </tr>\n    <tr>\n      <th>3254</th>\n      <td>In The Kitchen</td>\n      <td>TOASTER OVEN</td>\n    </tr>\n    <tr>\n      <th>3255</th>\n      <td>Fictional Character</td>\n      <td>BETTY BOOP</td>\n    </tr>\n  </tbody>\n</table>\n<p>3256 rows × 2 columns</p>\n</div>"
     },
     "execution_count": 20,
     "metadata": {},
     "output_type": "execute_result"
    }
   ],
   "source": [
    "new[\"Answer\"] = (original['Line1'].fillna('') + ' ' + original['Line2'].fillna('') + ' ' + original['Line3'].fillna('')).str.strip(' ')\n",
    "new"
   ],
   "metadata": {
    "collapsed": false
   }
  },
  {
   "cell_type": "code",
   "execution_count": 21,
   "outputs": [
    {
     "data": {
      "text/plain": "                 Category             Answer\n0                   Thing         GALE WINDS\n1                  Phrase       A CHEAP SHOT\n2                  Phrase        A GREAT BUY\n3                  Phrase     A KODAK MOMENT\n4                   Event  A LONG HOT SHOWER\n...                   ...                ...\n3251         Living Thing         GREAT DANE\n3252                Event     SURPRISE PARTY\n3253                Event        GARAGE SALE\n3254       In The Kitchen       TOASTER OVEN\n3255  Fictional Character         BETTY BOOP\n\n[3252 rows x 2 columns]",
      "text/html": "<div>\n<style scoped>\n    .dataframe tbody tr th:only-of-type {\n        vertical-align: middle;\n    }\n\n    .dataframe tbody tr th {\n        vertical-align: top;\n    }\n\n    .dataframe thead th {\n        text-align: right;\n    }\n</style>\n<table border=\"1\" class=\"dataframe\">\n  <thead>\n    <tr style=\"text-align: right;\">\n      <th></th>\n      <th>Category</th>\n      <th>Answer</th>\n    </tr>\n  </thead>\n  <tbody>\n    <tr>\n      <th>0</th>\n      <td>Thing</td>\n      <td>GALE WINDS</td>\n    </tr>\n    <tr>\n      <th>1</th>\n      <td>Phrase</td>\n      <td>A CHEAP SHOT</td>\n    </tr>\n    <tr>\n      <th>2</th>\n      <td>Phrase</td>\n      <td>A GREAT BUY</td>\n    </tr>\n    <tr>\n      <th>3</th>\n      <td>Phrase</td>\n      <td>A KODAK MOMENT</td>\n    </tr>\n    <tr>\n      <th>4</th>\n      <td>Event</td>\n      <td>A LONG HOT SHOWER</td>\n    </tr>\n    <tr>\n      <th>...</th>\n      <td>...</td>\n      <td>...</td>\n    </tr>\n    <tr>\n      <th>3251</th>\n      <td>Living Thing</td>\n      <td>GREAT DANE</td>\n    </tr>\n    <tr>\n      <th>3252</th>\n      <td>Event</td>\n      <td>SURPRISE PARTY</td>\n    </tr>\n    <tr>\n      <th>3253</th>\n      <td>Event</td>\n      <td>GARAGE SALE</td>\n    </tr>\n    <tr>\n      <th>3254</th>\n      <td>In The Kitchen</td>\n      <td>TOASTER OVEN</td>\n    </tr>\n    <tr>\n      <th>3255</th>\n      <td>Fictional Character</td>\n      <td>BETTY BOOP</td>\n    </tr>\n  </tbody>\n</table>\n<p>3252 rows × 2 columns</p>\n</div>"
     },
     "execution_count": 21,
     "metadata": {},
     "output_type": "execute_result"
    }
   ],
   "source": [
    "new.replace('', np.nan, inplace=True)\n",
    "new = new.dropna()\n",
    "new"
   ],
   "metadata": {
    "collapsed": false
   }
  },
  {
   "cell_type": "code",
   "execution_count": 22,
   "outputs": [],
   "source": [
    "new.to_csv(\"combined.csv\")"
   ],
   "metadata": {
    "collapsed": false
   }
  },
  {
   "cell_type": "code",
   "execution_count": 23,
   "outputs": [
    {
     "name": "stdout",
     "output_type": "stream",
     "text": [
      "      Unnamed: 0 Category         Answer\n",
      "2642        2646    Place  BAR AND GRILL\n",
      "Place\n",
      "BAR AND GRILL\n"
     ]
    },
    {
     "data": {
      "text/plain": "      Unnamed: 0 Category         Answer\n2642        2646    Place  BAR AND GRILL",
      "text/html": "<div>\n<style scoped>\n    .dataframe tbody tr th:only-of-type {\n        vertical-align: middle;\n    }\n\n    .dataframe tbody tr th {\n        vertical-align: top;\n    }\n\n    .dataframe thead th {\n        text-align: right;\n    }\n</style>\n<table border=\"1\" class=\"dataframe\">\n  <thead>\n    <tr style=\"text-align: right;\">\n      <th></th>\n      <th>Unnamed: 0</th>\n      <th>Category</th>\n      <th>Answer</th>\n    </tr>\n  </thead>\n  <tbody>\n    <tr>\n      <th>2642</th>\n      <td>2646</td>\n      <td>Place</td>\n      <td>BAR AND GRILL</td>\n    </tr>\n  </tbody>\n</table>\n</div>"
     },
     "execution_count": 23,
     "metadata": {},
     "output_type": "execute_result"
    }
   ],
   "source": [
    "what = pd.read_csv(\"combined.csv\")\n",
    "test = what.sample()\n",
    "print(test)\n",
    "print(test['Category'].iloc[0])\n",
    "print(test['Answer'].iloc[0])\n",
    "test"
   ],
   "metadata": {
    "collapsed": false
   }
  },
  {
   "cell_type": "code",
   "execution_count": 23,
   "outputs": [],
   "source": [],
   "metadata": {
    "collapsed": false
   }
  }
 ],
 "metadata": {
  "kernelspec": {
   "display_name": "Python 3",
   "language": "python",
   "name": "python3"
  },
  "language_info": {
   "codemirror_mode": {
    "name": "ipython",
    "version": 2
   },
   "file_extension": ".py",
   "mimetype": "text/x-python",
   "name": "python",
   "nbconvert_exporter": "python",
   "pygments_lexer": "ipython2",
   "version": "2.7.6"
  }
 },
 "nbformat": 4,
 "nbformat_minor": 0
}
